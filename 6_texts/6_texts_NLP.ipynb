{
 "cells": [
  {
   "cell_type": "markdown",
   "metadata": {},
   "source": [
    "# Домашнее задание 6: классификация текстов"
   ]
  },
  {
   "cell_type": "markdown",
   "metadata": {},
   "source": [
    "В этом домашнем задании вам предстоит построить классификатор текстов!\n",
    "\n",
    "Данные мы будем использовать из Kaggle соревнования: https://www.kaggle.com/competitions/nlp-getting-started/data Оттуда надо скачать файл train.csv. На обучающую и тестовую выборки его поделим кодом ниже, менять его не надо!"
   ]
  },
  {
   "cell_type": "markdown",
   "metadata": {},
   "source": [
    "Мы будем работать с датасетом постов из твиттера. Нам предстоит решать задачу бинарной классификации - определять содержатся ли в твитте информация о настоящей катастрофе/инциденте или нет."
   ]
  },
  {
   "cell_type": "code",
   "execution_count": 1,
   "metadata": {},
   "outputs": [],
   "source": [
    "import pandas as pd"
   ]
  },
  {
   "cell_type": "code",
   "execution_count": 2,
   "metadata": {},
   "outputs": [],
   "source": [
    "data = pd.read_csv('train.csv')"
   ]
  },
  {
   "cell_type": "code",
   "execution_count": 3,
   "metadata": {},
   "outputs": [
    {
     "name": "stdout",
     "output_type": "stream",
     "text": [
      "(7613, 5)\n"
     ]
    },
    {
     "data": {
      "text/html": [
       "<div>\n",
       "<style scoped>\n",
       "    .dataframe tbody tr th:only-of-type {\n",
       "        vertical-align: middle;\n",
       "    }\n",
       "\n",
       "    .dataframe tbody tr th {\n",
       "        vertical-align: top;\n",
       "    }\n",
       "\n",
       "    .dataframe thead th {\n",
       "        text-align: right;\n",
       "    }\n",
       "</style>\n",
       "<table border=\"1\" class=\"dataframe\">\n",
       "  <thead>\n",
       "    <tr style=\"text-align: right;\">\n",
       "      <th></th>\n",
       "      <th>id</th>\n",
       "      <th>keyword</th>\n",
       "      <th>location</th>\n",
       "      <th>text</th>\n",
       "      <th>target</th>\n",
       "    </tr>\n",
       "  </thead>\n",
       "  <tbody>\n",
       "    <tr>\n",
       "      <th>0</th>\n",
       "      <td>1</td>\n",
       "      <td>NaN</td>\n",
       "      <td>NaN</td>\n",
       "      <td>Our Deeds are the Reason of this #earthquake M...</td>\n",
       "      <td>1</td>\n",
       "    </tr>\n",
       "    <tr>\n",
       "      <th>1</th>\n",
       "      <td>4</td>\n",
       "      <td>NaN</td>\n",
       "      <td>NaN</td>\n",
       "      <td>Forest fire near La Ronge Sask. Canada</td>\n",
       "      <td>1</td>\n",
       "    </tr>\n",
       "    <tr>\n",
       "      <th>2</th>\n",
       "      <td>5</td>\n",
       "      <td>NaN</td>\n",
       "      <td>NaN</td>\n",
       "      <td>All residents asked to 'shelter in place' are ...</td>\n",
       "      <td>1</td>\n",
       "    </tr>\n",
       "    <tr>\n",
       "      <th>3</th>\n",
       "      <td>6</td>\n",
       "      <td>NaN</td>\n",
       "      <td>NaN</td>\n",
       "      <td>13,000 people receive #wildfires evacuation or...</td>\n",
       "      <td>1</td>\n",
       "    </tr>\n",
       "    <tr>\n",
       "      <th>4</th>\n",
       "      <td>7</td>\n",
       "      <td>NaN</td>\n",
       "      <td>NaN</td>\n",
       "      <td>Just got sent this photo from Ruby #Alaska as ...</td>\n",
       "      <td>1</td>\n",
       "    </tr>\n",
       "  </tbody>\n",
       "</table>\n",
       "</div>"
      ],
      "text/plain": [
       "   id keyword location                                               text  \\\n",
       "0   1     NaN      NaN  Our Deeds are the Reason of this #earthquake M...   \n",
       "1   4     NaN      NaN             Forest fire near La Ronge Sask. Canada   \n",
       "2   5     NaN      NaN  All residents asked to 'shelter in place' are ...   \n",
       "3   6     NaN      NaN  13,000 people receive #wildfires evacuation or...   \n",
       "4   7     NaN      NaN  Just got sent this photo from Ruby #Alaska as ...   \n",
       "\n",
       "   target  \n",
       "0       1  \n",
       "1       1  \n",
       "2       1  \n",
       "3       1  \n",
       "4       1  "
      ]
     },
     "execution_count": 3,
     "metadata": {},
     "output_type": "execute_result"
    }
   ],
   "source": [
    "print(data.shape)\n",
    "data.head()"
   ]
  },
  {
   "cell_type": "code",
   "execution_count": 4,
   "metadata": {},
   "outputs": [],
   "source": [
    "from sklearn.model_selection import train_test_split\n",
    "\n",
    "train, test = train_test_split(data, test_size=0.3, random_state=42)"
   ]
  },
  {
   "cell_type": "code",
   "execution_count": 5,
   "metadata": {},
   "outputs": [
    {
     "name": "stdout",
     "output_type": "stream",
     "text": [
      "(5329, 5)\n"
     ]
    },
    {
     "data": {
      "text/html": [
       "<div>\n",
       "<style scoped>\n",
       "    .dataframe tbody tr th:only-of-type {\n",
       "        vertical-align: middle;\n",
       "    }\n",
       "\n",
       "    .dataframe tbody tr th {\n",
       "        vertical-align: top;\n",
       "    }\n",
       "\n",
       "    .dataframe thead th {\n",
       "        text-align: right;\n",
       "    }\n",
       "</style>\n",
       "<table border=\"1\" class=\"dataframe\">\n",
       "  <thead>\n",
       "    <tr style=\"text-align: right;\">\n",
       "      <th></th>\n",
       "      <th>id</th>\n",
       "      <th>keyword</th>\n",
       "      <th>location</th>\n",
       "      <th>text</th>\n",
       "      <th>target</th>\n",
       "    </tr>\n",
       "  </thead>\n",
       "  <tbody>\n",
       "    <tr>\n",
       "      <th>1186</th>\n",
       "      <td>1707</td>\n",
       "      <td>bridge%20collapse</td>\n",
       "      <td>NaN</td>\n",
       "      <td>Ashes 2015: AustraliaÛªs collapse at Trent Br...</td>\n",
       "      <td>0</td>\n",
       "    </tr>\n",
       "    <tr>\n",
       "      <th>4071</th>\n",
       "      <td>5789</td>\n",
       "      <td>hail</td>\n",
       "      <td>Carol Stream, Illinois</td>\n",
       "      <td>GREAT MICHIGAN TECHNIQUE CAMP\\nB1G THANKS TO @...</td>\n",
       "      <td>1</td>\n",
       "    </tr>\n",
       "    <tr>\n",
       "      <th>5461</th>\n",
       "      <td>7789</td>\n",
       "      <td>police</td>\n",
       "      <td>Houston</td>\n",
       "      <td>CNN: Tennessee movie theater shooting suspect ...</td>\n",
       "      <td>1</td>\n",
       "    </tr>\n",
       "    <tr>\n",
       "      <th>5787</th>\n",
       "      <td>8257</td>\n",
       "      <td>rioting</td>\n",
       "      <td>NaN</td>\n",
       "      <td>Still rioting in a couple of hours left until ...</td>\n",
       "      <td>1</td>\n",
       "    </tr>\n",
       "    <tr>\n",
       "      <th>7445</th>\n",
       "      <td>10656</td>\n",
       "      <td>wounds</td>\n",
       "      <td>Lake Highlands</td>\n",
       "      <td>Crack in the path where I wiped out this morni...</td>\n",
       "      <td>0</td>\n",
       "    </tr>\n",
       "  </tbody>\n",
       "</table>\n",
       "</div>"
      ],
      "text/plain": [
       "         id            keyword                location  \\\n",
       "1186   1707  bridge%20collapse                     NaN   \n",
       "4071   5789               hail  Carol Stream, Illinois   \n",
       "5461   7789             police                Houston    \n",
       "5787   8257            rioting                     NaN   \n",
       "7445  10656             wounds          Lake Highlands   \n",
       "\n",
       "                                                   text  target  \n",
       "1186  Ashes 2015: AustraliaÛªs collapse at Trent Br...       0  \n",
       "4071  GREAT MICHIGAN TECHNIQUE CAMP\\nB1G THANKS TO @...       1  \n",
       "5461  CNN: Tennessee movie theater shooting suspect ...       1  \n",
       "5787  Still rioting in a couple of hours left until ...       1  \n",
       "7445  Crack in the path where I wiped out this morni...       0  "
      ]
     },
     "execution_count": 5,
     "metadata": {},
     "output_type": "execute_result"
    }
   ],
   "source": [
    "print(train.shape)\n",
    "train.head()"
   ]
  },
  {
   "cell_type": "code",
   "execution_count": 6,
   "metadata": {},
   "outputs": [
    {
     "name": "stdout",
     "output_type": "stream",
     "text": [
      "(2284, 5)\n"
     ]
    },
    {
     "data": {
      "text/html": [
       "<div>\n",
       "<style scoped>\n",
       "    .dataframe tbody tr th:only-of-type {\n",
       "        vertical-align: middle;\n",
       "    }\n",
       "\n",
       "    .dataframe tbody tr th {\n",
       "        vertical-align: top;\n",
       "    }\n",
       "\n",
       "    .dataframe thead th {\n",
       "        text-align: right;\n",
       "    }\n",
       "</style>\n",
       "<table border=\"1\" class=\"dataframe\">\n",
       "  <thead>\n",
       "    <tr style=\"text-align: right;\">\n",
       "      <th></th>\n",
       "      <th>id</th>\n",
       "      <th>keyword</th>\n",
       "      <th>location</th>\n",
       "      <th>text</th>\n",
       "      <th>target</th>\n",
       "    </tr>\n",
       "  </thead>\n",
       "  <tbody>\n",
       "    <tr>\n",
       "      <th>2644</th>\n",
       "      <td>3796</td>\n",
       "      <td>destruction</td>\n",
       "      <td>NaN</td>\n",
       "      <td>So you have a new weapon that can cause un-ima...</td>\n",
       "      <td>1</td>\n",
       "    </tr>\n",
       "    <tr>\n",
       "      <th>2227</th>\n",
       "      <td>3185</td>\n",
       "      <td>deluge</td>\n",
       "      <td>NaN</td>\n",
       "      <td>The f$&amp;amp;@ing things I do for #GISHWHES Just...</td>\n",
       "      <td>0</td>\n",
       "    </tr>\n",
       "    <tr>\n",
       "      <th>5448</th>\n",
       "      <td>7769</td>\n",
       "      <td>police</td>\n",
       "      <td>UK</td>\n",
       "      <td>DT @georgegalloway: RT @Galloway4Mayor: ÛÏThe...</td>\n",
       "      <td>1</td>\n",
       "    </tr>\n",
       "    <tr>\n",
       "      <th>132</th>\n",
       "      <td>191</td>\n",
       "      <td>aftershock</td>\n",
       "      <td>NaN</td>\n",
       "      <td>Aftershock back to school kick off was great. ...</td>\n",
       "      <td>0</td>\n",
       "    </tr>\n",
       "    <tr>\n",
       "      <th>6845</th>\n",
       "      <td>9810</td>\n",
       "      <td>trauma</td>\n",
       "      <td>Montgomery County, MD</td>\n",
       "      <td>in response to trauma Children of Addicts deve...</td>\n",
       "      <td>0</td>\n",
       "    </tr>\n",
       "  </tbody>\n",
       "</table>\n",
       "</div>"
      ],
      "text/plain": [
       "        id      keyword               location  \\\n",
       "2644  3796  destruction                    NaN   \n",
       "2227  3185       deluge                    NaN   \n",
       "5448  7769       police                     UK   \n",
       "132    191   aftershock                    NaN   \n",
       "6845  9810       trauma  Montgomery County, MD   \n",
       "\n",
       "                                                   text  target  \n",
       "2644  So you have a new weapon that can cause un-ima...       1  \n",
       "2227  The f$&amp;@ing things I do for #GISHWHES Just...       0  \n",
       "5448  DT @georgegalloway: RT @Galloway4Mayor: ÛÏThe...       1  \n",
       "132   Aftershock back to school kick off was great. ...       0  \n",
       "6845  in response to trauma Children of Addicts deve...       0  "
      ]
     },
     "execution_count": 6,
     "metadata": {},
     "output_type": "execute_result"
    }
   ],
   "source": [
    "print(test.shape)\n",
    "test.head()"
   ]
  },
  {
   "cell_type": "markdown",
   "metadata": {},
   "source": [
    "## Задание 1 (0.5 балла)\n",
    "\n",
    "Выведите на экран информацию о пропусках в данных. Если пропуски присутствуют заполните их пустой строкой."
   ]
  },
  {
   "cell_type": "code",
   "execution_count": 7,
   "metadata": {},
   "outputs": [],
   "source": [
    "def delete_txt_missing_values(df) -> pd.core.frame.DataFrame:\n",
    "    return pd.concat([df[[\"id\", \"text\", \"target\"]], df[[\"keyword\", \"location\"]].fillna(\"\")], axis=1)"
   ]
  },
  {
   "cell_type": "code",
   "execution_count": 8,
   "metadata": {},
   "outputs": [
    {
     "data": {
      "text/plain": [
       "id          False\n",
       "keyword      True\n",
       "location     True\n",
       "text        False\n",
       "target      False\n",
       "dtype: bool"
      ]
     },
     "execution_count": 8,
     "metadata": {},
     "output_type": "execute_result"
    }
   ],
   "source": [
    "train.isna().any()"
   ]
  },
  {
   "cell_type": "code",
   "execution_count": 9,
   "metadata": {},
   "outputs": [
    {
     "data": {
      "text/plain": [
       "id          False\n",
       "keyword      True\n",
       "location     True\n",
       "text        False\n",
       "target      False\n",
       "dtype: bool"
      ]
     },
     "execution_count": 9,
     "metadata": {},
     "output_type": "execute_result"
    }
   ],
   "source": [
    "test.isna().any()"
   ]
  },
  {
   "cell_type": "code",
   "execution_count": 10,
   "metadata": {},
   "outputs": [],
   "source": [
    "train = delete_txt_missing_values(train)\n",
    "test = delete_txt_missing_values(test)"
   ]
  },
  {
   "cell_type": "code",
   "execution_count": 11,
   "metadata": {},
   "outputs": [
    {
     "data": {
      "text/plain": [
       "False"
      ]
     },
     "execution_count": 11,
     "metadata": {},
     "output_type": "execute_result"
    }
   ],
   "source": [
    "train.isna().any().any()"
   ]
  },
  {
   "cell_type": "code",
   "execution_count": 12,
   "metadata": {},
   "outputs": [
    {
     "data": {
      "text/plain": [
       "False"
      ]
     },
     "execution_count": 12,
     "metadata": {},
     "output_type": "execute_result"
    }
   ],
   "source": [
    "test.isna().any().any()"
   ]
  },
  {
   "cell_type": "code",
   "execution_count": 13,
   "metadata": {},
   "outputs": [
    {
     "data": {
      "text/html": [
       "<div>\n",
       "<style scoped>\n",
       "    .dataframe tbody tr th:only-of-type {\n",
       "        vertical-align: middle;\n",
       "    }\n",
       "\n",
       "    .dataframe tbody tr th {\n",
       "        vertical-align: top;\n",
       "    }\n",
       "\n",
       "    .dataframe thead th {\n",
       "        text-align: right;\n",
       "    }\n",
       "</style>\n",
       "<table border=\"1\" class=\"dataframe\">\n",
       "  <thead>\n",
       "    <tr style=\"text-align: right;\">\n",
       "      <th></th>\n",
       "      <th>id</th>\n",
       "      <th>text</th>\n",
       "      <th>target</th>\n",
       "      <th>keyword</th>\n",
       "      <th>location</th>\n",
       "    </tr>\n",
       "  </thead>\n",
       "  <tbody>\n",
       "    <tr>\n",
       "      <th>1186</th>\n",
       "      <td>1707</td>\n",
       "      <td>Ashes 2015: AustraliaÛªs collapse at Trent Br...</td>\n",
       "      <td>0</td>\n",
       "      <td>bridge%20collapse</td>\n",
       "      <td></td>\n",
       "    </tr>\n",
       "    <tr>\n",
       "      <th>4071</th>\n",
       "      <td>5789</td>\n",
       "      <td>GREAT MICHIGAN TECHNIQUE CAMP\\nB1G THANKS TO @...</td>\n",
       "      <td>1</td>\n",
       "      <td>hail</td>\n",
       "      <td>Carol Stream, Illinois</td>\n",
       "    </tr>\n",
       "    <tr>\n",
       "      <th>5461</th>\n",
       "      <td>7789</td>\n",
       "      <td>CNN: Tennessee movie theater shooting suspect ...</td>\n",
       "      <td>1</td>\n",
       "      <td>police</td>\n",
       "      <td>Houston</td>\n",
       "    </tr>\n",
       "    <tr>\n",
       "      <th>5787</th>\n",
       "      <td>8257</td>\n",
       "      <td>Still rioting in a couple of hours left until ...</td>\n",
       "      <td>1</td>\n",
       "      <td>rioting</td>\n",
       "      <td></td>\n",
       "    </tr>\n",
       "    <tr>\n",
       "      <th>7445</th>\n",
       "      <td>10656</td>\n",
       "      <td>Crack in the path where I wiped out this morni...</td>\n",
       "      <td>0</td>\n",
       "      <td>wounds</td>\n",
       "      <td>Lake Highlands</td>\n",
       "    </tr>\n",
       "    <tr>\n",
       "      <th>...</th>\n",
       "      <td>...</td>\n",
       "      <td>...</td>\n",
       "      <td>...</td>\n",
       "      <td>...</td>\n",
       "      <td>...</td>\n",
       "    </tr>\n",
       "    <tr>\n",
       "      <th>5226</th>\n",
       "      <td>7470</td>\n",
       "      <td>@Eganator2000 There aren't many Obliteration s...</td>\n",
       "      <td>0</td>\n",
       "      <td>obliteration</td>\n",
       "      <td>Merica!</td>\n",
       "    </tr>\n",
       "    <tr>\n",
       "      <th>5390</th>\n",
       "      <td>7691</td>\n",
       "      <td>just had a panic attack bc I don't have enough...</td>\n",
       "      <td>0</td>\n",
       "      <td>panic</td>\n",
       "      <td></td>\n",
       "    </tr>\n",
       "    <tr>\n",
       "      <th>860</th>\n",
       "      <td>1242</td>\n",
       "      <td>Omron HEM-712C Automatic Blood Pressure Monito...</td>\n",
       "      <td>0</td>\n",
       "      <td>blood</td>\n",
       "      <td></td>\n",
       "    </tr>\n",
       "    <tr>\n",
       "      <th>7603</th>\n",
       "      <td>10862</td>\n",
       "      <td>Officials say a quarantine is in place at an A...</td>\n",
       "      <td>1</td>\n",
       "      <td></td>\n",
       "      <td></td>\n",
       "    </tr>\n",
       "    <tr>\n",
       "      <th>7270</th>\n",
       "      <td>10409</td>\n",
       "      <td>I moved to England five years ago today. What ...</td>\n",
       "      <td>1</td>\n",
       "      <td>whirlwind</td>\n",
       "      <td>Stamford &amp; Cork (&amp; Shropshire)</td>\n",
       "    </tr>\n",
       "  </tbody>\n",
       "</table>\n",
       "<p>5329 rows × 5 columns</p>\n",
       "</div>"
      ],
      "text/plain": [
       "         id                                               text  target  \\\n",
       "1186   1707  Ashes 2015: AustraliaÛªs collapse at Trent Br...       0   \n",
       "4071   5789  GREAT MICHIGAN TECHNIQUE CAMP\\nB1G THANKS TO @...       1   \n",
       "5461   7789  CNN: Tennessee movie theater shooting suspect ...       1   \n",
       "5787   8257  Still rioting in a couple of hours left until ...       1   \n",
       "7445  10656  Crack in the path where I wiped out this morni...       0   \n",
       "...     ...                                                ...     ...   \n",
       "5226   7470  @Eganator2000 There aren't many Obliteration s...       0   \n",
       "5390   7691  just had a panic attack bc I don't have enough...       0   \n",
       "860    1242  Omron HEM-712C Automatic Blood Pressure Monito...       0   \n",
       "7603  10862  Officials say a quarantine is in place at an A...       1   \n",
       "7270  10409  I moved to England five years ago today. What ...       1   \n",
       "\n",
       "                keyword                        location  \n",
       "1186  bridge%20collapse                                  \n",
       "4071               hail          Carol Stream, Illinois  \n",
       "5461             police                        Houston   \n",
       "5787            rioting                                  \n",
       "7445             wounds                  Lake Highlands  \n",
       "...                 ...                             ...  \n",
       "5226       obliteration                         Merica!  \n",
       "5390              panic                                  \n",
       "860               blood                                  \n",
       "7603                                                     \n",
       "7270          whirlwind  Stamford & Cork (& Shropshire)  \n",
       "\n",
       "[5329 rows x 5 columns]"
      ]
     },
     "execution_count": 13,
     "metadata": {},
     "output_type": "execute_result"
    }
   ],
   "source": [
    "train"
   ]
  },
  {
   "cell_type": "markdown",
   "metadata": {},
   "source": [
    "## Задание 2 (1 балл)\n",
    "Давайте немного посмотрим на наши данные. Визуализируйте (где явно просят) или выведите информацию о следующем:\n",
    "\n",
    "1. Какое распределение классов в обучающей выборке?\n",
    "2. Посмотрите на колонку \"keyword\" - возьмите 10 наиболее встречающихся значений, постройте ступенчатую диаграмму распределения классов в зависимости от значения keyword, сделайте выводы."
   ]
  },
  {
   "cell_type": "code",
   "execution_count": 14,
   "metadata": {},
   "outputs": [],
   "source": [
    "import matplotlib.pyplot as plt\n",
    "import numpy as np\n",
    "import seaborn as sns"
   ]
  },
  {
   "cell_type": "code",
   "execution_count": 15,
   "metadata": {},
   "outputs": [
    {
     "data": {
      "text/plain": [
       "0    3024\n",
       "1    2305\n",
       "Name: target, dtype: int64"
      ]
     },
     "execution_count": 15,
     "metadata": {},
     "output_type": "execute_result"
    }
   ],
   "source": [
    "train.target.value_counts()"
   ]
  },
  {
   "cell_type": "code",
   "execution_count": 16,
   "metadata": {},
   "outputs": [
    {
     "data": {
      "image/png": "[encoded data removed]",
      "text/plain": [
       "<Figure size 432x288 with 1 Axes>"
      ]
     },
     "metadata": {
      "needs_background": "light"
     },
     "output_type": "display_data"
    }
   ],
   "source": [
    "fig, ax = plt.subplots()\n",
    "cats = ['0', '1']\n",
    "quan = np.array(train.target.value_counts())\n",
    "ax.bar(cats, quan, color = 'moccasin', width = 0.9)\n",
    "sns.set(font_scale=1.1)\n",
    "plt.title(\"Category distribution\")\n",
    "plt.xlabel(\"Categories\")\n",
    "plt.ylabel(\"Number of cases\")\n",
    "plt.grid(True)"
   ]
  },
  {
   "cell_type": "code",
   "execution_count": 17,
   "metadata": {},
   "outputs": [],
   "source": [
    "most_popular_keywords = list(pd.DataFrame(train.keyword.value_counts()[:10]).index)"
   ]
  },
  {
   "cell_type": "code",
   "execution_count": 18,
   "metadata": {},
   "outputs": [],
   "source": [
    "one_of = np.full((train.shape[0],), False)\n",
    "for kw in most_popular_keywords:\n",
    "    one_of = (one_of) | (train.keyword == kw)"
   ]
  },
  {
   "cell_type": "code",
   "execution_count": 19,
   "metadata": {},
   "outputs": [
    {
     "data": {
      "text/plain": [
       "False    4996\n",
       "True      333\n",
       "Name: keyword, dtype: int64"
      ]
     },
     "execution_count": 19,
     "metadata": {},
     "output_type": "execute_result"
    }
   ],
   "source": [
    "one_of.value_counts()"
   ]
  },
  {
   "cell_type": "code",
   "execution_count": 20,
   "metadata": {},
   "outputs": [
    {
     "data": {
      "image/png": "[encoded data removed]",
      "text/plain": [
       "<Figure size 1440x720 with 1 Axes>"
      ]
     },
     "metadata": {},
     "output_type": "display_data"
    }
   ],
   "source": [
    "figure = sns.countplot(data=train[one_of], x=\"keyword\", hue=\"target\", saturation=0.4, palette=\"winter\")\n",
    "figure.figure.set_figwidth(20)\n",
    "figure.figure.set_figheight(10)\n",
    "\n",
    "sns.set(font_scale=1.4)\n",
    "figure.set_title(\"Comparison across numbers of real accidents\")\n",
    "\n",
    "figure.set_ylabel(\"Count\", fontweight=\"bold\")\n",
    "figure.set_xlabel(\"Keywords\", fontweight=\"bold\")\n",
    "\n",
    "plt.show()"
   ]
  },
  {
   "cell_type": "markdown",
   "metadata": {},
   "source": [
    "> Получается, что определённые ключевые слова используются чаще для описания фейковых новостей. В частности, употребление слов _siren_ и _harm_ абсолютно не означают, что что-то действительно произошло. При этом, если используется _крушение_, то имеет место быть реальная катастрофа, т.к. никто не пользовался этим словом, когда  ничего не происходило."
   ]
  },
  {
   "cell_type": "code",
   "execution_count": 21,
   "metadata": {},
   "outputs": [
    {
     "data": {
      "text/html": [
       "<div>\n",
       "<style scoped>\n",
       "    .dataframe tbody tr th:only-of-type {\n",
       "        vertical-align: middle;\n",
       "    }\n",
       "\n",
       "    .dataframe tbody tr th {\n",
       "        vertical-align: top;\n",
       "    }\n",
       "\n",
       "    .dataframe thead th {\n",
       "        text-align: right;\n",
       "    }\n",
       "</style>\n",
       "<table border=\"1\" class=\"dataframe\">\n",
       "  <thead>\n",
       "    <tr style=\"text-align: right;\">\n",
       "      <th></th>\n",
       "      <th>id</th>\n",
       "      <th>text</th>\n",
       "      <th>target</th>\n",
       "      <th>keyword</th>\n",
       "      <th>location</th>\n",
       "    </tr>\n",
       "  </thead>\n",
       "  <tbody>\n",
       "    <tr>\n",
       "      <th>1186</th>\n",
       "      <td>1707</td>\n",
       "      <td>Ashes 2015: AustraliaÛªs collapse at Trent Br...</td>\n",
       "      <td>0</td>\n",
       "      <td>bridge%20collapse</td>\n",
       "      <td></td>\n",
       "    </tr>\n",
       "    <tr>\n",
       "      <th>4071</th>\n",
       "      <td>5789</td>\n",
       "      <td>GREAT MICHIGAN TECHNIQUE CAMP\\nB1G THANKS TO @...</td>\n",
       "      <td>1</td>\n",
       "      <td>hail</td>\n",
       "      <td>Carol Stream, Illinois</td>\n",
       "    </tr>\n",
       "    <tr>\n",
       "      <th>5461</th>\n",
       "      <td>7789</td>\n",
       "      <td>CNN: Tennessee movie theater shooting suspect ...</td>\n",
       "      <td>1</td>\n",
       "      <td>police</td>\n",
       "      <td>Houston</td>\n",
       "    </tr>\n",
       "    <tr>\n",
       "      <th>5787</th>\n",
       "      <td>8257</td>\n",
       "      <td>Still rioting in a couple of hours left until ...</td>\n",
       "      <td>1</td>\n",
       "      <td>rioting</td>\n",
       "      <td></td>\n",
       "    </tr>\n",
       "    <tr>\n",
       "      <th>7445</th>\n",
       "      <td>10656</td>\n",
       "      <td>Crack in the path where I wiped out this morni...</td>\n",
       "      <td>0</td>\n",
       "      <td>wounds</td>\n",
       "      <td>Lake Highlands</td>\n",
       "    </tr>\n",
       "  </tbody>\n",
       "</table>\n",
       "</div>"
      ],
      "text/plain": [
       "         id                                               text  target  \\\n",
       "1186   1707  Ashes 2015: AustraliaÛªs collapse at Trent Br...       0   \n",
       "4071   5789  GREAT MICHIGAN TECHNIQUE CAMP\\nB1G THANKS TO @...       1   \n",
       "5461   7789  CNN: Tennessee movie theater shooting suspect ...       1   \n",
       "5787   8257  Still rioting in a couple of hours left until ...       1   \n",
       "7445  10656  Crack in the path where I wiped out this morni...       0   \n",
       "\n",
       "                keyword                location  \n",
       "1186  bridge%20collapse                          \n",
       "4071               hail  Carol Stream, Illinois  \n",
       "5461             police                Houston   \n",
       "5787            rioting                          \n",
       "7445             wounds          Lake Highlands  "
      ]
     },
     "execution_count": 21,
     "metadata": {},
     "output_type": "execute_result"
    }
   ],
   "source": [
    "train.head()"
   ]
  },
  {
   "cell_type": "markdown",
   "metadata": {},
   "source": [
    "## Задание 3 (0.5 балла) \n",
    "\n",
    "В этом задании предлагается объединить все три текстовых столбца в один (просто сконкатенировать cтроки) и убрать столбец с индексом."
   ]
  },
  {
   "cell_type": "code",
   "execution_count": 22,
   "metadata": {},
   "outputs": [
    {
     "data": {
      "text/html": [
       "<div>\n",
       "<style scoped>\n",
       "    .dataframe tbody tr th:only-of-type {\n",
       "        vertical-align: middle;\n",
       "    }\n",
       "\n",
       "    .dataframe tbody tr th {\n",
       "        vertical-align: top;\n",
       "    }\n",
       "\n",
       "    .dataframe thead th {\n",
       "        text-align: right;\n",
       "    }\n",
       "</style>\n",
       "<table border=\"1\" class=\"dataframe\">\n",
       "  <thead>\n",
       "    <tr style=\"text-align: right;\">\n",
       "      <th></th>\n",
       "      <th>target</th>\n",
       "      <th>text</th>\n",
       "    </tr>\n",
       "  </thead>\n",
       "  <tbody>\n",
       "    <tr>\n",
       "      <th>1186</th>\n",
       "      <td>0</td>\n",
       "      <td>Ashes 2015: AustraliaÛªs collapse at Trent Br...</td>\n",
       "    </tr>\n",
       "    <tr>\n",
       "      <th>4071</th>\n",
       "      <td>1</td>\n",
       "      <td>GREAT MICHIGAN TECHNIQUE CAMP\\nB1G THANKS TO @...</td>\n",
       "    </tr>\n",
       "    <tr>\n",
       "      <th>5461</th>\n",
       "      <td>1</td>\n",
       "      <td>CNN: Tennessee movie theater shooting suspect ...</td>\n",
       "    </tr>\n",
       "    <tr>\n",
       "      <th>5787</th>\n",
       "      <td>1</td>\n",
       "      <td>Still rioting in a couple of hours left until ...</td>\n",
       "    </tr>\n",
       "    <tr>\n",
       "      <th>7445</th>\n",
       "      <td>0</td>\n",
       "      <td>Crack in the path where I wiped out this morni...</td>\n",
       "    </tr>\n",
       "    <tr>\n",
       "      <th>...</th>\n",
       "      <td>...</td>\n",
       "      <td>...</td>\n",
       "    </tr>\n",
       "    <tr>\n",
       "      <th>5226</th>\n",
       "      <td>0</td>\n",
       "      <td>@Eganator2000 There aren't many Obliteration s...</td>\n",
       "    </tr>\n",
       "    <tr>\n",
       "      <th>5390</th>\n",
       "      <td>0</td>\n",
       "      <td>just had a panic attack bc I don't have enough...</td>\n",
       "    </tr>\n",
       "    <tr>\n",
       "      <th>860</th>\n",
       "      <td>0</td>\n",
       "      <td>Omron HEM-712C Automatic Blood Pressure Monito...</td>\n",
       "    </tr>\n",
       "    <tr>\n",
       "      <th>7603</th>\n",
       "      <td>1</td>\n",
       "      <td>Officials say a quarantine is in place at an A...</td>\n",
       "    </tr>\n",
       "    <tr>\n",
       "      <th>7270</th>\n",
       "      <td>1</td>\n",
       "      <td>I moved to England five years ago today. What ...</td>\n",
       "    </tr>\n",
       "  </tbody>\n",
       "</table>\n",
       "<p>5329 rows × 2 columns</p>\n",
       "</div>"
      ],
      "text/plain": [
       "      target                                               text\n",
       "1186       0  Ashes 2015: AustraliaÛªs collapse at Trent Br...\n",
       "4071       1  GREAT MICHIGAN TECHNIQUE CAMP\\nB1G THANKS TO @...\n",
       "5461       1  CNN: Tennessee movie theater shooting suspect ...\n",
       "5787       1  Still rioting in a couple of hours left until ...\n",
       "7445       0  Crack in the path where I wiped out this morni...\n",
       "...      ...                                                ...\n",
       "5226       0  @Eganator2000 There aren't many Obliteration s...\n",
       "5390       0  just had a panic attack bc I don't have enough...\n",
       "860        0  Omron HEM-712C Automatic Blood Pressure Monito...\n",
       "7603       1  Officials say a quarantine is in place at an A...\n",
       "7270       1  I moved to England five years ago today. What ...\n",
       "\n",
       "[5329 rows x 2 columns]"
      ]
     },
     "execution_count": 22,
     "metadata": {},
     "output_type": "execute_result"
    }
   ],
   "source": [
    "train['info'] = train.text + train.keyword + train.location\n",
    "train = train.drop(columns=['text', 'keyword', 'location'])\n",
    "train = train.drop(columns=['id'])\n",
    "\n",
    "train.rename(columns={'info': 'text'}, inplace=True)\n",
    "train"
   ]
  },
  {
   "cell_type": "code",
   "execution_count": 23,
   "metadata": {},
   "outputs": [
    {
     "data": {
      "text/html": [
       "<div>\n",
       "<style scoped>\n",
       "    .dataframe tbody tr th:only-of-type {\n",
       "        vertical-align: middle;\n",
       "    }\n",
       "\n",
       "    .dataframe tbody tr th {\n",
       "        vertical-align: top;\n",
       "    }\n",
       "\n",
       "    .dataframe thead th {\n",
       "        text-align: right;\n",
       "    }\n",
       "</style>\n",
       "<table border=\"1\" class=\"dataframe\">\n",
       "  <thead>\n",
       "    <tr style=\"text-align: right;\">\n",
       "      <th></th>\n",
       "      <th>target</th>\n",
       "      <th>text</th>\n",
       "    </tr>\n",
       "  </thead>\n",
       "  <tbody>\n",
       "    <tr>\n",
       "      <th>2644</th>\n",
       "      <td>1</td>\n",
       "      <td>So you have a new weapon that can cause un-ima...</td>\n",
       "    </tr>\n",
       "    <tr>\n",
       "      <th>2227</th>\n",
       "      <td>0</td>\n",
       "      <td>The f$&amp;amp;@ing things I do for #GISHWHES Just...</td>\n",
       "    </tr>\n",
       "    <tr>\n",
       "      <th>5448</th>\n",
       "      <td>1</td>\n",
       "      <td>DT @georgegalloway: RT @Galloway4Mayor: ÛÏThe...</td>\n",
       "    </tr>\n",
       "    <tr>\n",
       "      <th>132</th>\n",
       "      <td>0</td>\n",
       "      <td>Aftershock back to school kick off was great. ...</td>\n",
       "    </tr>\n",
       "    <tr>\n",
       "      <th>6845</th>\n",
       "      <td>0</td>\n",
       "      <td>in response to trauma Children of Addicts deve...</td>\n",
       "    </tr>\n",
       "    <tr>\n",
       "      <th>...</th>\n",
       "      <td>...</td>\n",
       "      <td>...</td>\n",
       "    </tr>\n",
       "    <tr>\n",
       "      <th>4307</th>\n",
       "      <td>0</td>\n",
       "      <td>New cocktail on the list! El Diablo Mas Verde:...</td>\n",
       "    </tr>\n",
       "    <tr>\n",
       "      <th>3375</th>\n",
       "      <td>1</td>\n",
       "      <td>Bend Post Office roofers cut gas line prompt e...</td>\n",
       "    </tr>\n",
       "    <tr>\n",
       "      <th>1710</th>\n",
       "      <td>1</td>\n",
       "      <td>Monsoon flooding - Monsoon rains have have hit...</td>\n",
       "    </tr>\n",
       "    <tr>\n",
       "      <th>4898</th>\n",
       "      <td>1</td>\n",
       "      <td>Remember this was a massacre of civilians. #Hi...</td>\n",
       "    </tr>\n",
       "    <tr>\n",
       "      <th>6753</th>\n",
       "      <td>1</td>\n",
       "      <td>I liked a @YouTube video http://t.co/itnKBxgWL...</td>\n",
       "    </tr>\n",
       "  </tbody>\n",
       "</table>\n",
       "<p>2284 rows × 2 columns</p>\n",
       "</div>"
      ],
      "text/plain": [
       "      target                                               text\n",
       "2644       1  So you have a new weapon that can cause un-ima...\n",
       "2227       0  The f$&amp;@ing things I do for #GISHWHES Just...\n",
       "5448       1  DT @georgegalloway: RT @Galloway4Mayor: ÛÏThe...\n",
       "132        0  Aftershock back to school kick off was great. ...\n",
       "6845       0  in response to trauma Children of Addicts deve...\n",
       "...      ...                                                ...\n",
       "4307       0  New cocktail on the list! El Diablo Mas Verde:...\n",
       "3375       1  Bend Post Office roofers cut gas line prompt e...\n",
       "1710       1  Monsoon flooding - Monsoon rains have have hit...\n",
       "4898       1  Remember this was a massacre of civilians. #Hi...\n",
       "6753       1  I liked a @YouTube video http://t.co/itnKBxgWL...\n",
       "\n",
       "[2284 rows x 2 columns]"
      ]
     },
     "execution_count": 23,
     "metadata": {},
     "output_type": "execute_result"
    }
   ],
   "source": [
    "test['info'] = test.text + test.keyword + test.location\n",
    "test = test.drop(columns=['text', 'keyword', 'location'])\n",
    "test = test.drop(columns=['id'])\n",
    "\n",
    "test.rename(columns={'info': 'text'}, inplace=True)\n",
    "test"
   ]
  },
  {
   "cell_type": "markdown",
   "metadata": {},
   "source": [
    "## Задание 4 (0.5 балла)\n",
    "\n",
    "Далее мы будем пока работать только с train частью.\n",
    "\n",
    "1. Предобработайте данные (train часть) с помощью CountVectorizer.\n",
    "2. Какого размера получилась матрица?\n"
   ]
  },
  {
   "cell_type": "markdown",
   "metadata": {},
   "source": [
    "> Используется код с [семинара 10](https://github.com/V-Marco/hse_iad4_2022/blob/main/seminar_10/solved_sem10_texts.ipynb) "
   ]
  },
  {
   "cell_type": "code",
   "execution_count": 24,
   "metadata": {},
   "outputs": [],
   "source": [
    "from sklearn.feature_extraction.text import CountVectorizer"
   ]
  },
  {
   "cell_type": "code",
   "execution_count": 25,
   "metadata": {},
   "outputs": [
    {
     "data": {
      "text/html": [
       "<div>\n",
       "<style scoped>\n",
       "    .dataframe tbody tr th:only-of-type {\n",
       "        vertical-align: middle;\n",
       "    }\n",
       "\n",
       "    .dataframe tbody tr th {\n",
       "        vertical-align: top;\n",
       "    }\n",
       "\n",
       "    .dataframe thead th {\n",
       "        text-align: right;\n",
       "    }\n",
       "</style>\n",
       "<table border=\"1\" class=\"dataframe\">\n",
       "  <thead>\n",
       "    <tr style=\"text-align: right;\">\n",
       "      <th></th>\n",
       "      <th>target</th>\n",
       "      <th>text</th>\n",
       "    </tr>\n",
       "  </thead>\n",
       "  <tbody>\n",
       "    <tr>\n",
       "      <th>1186</th>\n",
       "      <td>0</td>\n",
       "      <td>Ashes 2015: AustraliaÛªs collapse at Trent Br...</td>\n",
       "    </tr>\n",
       "    <tr>\n",
       "      <th>4071</th>\n",
       "      <td>1</td>\n",
       "      <td>GREAT MICHIGAN TECHNIQUE CAMP\\nB1G THANKS TO @...</td>\n",
       "    </tr>\n",
       "    <tr>\n",
       "      <th>5461</th>\n",
       "      <td>1</td>\n",
       "      <td>CNN: Tennessee movie theater shooting suspect ...</td>\n",
       "    </tr>\n",
       "    <tr>\n",
       "      <th>5787</th>\n",
       "      <td>1</td>\n",
       "      <td>Still rioting in a couple of hours left until ...</td>\n",
       "    </tr>\n",
       "    <tr>\n",
       "      <th>7445</th>\n",
       "      <td>0</td>\n",
       "      <td>Crack in the path where I wiped out this morni...</td>\n",
       "    </tr>\n",
       "    <tr>\n",
       "      <th>...</th>\n",
       "      <td>...</td>\n",
       "      <td>...</td>\n",
       "    </tr>\n",
       "    <tr>\n",
       "      <th>5226</th>\n",
       "      <td>0</td>\n",
       "      <td>@Eganator2000 There aren't many Obliteration s...</td>\n",
       "    </tr>\n",
       "    <tr>\n",
       "      <th>5390</th>\n",
       "      <td>0</td>\n",
       "      <td>just had a panic attack bc I don't have enough...</td>\n",
       "    </tr>\n",
       "    <tr>\n",
       "      <th>860</th>\n",
       "      <td>0</td>\n",
       "      <td>Omron HEM-712C Automatic Blood Pressure Monito...</td>\n",
       "    </tr>\n",
       "    <tr>\n",
       "      <th>7603</th>\n",
       "      <td>1</td>\n",
       "      <td>Officials say a quarantine is in place at an A...</td>\n",
       "    </tr>\n",
       "    <tr>\n",
       "      <th>7270</th>\n",
       "      <td>1</td>\n",
       "      <td>I moved to England five years ago today. What ...</td>\n",
       "    </tr>\n",
       "  </tbody>\n",
       "</table>\n",
       "<p>5329 rows × 2 columns</p>\n",
       "</div>"
      ],
      "text/plain": [
       "      target                                               text\n",
       "1186       0  Ashes 2015: AustraliaÛªs collapse at Trent Br...\n",
       "4071       1  GREAT MICHIGAN TECHNIQUE CAMP\\nB1G THANKS TO @...\n",
       "5461       1  CNN: Tennessee movie theater shooting suspect ...\n",
       "5787       1  Still rioting in a couple of hours left until ...\n",
       "7445       0  Crack in the path where I wiped out this morni...\n",
       "...      ...                                                ...\n",
       "5226       0  @Eganator2000 There aren't many Obliteration s...\n",
       "5390       0  just had a panic attack bc I don't have enough...\n",
       "860        0  Omron HEM-712C Automatic Blood Pressure Monito...\n",
       "7603       1  Officials say a quarantine is in place at an A...\n",
       "7270       1  I moved to England five years ago today. What ...\n",
       "\n",
       "[5329 rows x 2 columns]"
      ]
     },
     "execution_count": 25,
     "metadata": {},
     "output_type": "execute_result"
    }
   ],
   "source": [
    "train"
   ]
  },
  {
   "cell_type": "code",
   "execution_count": 26,
   "metadata": {},
   "outputs": [],
   "source": [
    "text = np.array(train.text.copy(True))"
   ]
  },
  {
   "cell_type": "code",
   "execution_count": 27,
   "metadata": {},
   "outputs": [
    {
     "data": {
      "text/plain": [
       "(5329,)"
      ]
     },
     "execution_count": 27,
     "metadata": {},
     "output_type": "execute_result"
    }
   ],
   "source": [
    "text.shape"
   ]
  },
  {
   "cell_type": "code",
   "execution_count": 28,
   "metadata": {},
   "outputs": [
    {
     "data": {
      "text/plain": [
       "array(['Ashes 2015: Australia\\x89Ûªs collapse at Trent Bridge among worst in history: England bundled out Australia for 60 ... http://t.co/t5TrhjUAU0bridge%20collapse',\n",
       "       'GREAT MICHIGAN TECHNIQUE CAMP\\nB1G THANKS TO @bmurph1019 \\n@hail_Youtsey . @termn8r13 \\n#GoBlue #WrestleOn http://t.co/OasKgki6QjhailCarol Stream, Illinois'],\n",
       "      dtype=object)"
      ]
     },
     "execution_count": 28,
     "metadata": {},
     "output_type": "execute_result"
    }
   ],
   "source": [
    "text[0: 2]"
   ]
  },
  {
   "cell_type": "code",
   "execution_count": 29,
   "metadata": {},
   "outputs": [],
   "source": [
    "cnt_vec_text = CountVectorizer()\n",
    "X_text = cnt_vec_text.fit_transform(text)"
   ]
  },
  {
   "cell_type": "code",
   "execution_count": 30,
   "metadata": {},
   "outputs": [
    {
     "data": {
      "text/plain": [
       "array(['00', '000', '0000', ..., 'ûókody', 'ûótech', 'ûówounds'],\n",
       "      dtype='<U44')"
      ]
     },
     "execution_count": 30,
     "metadata": {},
     "output_type": "execute_result"
    }
   ],
   "source": [
    "np.array(cnt_vec_text.get_feature_names())"
   ]
  },
  {
   "cell_type": "code",
   "execution_count": 31,
   "metadata": {},
   "outputs": [
    {
     "name": "stdout",
     "output_type": "stream",
     "text": [
      "Matrix size after CountVectorizing = (5329, 19948)\n"
     ]
    },
    {
     "data": {
      "text/plain": [
       "array([[0, 0, 0, ..., 0, 0, 0],\n",
       "       [0, 0, 0, ..., 0, 0, 0],\n",
       "       [0, 0, 0, ..., 0, 0, 0],\n",
       "       ...,\n",
       "       [0, 0, 0, ..., 0, 0, 0],\n",
       "       [0, 0, 0, ..., 0, 0, 0],\n",
       "       [0, 0, 0, ..., 0, 0, 0]], dtype=int64)"
      ]
     },
     "execution_count": 31,
     "metadata": {},
     "output_type": "execute_result"
    }
   ],
   "source": [
    "print(f\"Matrix size after CountVectorizing = {X_text.toarray().shape}\")\n",
    "X_text.toarray()"
   ]
  },
  {
   "cell_type": "markdown",
   "metadata": {},
   "source": [
    "## Задание 5 (1 балл)\n",
    "\n",
    "В предыдущем пункте у вас должна была получиться достаточно большая матрица.\n",
    "Если вы взглянете на текст, то увидите, что там есть множество специальных символов, ссылок и прочего мусора.\n",
    "\n",
    "Давайте также посмотрим на словарь, который получился в результате построения CountVectorizer, его можно найти в поле `vocabulary_` инстанса этого класса. Давайте напишем функцию, которая печатает ответы на следующие вопросы:\n",
    "\n",
    "1. Найдите в этом словаре все слова, которые содержат цифры. Сколько таких слов нашлось?\n",
    "\n",
    "2. Найдите все слова, которые содержат символы пунктуации. Сколько таких слов нашлось? \n",
    "\n",
    "3. Сколько хэштегов (токен начинается на #) и упоминаний (токен начинается на @) осталось в словаре?"
   ]
  },
  {
   "cell_type": "code",
   "execution_count": 32,
   "metadata": {},
   "outputs": [
    {
     "data": {
      "text/plain": [
       "array(['Ashes 2015: Australia\\x89Ûªs collapse at Trent Bridge among worst in history: England bundled out Australia for 60 ... http://t.co/t5TrhjUAU0bridge%20collapse',\n",
       "       'GREAT MICHIGAN TECHNIQUE CAMP\\nB1G THANKS TO @bmurph1019 \\n@hail_Youtsey . @termn8r13 \\n#GoBlue #WrestleOn http://t.co/OasKgki6QjhailCarol Stream, Illinois',\n",
       "       'CNN: Tennessee movie theater shooting suspect killed by police http://t.co/dI8ElZsWNRpoliceHouston ',\n",
       "       ...,\n",
       "       'Omron HEM-712C Automatic Blood Pressure Monitor STANDARD AND LARGE BP CUFFS http://t.co/gJBAInQWN9 http://t.co/jPhgpL1c5xblood',\n",
       "       'Officials say a quarantine is in place at an Alabama home over a possible Ebola case after developing symptoms... http://t.co/rqKK15uhEY',\n",
       "       'I moved to England five years ago today. What a whirlwind of time it has been! http://t.co/eaSlGeA1B7whirlwindStamford & Cork (& Shropshire)'],\n",
       "      dtype=object)"
      ]
     },
     "execution_count": 32,
     "metadata": {},
     "output_type": "execute_result"
    }
   ],
   "source": [
    "text"
   ]
  },
  {
   "cell_type": "code",
   "execution_count": 33,
   "metadata": {},
   "outputs": [],
   "source": [
    "import re\n",
    "import string\n",
    "\n",
    "def analyze_vocabulary(voc: list):\n",
    "    numbers = re.compile('.*\\d+.*')\n",
    "    punct = re.compile('.*[' + string.punctuation + '].*')\n",
    "    hashes_mentions = re.compile('^[#@].*')\n",
    "    \n",
    "    \n",
    "    #  Не проще было всё же сделать цикл, чтобы по нему пройти один раз и сразу всё проверить, чем идти трижды ради того, \n",
    "    #  чтобы этот цикл избежать?\n",
    "    contain_numbers = list(map(lambda token: True if numbers.fullmatch(token) else False, voc))\n",
    "    contain_punctuation = list(map(lambda token: True if punct.fullmatch(token) else False, voc))\n",
    "    hashes_or_mentions = list(map(lambda token: True if hashes_mentions.fullmatch(token) else False, voc))\n",
    "     \n",
    "    return (contain_numbers, contain_punctuation, hashes_or_mentions)"
   ]
  },
  {
   "cell_type": "code",
   "execution_count": 34,
   "metadata": {},
   "outputs": [],
   "source": [
    "nums, punct, hashes = analyze_vocabulary(cnt_vec_text.vocabulary_.keys())"
   ]
  },
  {
   "cell_type": "code",
   "execution_count": 35,
   "metadata": {},
   "outputs": [
    {
     "name": "stdout",
     "output_type": "stream",
     "text": [
      "Contain numbers: (4335,)\n",
      "Contain punctuation: (349,)\n"
     ]
    }
   ],
   "source": [
    "# По-другому подробно не выводится...\n",
    "print(\"Contain numbers:\", (np.array(list(cnt_vec_text.vocabulary_.keys()))[nums]).shape)\n",
    "print(\"Contain punctuation:\", (np.array(list(cnt_vec_text.vocabulary_.keys()))[punct]).shape)"
   ]
  },
  {
   "cell_type": "code",
   "execution_count": 36,
   "metadata": {},
   "outputs": [
    {
     "name": "stdout",
     "output_type": "stream",
     "text": [
      "Contain mentions or tags: (0,)\n"
     ]
    },
    {
     "data": {
      "text/plain": [
       "[]"
      ]
     },
     "execution_count": 36,
     "metadata": {},
     "output_type": "execute_result"
    }
   ],
   "source": [
    "print(\"Contain mentions or tags:\", (np.array(list(cnt_vec_text.vocabulary_.keys()))[hashes]).shape)\n",
    "list(np.array(list(cnt_vec_text.vocabulary_.keys()))[hashes])"
   ]
  },
  {
   "cell_type": "markdown",
   "metadata": {},
   "source": [
    "## Задание 6 (0.5 балла)\n",
    "\n",
    "Вспомним, что на семинаре по текстам мы узнали, что в nltk есть специальный токенизатор для текстов - TweetTokenizer. Попробуем применить CountVectorizer с этим токенизатором. Ответьте на все вопросы из предыдущего пункта для TweetTokenizer и сравните результаты."
   ]
  },
  {
   "cell_type": "code",
   "execution_count": 37,
   "metadata": {},
   "outputs": [],
   "source": [
    "from nltk.tokenize import TweetTokenizer\n",
    "# Чтобы узнать, какие параметры есть у этого токенайзера - используйте help(TweetTokenizer)\n",
    "# Для того, чтобы передать токенайзер в CountVectorizer используйте параметр tokenizer"
   ]
  },
  {
   "cell_type": "code",
   "execution_count": 38,
   "metadata": {},
   "outputs": [
    {
     "name": "stdout",
     "output_type": "stream",
     "text": [
      "Matrix size after TweetTokenizer + CountVectorizing = (5329, 20971)\n"
     ]
    },
    {
     "data": {
      "text/plain": [
       "array([[0, 0, 0, ..., 0, 0, 0],\n",
       "       [0, 0, 0, ..., 0, 0, 0],\n",
       "       [0, 0, 0, ..., 0, 0, 0],\n",
       "       ...,\n",
       "       [0, 0, 0, ..., 0, 0, 0],\n",
       "       [0, 0, 0, ..., 0, 0, 0],\n",
       "       [1, 0, 0, ..., 0, 0, 0]], dtype=int64)"
      ]
     },
     "execution_count": 38,
     "metadata": {},
     "output_type": "execute_result"
    }
   ],
   "source": [
    "tw = TweetTokenizer()\n",
    "\n",
    "cnt_vec_tok = CountVectorizer(tokenizer=TweetTokenizer().tokenize)\n",
    "X_tok = cnt_vec_tok.fit_transform(text)\n",
    "\n",
    "print(f\"Matrix size after TweetTokenizer + CountVectorizing = {X_tok.toarray().shape}\")\n",
    "X_tok.toarray()"
   ]
  },
  {
   "cell_type": "code",
   "execution_count": 39,
   "metadata": {},
   "outputs": [
    {
     "data": {
      "text/plain": [
       "{'ashes': 5046,\n",
       " '2015': 1929,\n",
       " ':': 2649,\n",
       " 'australia': 5152,\n",
       " '\\x89': 20856,\n",
       " 'ûªs': 20939,\n",
       " 'collapse': 6614,\n",
       " 'at': 5081,\n",
       " 'trent': 19650,\n",
       " 'bridge': 5853,\n",
       " 'among': 4796,\n",
       " 'worst': 20610,\n",
       " 'in': 13435,\n",
       " 'history': 9833,\n",
       " 'england': 8178,\n",
       " 'bundled': 5965,\n",
       " 'out': 15986,\n",
       " 'for': 8899,\n",
       " '60': 2501,\n",
       " '...': 1672,\n",
       " 'http://t.co/t5trhjuau0bridge%20collapse': 12348,\n",
       " 'great': 9373,\n",
       " 'michigan': 15025,\n",
       " 'technique': 19147,\n",
       " 'camp': 6091,\n",
       " 'b1g': 5223,\n",
       " 'thanks': 19251,\n",
       " 'to': 19455,\n",
       " '@bmurph1019': 2912,\n",
       " '@hail_youtsey': 3338,\n",
       " '.': 1670,\n",
       " '@termn8r13': 4158,\n",
       " '#goblue': 581,\n",
       " '#wrestleon': 1598,\n",
       " 'http://t.co/oaskgki6qjhailcarol': 11888,\n",
       " 'stream': 18751,\n",
       " ',': 1646,\n",
       " 'illinois': 13386,\n",
       " 'cnn': 6569,\n",
       " 'tennessee': 19184,\n",
       " 'movie': 15301,\n",
       " 'theater': 19266,\n",
       " 'shooting': 18063,\n",
       " 'suspect': 18977,\n",
       " 'killed': 14035,\n",
       " 'by': 6023,\n",
       " 'police': 16504,\n",
       " 'http://t.co/di8elzswnrpolicehouston': 10787,\n",
       " 'still': 18693,\n",
       " 'rioting': 17401,\n",
       " 'a': 4411,\n",
       " 'couple': 6915,\n",
       " 'of': 15782,\n",
       " 'hours': 9961,\n",
       " 'left': 14278,\n",
       " 'until': 19941,\n",
       " 'i': 13318,\n",
       " 'have': 9639,\n",
       " 'be': 5387,\n",
       " 'up': 19946,\n",
       " 'class.rioting': 6501,\n",
       " 'crack': 6943,\n",
       " 'the': 19264,\n",
       " 'path': 16185,\n",
       " 'where': 20413,\n",
       " 'wiped': 20503,\n",
       " 'this': 19327,\n",
       " 'morning': 15248,\n",
       " 'during': 7925,\n",
       " 'beach': 5389,\n",
       " 'run': 17572,\n",
       " 'surface': 18940,\n",
       " 'wounds': 20620,\n",
       " 'on': 15865,\n",
       " 'elbow': 8043,\n",
       " 'and': 4813,\n",
       " 'right': 17383,\n",
       " 'knee': 14074,\n",
       " 'http://t.co/yaqrsximphwoundslake': 12813,\n",
       " 'highlands': 9783,\n",
       " 'experts': 8397,\n",
       " 'france': 8969,\n",
       " 'begin': 5437,\n",
       " 'examining': 8345,\n",
       " 'airplane': 4659,\n",
       " 'debris': 7258,\n",
       " 'found': 8949,\n",
       " 'reunion': 17330,\n",
       " 'island': 13702,\n",
       " 'french': 8998,\n",
       " 'air': 4651,\n",
       " 'accident': 4473,\n",
       " 'http://t.co/tagzbcxfj0': 12356,\n",
       " '#mlbairplane': 877,\n",
       " '%': 1635,\n",
       " '20accidentsomewhere': 1957,\n",
       " 'there': 19293,\n",
       " \"'\": 1637,\n",
       " 'came': 6086,\n",
       " 'kill': 14034,\n",
       " 'indians': 13477,\n",
       " 'fun': 9062,\n",
       " 'video': 20116,\n",
       " 'smirking': 18315,\n",
       " 'remorseless': 17201,\n",
       " 'pakistani': 16081,\n",
       " 'killer': 14036,\n",
       " 'shows': 18097,\n",
       " 'him': 9805,\n",
       " 'boasting': 5700,\n",
       " 'http://t.co/fpjlwoxklgbloodyisolated': 11006,\n",
       " 'city': 6478,\n",
       " 'world': 20592,\n",
       " 'perth': 16303,\n",
       " '@johnsontionne': 3498,\n",
       " 'except': 8350,\n",
       " 'idk': 13354,\n",
       " 'them': 19275,\n",
       " '?': 2673,\n",
       " \"it's\": 13725,\n",
       " 'really': 17047,\n",
       " 'burning': 5980,\n",
       " 'destroy': 7470,\n",
       " 'housedestroyhe': 9965,\n",
       " '/': 1673,\n",
       " 'or': 15933,\n",
       " 'she': 18006,\n",
       " 'her': 9745,\n",
       " '(': 1638,\n",
       " 'ask': 5053,\n",
       " ')': 1642,\n",
       " 'officer': 15796,\n",
       " 'wounded': 20618,\n",
       " 'dead': 7224,\n",
       " 'after': 4595,\n",
       " 'exchanging': 8354,\n",
       " 'shots': 18077,\n",
       " 'http://t.co/xxfk4khbiwwoundedmaracay': 12781,\n",
       " 'y': 20715,\n",
       " 'nirgua': 15556,\n",
       " 'venezuela': 20071,\n",
       " \"i'm\": 13321,\n",
       " 'friggin': 9023,\n",
       " 'wreck': 20639,\n",
       " 'destiel': 7466,\n",
       " 'sucks': 18853,\n",
       " 'read': 17031,\n",
       " 'vine': 20134,\n",
       " 'description': 7434,\n",
       " 'https://t.co/mkx6ux4oztwreck': 13101,\n",
       " 'currently': 7101,\n",
       " 'writing': 20657,\n",
       " 'book': 5748,\n",
       " 'sterling-scott': 18680,\n",
       " 'red': 17098,\n",
       " 'carpet': 6185,\n",
       " 'fundraiser': 9065,\n",
       " 'oso': 15966,\n",
       " 'mudslide': 15326,\n",
       " 'https://t.co/ma4ra7atql': 13097,\n",
       " 'http://t.co/cg579wldnemudslidemalibu/santafe/winning': 10685,\n",
       " '!': 0,\n",
       " '@libertarianluke': 3611,\n",
       " 'all': 4708,\n",
       " 'that': 19254,\n",
       " 'honest': 9897,\n",
       " 'if': 13358,\n",
       " 'people': 16263,\n",
       " 'want': 20241,\n",
       " 'go': 9271,\n",
       " 'rampage': 16962,\n",
       " 'let': 14321,\n",
       " 'use': 20000,\n",
       " 'their': 19273,\n",
       " 'own': 16045,\n",
       " 'hands': 9557,\n",
       " 'feet': 8627,\n",
       " 'no': 15568,\n",
       " 'casualties': 6214,\n",
       " 'casualtiescanadian': 6217,\n",
       " 'bread': 5831,\n",
       " 'http://t.co/7xglah10zl': 10350,\n",
       " 'twelve': 19783,\n",
       " 'feared': 8598,\n",
       " 'ambulance': 4775,\n",
       " 'helicopter': 9720,\n",
       " 'crash': 6956,\n",
       " 'http://t.co/thmblaatzpambulanceamsterdam': 12387,\n",
       " 'got': 9324,\n",
       " 'electrocuted': 8056,\n",
       " 'last': 14206,\n",
       " 'night': 15544,\n",
       " 'work': 20579,\n",
       " 'first': 8758,\n",
       " 'time': 19413,\n",
       " 'my': 15384,\n",
       " 'life': 14349,\n",
       " 'shit': 18042,\n",
       " 'was': 20268,\n",
       " 'weird': 20368,\n",
       " 'some': 18399,\n",
       " 'older': 15847,\n",
       " 'native': 15432,\n",
       " 'australians': 5155,\n",
       " 'believe': 5456,\n",
       " 'oceans': 15772,\n",
       " 'were': 20383,\n",
       " 'created': 6982,\n",
       " 'from': 9027,\n",
       " 'urine': 19985,\n",
       " 'an': 4804,\n",
       " 'angry': 4833,\n",
       " 'god': 9280,\n",
       " 'who': 20435,\n",
       " 'tried': 19664,\n",
       " 'drown': 7860,\n",
       " 'world.drown': 20594,\n",
       " 'architect': 4962,\n",
       " 'behind': 5448,\n",
       " 'kanye': 13955,\n",
       " 'west': 20387,\n",
       " 'volcano': 20175,\n",
       " 'https://t.co/musbik7ejfvolcanowest': 13106,\n",
       " 'coast': 6581,\n",
       " 'cali': 6068,\n",
       " 'usa': 19991,\n",
       " 'india': 13471,\n",
       " 'shud': 18101,\n",
       " 'not': 15623,\n",
       " 'give': 9235,\n",
       " 'any': 4880,\n",
       " 'evidence': 8335,\n",
       " '2': 1904,\n",
       " 'pak.they': 16078,\n",
       " 'will': 20465,\n",
       " 'share': 17991,\n",
       " 'with': 20516,\n",
       " 'terrorists': 19214,\n",
       " '&': 1636,\n",
       " 'next': 15515,\n",
       " 'attack.share': 5102,\n",
       " 'oth': 15970,\n",
       " 'contries': 6826,\n",
       " 'https://t.co/qiopbtiuvuattackmumbai': 13145,\n",
       " 'auth': 5158,\n",
       " 'louis': 14587,\n",
       " 'vuitton': 20194,\n",
       " 'brown': 5898,\n",
       " 'saumur': 17706,\n",
       " '35': 2349,\n",
       " 'cross': 7020,\n",
       " 'body': 5708,\n",
       " 'shoulder': 18080,\n",
       " 'bag': 5259,\n",
       " 'monogram': 15211,\n",
       " '7.23': 2538,\n",
       " '419-3': 2409,\n",
       " '-': 1647,\n",
       " 'full': 9058,\n",
       " 'û_': 20891,\n",
       " 'http://t.co/hcdiwe5flc': 11182,\n",
       " 'http://t.co/zlvebeoavgbody%20bagnew': 12925,\n",
       " 'york': 20768,\n",
       " 'episode': 8224,\n",
       " 'trunks': 19712,\n",
       " 'annihilated': 4845,\n",
       " 'freiza': 8996,\n",
       " 'is': 13690,\n",
       " 'cleanest': 6506,\n",
       " 'ever': 8317,\n",
       " 'he': 9656,\n",
       " 'showed': 18093,\n",
       " 'nigga': 15540,\n",
       " 'mercy': 14972,\n",
       " 'annihilatedhigher': 4848,\n",
       " 'places': 16411,\n",
       " '@roughdeal1': 3981,\n",
       " 'ante': 4864,\n",
       " 'hudhud': 13248,\n",
       " 'cyclone': 7122,\n",
       " 'chandrababu': 6329,\n",
       " 'valle': 20037,\n",
       " 'ne': 15457,\n",
       " 'ga': 9094,\n",
       " 'cyclonehyderabad': 7124,\n",
       " '@zhenghxn': 4400,\n",
       " '11': 1774,\n",
       " 'eyes': 8446,\n",
       " 'akame': 4669,\n",
       " 'tokyo': 19476,\n",
       " 'ghoul': 9210,\n",
       " 'damn': 7158,\n",
       " 'bloody': 5668,\n",
       " 'dont': 7759,\n",
       " 'dare': 7182,\n",
       " 'watch': 20281,\n",
       " '65': 2519,\n",
       " '@rayquazaerk': 3932,\n",
       " 'are': 4964,\n",
       " 'christian': 6444,\n",
       " 'sure': 18932,\n",
       " 'but': 6009,\n",
       " \"don't\": 7749,\n",
       " 'suicide': 18867,\n",
       " 'bombing': 5736,\n",
       " 'employed': 8130,\n",
       " 'often': 15813,\n",
       " 'as': 5035,\n",
       " 'it': 13723,\n",
       " 'islamic': 13700,\n",
       " 'groups.suicide': 9415,\n",
       " '20bombingprincipality': 2003,\n",
       " 'zeron': 20831,\n",
       " '@jackmulholland1': 3449,\n",
       " 'think': 19318,\n",
       " 'also': 4748,\n",
       " 'became': 5414,\n",
       " 'marquis': 14787,\n",
       " 'then': 19286,\n",
       " 'carlos': 6177,\n",
       " \"charlie's\": 6352,\n",
       " 'finally': 8704,\n",
       " \"dublin's\": 7894,\n",
       " 'sadly': 17620,\n",
       " 'demolished.demolished': 7359,\n",
       " 'surf': 18939,\n",
       " 'hi': 9768,\n",
       " 'waimea': 20206,\n",
       " 'bay': 5373,\n",
       " 'like': 14376,\n",
       " 'inundated': 13631,\n",
       " 'surfers': 18941,\n",
       " 'https://t.co/czdw8oowa2inundated': 13025,\n",
       " 'motorcyclist': 15280,\n",
       " 'bicyclist': 5522,\n",
       " 'injured': 13525,\n",
       " 'denver': 7388,\n",
       " 'collision': 6645,\n",
       " 'broadway': 5883,\n",
       " 'http://t.co/zl7ojdaj3ucollisiondenver': 12921,\n",
       " 'colorado': 6660,\n",
       " 'maryland': 14797,\n",
       " 'mansion': 14751,\n",
       " 'fire': 8728,\n",
       " '6': 2496,\n",
       " 'caused': 6256,\n",
       " 'damaged': 7146,\n",
       " 'plug': 16467,\n",
       " 'under': 19878,\n",
       " 'christmas': 6447,\n",
       " 'tree': 19639,\n",
       " 'report': 17233,\n",
       " 'says': 17718,\n",
       " 'into': 13625,\n",
       " 'flames': 8782,\n",
       " 'http://t.co/lkjfabqzb3flamessomewhere': 11608,\n",
       " 'around': 5010,\n",
       " 'you': 20773,\n",
       " 'going': 9287,\n",
       " 'demolish': 7356,\n",
       " \"drake's\": 7807,\n",
       " 'house': 9963,\n",
       " 'over': 16023,\n",
       " 'ghostwriting': 9209,\n",
       " 'should': 18078,\n",
       " 'know': 14087,\n",
       " 'rihanna': 17389,\n",
       " 'lives': 14445,\n",
       " 'door.demolishnyhc': 7762,\n",
       " '@1acd4900c1424d1': 2679,\n",
       " '@foxnews': 3267,\n",
       " 'one': 15870,\n",
       " 'down': 7782,\n",
       " 'buildings': 5946,\n",
       " 'looting.buildings': 14563,\n",
       " '20burninggo': 2030,\n",
       " 'blue': 5686,\n",
       " 'hail': 9516,\n",
       " 'yes': 20749,\n",
       " 'forest': 8914,\n",
       " 'fires': 8750,\n",
       " 'dying': 7937,\n",
       " 'salmon': 17644,\n",
       " 'act': 4509,\n",
       " 'deny': 7389,\n",
       " 'climate': 6530,\n",
       " 'change': 6330,\n",
       " 'nightmares': 15546,\n",
       " 'here': 9746,\n",
       " 'http://t.co/rbzomwgjee': 12180,\n",
       " '#bcpoli': 167,\n",
       " '#canpoli': 268,\n",
       " '#vanpoliforest': 1515,\n",
       " '20firesnicola': 2115,\n",
       " 'valley': 20038,\n",
       " 'http://t.co/ns1aggfnxz': 11838,\n",
       " '#shoes': 1271,\n",
       " 'asics': 5051,\n",
       " 'gt-ii': 9429,\n",
       " 'super': 18907,\n",
       " '2.0': 1906,\n",
       " 'ronnie': 17490,\n",
       " 'fieg': 8673,\n",
       " 'kith': 14068,\n",
       " 'white': 20431,\n",
       " '3m': 2380,\n",
       " 'x': 20684,\n",
       " 'gel': 9167,\n",
       " 'grey': 9392,\n",
       " 'http://t.co/od250zshfyvolcano': 11896,\n",
       " 'airport': 4662,\n",
       " 'get': 9198,\n",
       " 'swallowed': 18988,\n",
       " 'sandstorm': 17674,\n",
       " 'minute': 15115,\n",
       " 'http://t.co/wd9odwjj9lsandstorm': 12644,\n",
       " '#tweetlikeitsseptember11th2001': 1482,\n",
       " 'those': 19335,\n",
       " 'two': 19804,\n",
       " 'firebuildings': 8734,\n",
       " '20on': 2150,\n",
       " '20fireuk': 2124,\n",
       " 'california': 6070,\n",
       " 'oil': 15822,\n",
       " 'spill': 18527,\n",
       " 'might': 15053,\n",
       " 'larger': 14200,\n",
       " 'than': 19245,\n",
       " 'projected': 16725,\n",
       " 'http://t.co/xwxbyhtuzc': 12780,\n",
       " 'http://t.co/wzedxefblgoil%20spillnew': 12705,\n",
       " 'ny': 15702,\n",
       " 'cartoon': 6196,\n",
       " 'bears': 5395,\n",
       " 'without': 20521,\n",
       " 'we': 20314,\n",
       " 'would': 20612,\n",
       " 'qave': 16862,\n",
       " 'knowlddge': 14091,\n",
       " 'toilet': 19473,\n",
       " 'paper.forest': 16127,\n",
       " '20fires': 2099,\n",
       " '@_gaabyx': 2706,\n",
       " 'purple': 16839,\n",
       " 'activist': 4521,\n",
       " 'thought': 19340,\n",
       " 'droughtdroughtmiami': 7855,\n",
       " '@buffoonmike': 2941,\n",
       " 'knew': 14076,\n",
       " 'mo': 15165,\n",
       " 'doing': 7733,\n",
       " 'much': 15321,\n",
       " 'bite': 5574,\n",
       " 'us': 19988,\n",
       " 'influenced': 13512,\n",
       " 'shitty': 18053,\n",
       " 'staff': 18602,\n",
       " 'injuries': 13529,\n",
       " 'acquisitionsinjuriesmadison': 4504,\n",
       " 'wi': 20449,\n",
       " 'st': 18596,\n",
       " '@toddstarnes': 4217,\n",
       " 'enjoy': 8185,\n",
       " 'impending': 13415,\n",
       " 'landslide': 14178,\n",
       " 'todd': 19464,\n",
       " 'hehe': 9709,\n",
       " 'landslideaustin': 14179,\n",
       " 'texas': 19231,\n",
       " 'look': 14547,\n",
       " 'grizzly': 9402,\n",
       " 'peak': 16236,\n",
       " 'now': 15651,\n",
       " 'looks': 14551,\n",
       " 'beginning': 5439,\n",
       " 'dystopian': 7940,\n",
       " 'apocalypse': 4902,\n",
       " 'movieapocalypseoregon': 15302,\n",
       " 'ignition': 13367,\n",
       " 'knock': 14082,\n",
       " 'detonation': 7508,\n",
       " 'sensor-senso': 17901,\n",
       " 'standard': 18614,\n",
       " 'ks100': 14117,\n",
       " 'http://t.co/7o4lnfbe7k': 10346,\n",
       " 'http://t.co/fvzsgjtbewdetonation': 11030,\n",
       " 'week': 20356,\n",
       " 'responders': 17288,\n",
       " 'dart': 7189,\n",
       " 'members': 14950,\n",
       " 'participating': 16160,\n",
       " 'four': 8953,\n",
       " 'day': 7207,\n",
       " 'intensive': 13596,\n",
       " 'technical': 19145,\n",
       " 'large': 14199,\n",
       " 'animal': 4834,\n",
       " 'http://t.co/tl93aod3erfirst%20responders': 12399,\n",
       " 'lot': 14579,\n",
       " '20': 1914,\n",
       " 'tom': 19481,\n",
       " 'clancy': 6496,\n",
       " 'military': 15067,\n",
       " 'mystery': 15392,\n",
       " 'novels': 15649,\n",
       " 'paperback': 16128,\n",
       " 'http://t.co/obix79ncxn': 11891,\n",
       " '#tomclancymilitary': 1431,\n",
       " 'why': 20446,\n",
       " 'drowning': 7867,\n",
       " 'low': 14599,\n",
       " 'self-image': 17873,\n",
       " 'take': 19070,\n",
       " 'quiz': 16899,\n",
       " 'http://t.co/z8r6r3nbtb': 12889,\n",
       " 'http://t.co/namffldh5hdrowningcoventry': 11781,\n",
       " 'gonna': 9298,\n",
       " 'fight': 8681,\n",
       " 'taylor': 19119,\n",
       " 'soon': 18431,\n",
       " 'apocalypsecolorado': 4905,\n",
       " 'wish': 20511,\n",
       " 'could': 6901,\n",
       " \"victoria's\": 20107,\n",
       " 'secret': 17831,\n",
       " 'front': 9028,\n",
       " 'good': 9299,\n",
       " 'it.dangerhailing': 13730,\n",
       " 'dayton': 7215,\n",
       " 'spot': 18555,\n",
       " 'flood': 8828,\n",
       " 'combo': 6669,\n",
       " '53inch': 2469,\n",
       " '300w': 2326,\n",
       " 'curved': 7105,\n",
       " 'cree': 6991,\n",
       " 'led': 14272,\n",
       " 'light': 14363,\n",
       " 'bar': 5308,\n",
       " '4x4': 2442,\n",
       " 'offroad': 15808,\n",
       " 'fog': 8867,\n",
       " 'lamp': 14163,\n",
       " 're': 17017,\n",
       " 'http://t.co/o097vsotxk': 11864,\n",
       " 'http://t.co/i23xy7iejjfloodnew': 11256,\n",
       " 'severe': 17950,\n",
       " 'weather': 20340,\n",
       " 'bulletin': 5954,\n",
       " '5': 2444,\n",
       " 'typhoon': 19818,\n",
       " 'ûï': 20944,\n",
       " '#hannaph': 617,\n",
       " 'û': 20890,\n",
       " '\\x9d': 20858,\n",
       " 'soudelor': 18450,\n",
       " 'tropical': 19688,\n",
       " 'warning': 20256,\n",
       " 'issued': 13717,\n",
       " '5:00': 2485,\n",
       " 'pm': 16474,\n",
       " '06': 1701,\n",
       " 'http://t.co/thhjjw51pe': 12386,\n",
       " 'fits': 8766,\n",
       " '01-06': 1686,\n",
       " 'bmw': 5694,\n",
       " '325ci': 2341,\n",
       " '2.5': 1910,\n",
       " 'l-l': 14139,\n",
       " 'http://t.co/gbvdnczjou': 11071,\n",
       " 'http://t.co/c211hise0rdetonation': 10652,\n",
       " '10': 1740,\n",
       " 'explosion': 8416,\n",
       " 'chemical': 6377,\n",
       " 'park': 16145,\n",
       " 'western': 20389,\n",
       " 'germany': 9194,\n",
       " 'http://t.co/xbznu0qkvsexplosionlondon': 12725,\n",
       " 'united': 19913,\n",
       " 'kingdom': 14055,\n",
       " 'soul': 18453,\n",
       " 'food': 8885,\n",
       " 'sound': 18458,\n",
       " 'so': 18360,\n",
       " 'bomb': 5720,\n",
       " 'truth': 19717,\n",
       " 'https://t.co/bejftygjil': 13014,\n",
       " '#news': 937,\n",
       " '#bbc': 162,\n",
       " '#cnn': 313,\n",
       " '#islam': 716,\n",
       " '#truth': 1468,\n",
       " '#god': 582,\n",
       " '#isis': 715,\n",
       " '#terrorism': 1391,\n",
       " '#quran': 1155,\n",
       " '#lies': 804,\n",
       " 'http://t.co/jlczidz7vuterrorism': 11404,\n",
       " '¢': 20860,\n",
       " 'your': 20797,\n",
       " 'lost': 14578,\n",
       " 'alone': 4737,\n",
       " 'sinking': 18177,\n",
       " 'stone': 18708,\n",
       " 'carry': 6189,\n",
       " 'onå': 15891,\n",
       " '¡': 20859,\n",
       " 'å': 20872,\n",
       " 'sinkingmichigan': 18179,\n",
       " '@mylittlepwnies3': 3772,\n",
       " '@early__may': 3193,\n",
       " '@anathemazhiv': 2780,\n",
       " '@tonysandos': 4228,\n",
       " 'which': 20417,\n",
       " 'has': 9612,\n",
       " 'do': 7713,\n",
       " 'lebanon': 14271,\n",
       " '80s': 2586,\n",
       " 'attack': 5099,\n",
       " 'iran': 13673,\n",
       " 'hostage': 9942,\n",
       " 'crisis': 7011,\n",
       " 'libya': 14342,\n",
       " 'pan': 16094,\n",
       " 'amhostagenew': 4789,\n",
       " 'chicago': 6390,\n",
       " 'pulls': 16813,\n",
       " 'gun': 9454,\n",
       " 'man': 14730,\n",
       " 'apparent': 4917,\n",
       " 'provocation': 16779,\n",
       " 'http://t.co/lhw4vtbhzg': 11601,\n",
       " 'via': 20094,\n",
       " '@dailykospoliceus': 3087,\n",
       " 'pa': 16051,\n",
       " 'train': 19585,\n",
       " 'derailment': 7418,\n",
       " 'patna': 16196,\n",
       " 'news': 15507,\n",
       " 'casualty': 6220,\n",
       " 'far': 8524,\n",
       " 'indian': 13474,\n",
       " 'express': 8427,\n",
       " 'http://t.co/yh5vetm0yz': 12831,\n",
       " 'http://t.co/17wgug8z0mderailmentminneapolis,mn,us': 10043,\n",
       " '#dream': 403,\n",
       " '#magic': 838,\n",
       " '#linden': 809,\n",
       " 'method': 14995,\n",
       " 'lite': 14423,\n",
       " 'version': 20083,\n",
       " '#': 1,\n",
       " '1': 1725,\n",
       " 'anxiety': 4879,\n",
       " 'panic': 16109,\n",
       " 'cure': 7086,\n",
       " 'program': 16719,\n",
       " 'http://t.co/073izwx0lb': 9990,\n",
       " 'lind': 14394,\n",
       " 'http://t.co/okmlagvkjvpanic': 11918,\n",
       " '18': 1857,\n",
       " 'bovines': 5789,\n",
       " 'rescued': 17255,\n",
       " '3': 2313,\n",
       " 'smugglersåênabbed': 18330,\n",
       " 'http://t.co/e7fn5g5ruurescuedjammu': 10859,\n",
       " '|': 20851,\n",
       " 'kashmir': 13963,\n",
       " 'delhi': 7324,\n",
       " '@wwp': 4347,\n",
       " 'serving': 17934,\n",
       " 'more': 15239,\n",
       " '75k': 2558,\n",
       " 'veterans': 20091,\n",
       " '52k': 2465,\n",
       " 'oif': 15821,\n",
       " 'oef': 15780,\n",
       " 'vets': 20092,\n",
       " 'physical': 16344,\n",
       " ';': 2661,\n",
       " 'many': 14754,\n",
       " 'invisible': 13655,\n",
       " 'ones': 15875,\n",
       " 'http://t.co/shhlv4dplz': 12282,\n",
       " '#clientwoundedfredericksburg': 309,\n",
       " 'virginia': 20148,\n",
       " 'learned': 14262,\n",
       " 'about': 4448,\n",
       " 'economics': 7993,\n",
       " 'south': 18467,\n",
       " 'dakota': 7139,\n",
       " 'dust': 7927,\n",
       " 'storm': 18720,\n",
       " 'did': 7557,\n",
       " 'years': 20736,\n",
       " 'college': 6633,\n",
       " 'hubert': 13247,\n",
       " 'humphreydust': 13273,\n",
       " '20storm': 2189,\n",
       " 'cramer': 6950,\n",
       " \"iger's\": 13363,\n",
       " 'words': 20577,\n",
       " 'wrecked': 20646,\n",
       " \"disney's\": 7658,\n",
       " 'stock': 18699,\n",
       " 'http://t.co/sf5jdnvdw9': 12277,\n",
       " '#til_now': 1424,\n",
       " '#cnbcwrecked': 312,\n",
       " '@marc_holl': 3667,\n",
       " '@nennicook': 3792,\n",
       " '@aitchkaycee': 2751,\n",
       " '@vixstuart': 4295,\n",
       " '@benjbeckwith': 2879,\n",
       " 'pretty': 16663,\n",
       " '#disaster': 385,\n",
       " '#gbbo': 553,\n",
       " '#mudslidemudslidetring': 900,\n",
       " 'need': 15471,\n",
       " 'arcade': 4961,\n",
       " 'shooter': 18062,\n",
       " 'fix': 8771,\n",
       " 'cte': 7063,\n",
       " 'empty': 8134,\n",
       " 'only': 15884,\n",
       " 'running': 17578,\n",
       " 'obliteration': 15745,\n",
       " \"i'd\": 13319,\n",
       " 'even': 8312,\n",
       " 'buy': 6019,\n",
       " 'cod': 6592,\n",
       " 'title': 19442,\n",
       " 'they': 19304,\n",
       " \"weren't\": 20385,\n",
       " 'overpriced': 16032,\n",
       " 'steamobliterationcanada': 18666,\n",
       " 'firepower': 8749,\n",
       " 'lab': 14144,\n",
       " '[': 4401,\n",
       " 'electronic': 8066,\n",
       " 'resource': 17279,\n",
       " ']': 4405,\n",
       " 'automation': 5168,\n",
       " 'against': 4610,\n",
       " 'infectious': 13503,\n",
       " 'diseases': 7647,\n",
       " 'bioterrorism': 5560,\n",
       " 'http://t.co/kvpbybglsrbioterrorism': 11540,\n",
       " '@graysondolan': 3322,\n",
       " 'u': 19828,\n",
       " 'me': 14878,\n",
       " 'kendall': 13987,\n",
       " 'jenner': 13832,\n",
       " 'nick': 15532,\n",
       " 'jonas': 13884,\n",
       " 'dating': 7197,\n",
       " 'quite': 16898,\n",
       " 'literally': 14424,\n",
       " 'explode': 8403,\n",
       " 'http://t.co/pfvzvpxqgrexplodewashington': 11996,\n",
       " 'd': 7129,\n",
       " 'c': 6030,\n",
       " 'always': 4759,\n",
       " 'tell': 19167,\n",
       " 'mom': 15193,\n",
       " 'bring': 5866,\n",
       " 'hold': 9859,\n",
       " 'cat': 6222,\n",
       " 'rt': 17542,\n",
       " '@startelegram': 4096,\n",
       " 'homeless': 9882,\n",
       " 'vulnerable': 20197,\n",
       " 'north': 15608,\n",
       " 'heat': 9695,\n",
       " 'wave': 20293,\n",
       " 'http://t.co/k9airfq3ql': 11465,\n",
       " 'http://t.co/jdbtlymehyheat%20wavefort': 11384,\n",
       " 'worth': 20611,\n",
       " 'nuclear': 15671,\n",
       " '#solar': 1305,\n",
       " 'power': 16585,\n",
       " '#japanese': 732,\n",
       " '#fukushima': 534,\n",
       " 'reactor': 17027,\n",
       " 'energy': 8169,\n",
       " 'japan': 13804,\n",
       " 'temperature': 19176,\n",
       " 'fuel': 9052,\n",
       " 'pool': 16523,\n",
       " 'http://t.co/ys3nmwwyvc': 12863,\n",
       " 'http://t.co/alpotnb7q3nuclear%20reactordenver': 10502,\n",
       " 'co': 6571,\n",
       " 'least': 14265,\n",
       " 'taken': 19073,\n",
       " 'local': 14490,\n",
       " 'http://t.co/wlmsq3mthocollisionarvada': 12666,\n",
       " 'esteemed': 8269,\n",
       " 'journalist': 13895,\n",
       " 'recalls': 17067,\n",
       " 'tragic': 19581,\n",
       " 'effects': 8024,\n",
       " 'unaddressed': 19862,\n",
       " '#childhood': 297,\n",
       " '#trauma': 1446,\n",
       " '@keithboykin': 3545,\n",
       " '@randallpinkston': 3923,\n",
       " '@pozarmy': 3890,\n",
       " 'http://t.co/gxq1auzb18traumanashville': 11146,\n",
       " 'tn': 19454,\n",
       " 'feel': 8618,\n",
       " 'panicking': 16111,\n",
       " 'results': 17312,\n",
       " 'back': 5238,\n",
       " 'alarmingly': 4681,\n",
       " 'calmpanicking': 6079,\n",
       " 'thunder': 19376,\n",
       " 'lightning': 14369,\n",
       " 'possible': 16552,\n",
       " 'pinpoint': 16379,\n",
       " 'foothill': 8898,\n",
       " 'forecast': 8907,\n",
       " 'http://t.co/ctijdpxabklightning': 10724,\n",
       " '40': 2393,\n",
       " 'displaced': 7668,\n",
       " 'ocean': 15771,\n",
       " 'township': 19556,\n",
       " 'apartment': 4894,\n",
       " '#newyork': 961,\n",
       " 'http://t.co/uelz59wvomdisplacednew': 12480,\n",
       " '@freddiedeboer': 3273,\n",
       " '@thucydiplease': 4199,\n",
       " 'rise': 17421,\n",
       " 'coates': 6585,\n",
       " 'charleston': 6350,\n",
       " 'massacre': 14805,\n",
       " 'walter': 20234,\n",
       " 'scott': 17764,\n",
       " 'black': 5584,\n",
       " 'twitter': 19800,\n",
       " 'broadly': 5882,\n",
       " 'well.massacrestay': 20378,\n",
       " 'tuned': 19753,\n",
       " ';)': 2662,\n",
       " '@mathew_is_angry': 3682,\n",
       " '@z3ke_sk1': 4391,\n",
       " '@saladinahmed': 4000,\n",
       " 'died': 7564,\n",
       " 'horrible': 9930,\n",
       " 'deaths': 7252,\n",
       " 'trapped': 19605,\n",
       " 'ships': 18037,\n",
       " 'risk': 17425,\n",
       " 'deathstennessee': 7254,\n",
       " 'gallifrey': 9111,\n",
       " 'destruction': 7490,\n",
       " \"magic's\": 14684,\n",
       " 'fine': 8712,\n",
       " 'just': 13932,\n",
       " 'buildings.burning': 5947,\n",
       " '20buildingswhiterun': 2023,\n",
       " 'skyrim': 18248,\n",
       " 'reality': 17042,\n",
       " 'training': 19587,\n",
       " 'falls': 8499,\n",
       " 'off': 15785,\n",
       " 'elevated': 8073,\n",
       " 'tracks': 19568,\n",
       " 'windstorm': 20485,\n",
       " 'http://t.co/jiomnrcygt': 11398,\n",
       " '#paramedic': 1071,\n",
       " '#emswindstormpalm': 448,\n",
       " 'county': 6914,\n",
       " 'fl': 8777,\n",
       " '#world': 1587,\n",
       " 'fears': 8605,\n",
       " 'missing': 15136,\n",
       " 'migrants': 15056,\n",
       " 'med': 14902,\n",
       " 'rescuers': 17258,\n",
       " 'search': 17812,\n",
       " 'survivors': 18969,\n",
       " 'boat': 5701,\n",
       " 'carrying': 6191,\n",
       " 'http://t.co/6ds67xai5e': 10278,\n",
       " '#newsrescuers': 951,\n",
       " 'derailed_benchmark': 7409,\n",
       " 'cool': 6843,\n",
       " 'paths': 16190,\n",
       " 'wonder': 20561,\n",
       " 'can': 6107,\n",
       " 'find': 8709,\n",
       " 'leaks': 14260,\n",
       " 'jobs': 13866,\n",
       " 'given': 9237,\n",
       " 'resque': 17297,\n",
       " 'too': 19498,\n",
       " 'derailedtoronto': 7414,\n",
       " 'new': 15499,\n",
       " 'ladies': 14152,\n",
       " 'tote': 19535,\n",
       " 'handbag': 9551,\n",
       " 'women': 20552,\n",
       " 'faux': 8576,\n",
       " 'leather': 14267,\n",
       " 'fashion': 8537,\n",
       " 'purse': 16843,\n",
       " 'http://t.co/y87gi3brlv': 12807,\n",
       " 'http://t.co/1zbhvdcxzsbody%20bagnew': 10086,\n",
       " '@raishimi33': 3922,\n",
       " ':)': 2652,\n",
       " 'well': 20375,\n",
       " 'sounds': 18461,\n",
       " 'plan': 16416,\n",
       " 'little': 14428,\n",
       " 'applaud': 4923,\n",
       " 'derailmentuk': 7421,\n",
       " 'invading': 13644,\n",
       " 'iraq': 13676,\n",
       " 'catastrophic': 6237,\n",
       " 'mistake': 15142,\n",
       " 'diplomacy': 7595,\n",
       " 'needs': 15475,\n",
       " 'replace': 17228,\n",
       " 'constant': 6799,\n",
       " 'threat': 19348,\n",
       " 'war': 20246,\n",
       " 'israel': 13713,\n",
       " 'http://t.co/yqjpn3quuxcatastrophicbuxton': 12858,\n",
       " 'venice': 20072,\n",
       " 'nottingham': 15642,\n",
       " 'related': 17164,\n",
       " 'isis': 13694,\n",
       " 'threatens': 19350,\n",
       " 'europe': 8288,\n",
       " 'http://t.co/wk6b5z803ohostage': 12663,\n",
       " '@marynmck': 3680,\n",
       " \"that's\": 19256,\n",
       " 'beyond': 5509,\n",
       " 'adorable': 4553,\n",
       " 'hope': 9916,\n",
       " \"won't\": 20560,\n",
       " 'been': 5428,\n",
       " 'noticed': 15632,\n",
       " 'wreckedlivingston': 20647,\n",
       " 'mt': 15319,\n",
       " 'devastation': 7522,\n",
       " 'coming': 6680,\n",
       " '@target': 4141,\n",
       " '@starbucks': 4095,\n",
       " 'closed': 6539,\n",
       " '#momneedscoffee': 883,\n",
       " '#asap': 122,\n",
       " '#iwontmakeitdevastationmount': 726,\n",
       " 'vernon': 20081,\n",
       " 'redskins': 17114,\n",
       " 'wr': 20633,\n",
       " 'roberts': 17453,\n",
       " 'belly-bombed': 5463,\n",
       " '@teamstream': 4151,\n",
       " 'http://t.co/gbcvvevdtybombedscrewston': 11066,\n",
       " 'tx': 19810,\n",
       " '#allah': 73,\n",
       " 'describes': 7432,\n",
       " 'piling': 16370,\n",
       " '#wealth': 1553,\n",
       " 'thinking': 19320,\n",
       " '#forever': 514,\n",
       " '#hellfire': 630,\n",
       " 'surah': 18931,\n",
       " 'humaza': 13265,\n",
       " '#reflecthellfire': 1172,\n",
       " 'loved': 14590,\n",
       " 'way': 20298,\n",
       " 'written': 20659,\n",
       " 'include': 13450,\n",
       " 'vantage': 20051,\n",
       " 'points': 16496,\n",
       " '@detkenlang': 3134,\n",
       " '#kindle': 766,\n",
       " 'http://t.co/kcrnmjkj73first%20respondersworldwide': 11478,\n",
       " '#heartdisease': 627,\n",
       " 's': 17597,\n",
       " 'service': 17931,\n",
       " 'spending': 18518,\n",
       " 'half': 9534,\n",
       " 'budget': 5935,\n",
       " 'http://t.co/kzfigkeevaforest%20fires': 11550,\n",
       " 'forget': 8918,\n",
       " 'tragedy': 19577,\n",
       " 'https://t.co/gajtugaui7tragedy#sandrabland': 13054,\n",
       " 'liked': 14377,\n",
       " '@youtube': 4374,\n",
       " '@itsjustinstuart': 3440,\n",
       " 'http://t.co/mnkaji2q1n': 11716,\n",
       " 'range': 16969,\n",
       " 'mayhem': 14850,\n",
       " 'mayhemdetroit': 14851,\n",
       " '#hungerarticles': 664,\n",
       " 'nepal': 15488,\n",
       " 'rebuilding': 17062,\n",
       " 'livelihoods': 14441,\n",
       " ...}"
      ]
     },
     "execution_count": 39,
     "metadata": {},
     "output_type": "execute_result"
    }
   ],
   "source": [
    "cnt_vec_tok.vocabulary_"
   ]
  },
  {
   "cell_type": "code",
   "execution_count": 40,
   "metadata": {},
   "outputs": [],
   "source": [
    "nums, punct, hashes = analyze_vocabulary(cnt_vec_tok.vocabulary_.keys())"
   ]
  },
  {
   "cell_type": "code",
   "execution_count": 41,
   "metadata": {},
   "outputs": [
    {
     "name": "stdout",
     "output_type": "stream",
     "text": [
      "Contain numbers: (4275,)\n",
      "Contain puctuation: (7912,)\n"
     ]
    }
   ],
   "source": [
    "print(\"Contain numbers:\", (np.array(list(cnt_vec_tok.vocabulary_.keys()))[nums]).shape)\n",
    "print(\"Contain puctuation:\", (np.array(list(cnt_vec_tok.vocabulary_.keys()))[punct]).shape)"
   ]
  },
  {
   "cell_type": "code",
   "execution_count": 42,
   "metadata": {},
   "outputs": [
    {
     "name": "stdout",
     "output_type": "stream",
     "text": [
      "Contain mentions or tags: (3360,)\n"
     ]
    },
    {
     "data": {
      "text/plain": [
       "['@bmurph1019',\n",
       " '@hail_youtsey',\n",
       " '@termn8r13',\n",
       " '#goblue',\n",
       " '#wrestleon',\n",
       " '#mlbairplane',\n",
       " '@johnsontionne',\n",
       " '@libertarianluke',\n",
       " '@roughdeal1',\n",
       " '@zhenghxn',\n",
       " '@rayquazaerk',\n",
       " '@jackmulholland1',\n",
       " '@1acd4900c1424d1',\n",
       " '@foxnews',\n",
       " '#bcpoli',\n",
       " '#canpoli',\n",
       " '#vanpoliforest',\n",
       " '#shoes',\n",
       " '#tweetlikeitsseptember11th2001',\n",
       " '@_gaabyx',\n",
       " '@buffoonmike',\n",
       " '@toddstarnes',\n",
       " '#tomclancymilitary',\n",
       " '#hannaph',\n",
       " '#news',\n",
       " '#bbc',\n",
       " '#cnn',\n",
       " '#islam',\n",
       " '#truth',\n",
       " '#god',\n",
       " '#isis',\n",
       " '#terrorism',\n",
       " '#quran',\n",
       " '#lies',\n",
       " '@mylittlepwnies3',\n",
       " '@early__may',\n",
       " '@anathemazhiv',\n",
       " '@tonysandos',\n",
       " '@dailykospoliceus',\n",
       " '#dream',\n",
       " '#magic',\n",
       " '#linden',\n",
       " '#',\n",
       " '@wwp',\n",
       " '#clientwoundedfredericksburg',\n",
       " '#til_now',\n",
       " '#cnbcwrecked',\n",
       " '@marc_holl',\n",
       " '@nennicook',\n",
       " '@aitchkaycee',\n",
       " '@vixstuart',\n",
       " '@benjbeckwith',\n",
       " '#disaster',\n",
       " '#gbbo',\n",
       " '#mudslidemudslidetring',\n",
       " '@graysondolan',\n",
       " '@startelegram',\n",
       " '#solar',\n",
       " '#japanese',\n",
       " '#fukushima',\n",
       " '#childhood',\n",
       " '#trauma',\n",
       " '@keithboykin',\n",
       " '@randallpinkston',\n",
       " '@pozarmy',\n",
       " '#newyork',\n",
       " '@freddiedeboer',\n",
       " '@thucydiplease',\n",
       " '@mathew_is_angry',\n",
       " '@z3ke_sk1',\n",
       " '@saladinahmed',\n",
       " '#paramedic',\n",
       " '#emswindstormpalm',\n",
       " '#world',\n",
       " '#newsrescuers',\n",
       " '@raishimi33',\n",
       " '@marynmck',\n",
       " '@target',\n",
       " '@starbucks',\n",
       " '#momneedscoffee',\n",
       " '#asap',\n",
       " '#iwontmakeitdevastationmount',\n",
       " '@teamstream',\n",
       " '#allah',\n",
       " '#wealth',\n",
       " '#forever',\n",
       " '#hellfire',\n",
       " '#reflecthellfire',\n",
       " '@detkenlang',\n",
       " '#kindle',\n",
       " '#heartdisease',\n",
       " '@youtube',\n",
       " '@itsjustinstuart',\n",
       " '#hungerarticles',\n",
       " '@chubbysquirrel_',\n",
       " '@hurricane_surge',\n",
       " '@rockbottomradfm',\n",
       " '@youtubeairplane',\n",
       " '@swb1192',\n",
       " '@ameenshaikh3',\n",
       " '@sureshpprabhu',\n",
       " '#kashmir',\n",
       " '#kashmirconflictwoundskashmir',\n",
       " '#abstorm',\n",
       " '#yyc',\n",
       " '#hail',\n",
       " '#hailstorm',\n",
       " '#haildamage',\n",
       " '#yycweather',\n",
       " '#calgary',\n",
       " '#captureyyc',\n",
       " '#alberta',\n",
       " '#sto',\n",
       " '#pieceofme',\n",
       " '#theatershooting',\n",
       " '@aftershock_delo',\n",
       " '@heyimginog',\n",
       " '#technology',\n",
       " '#cool',\n",
       " '#techcollisionirving',\n",
       " '@joegoodmanjr',\n",
       " '#copalibertadores',\n",
       " '@chowtaxis',\n",
       " '@lisavanderpump',\n",
       " '@',\n",
       " '@iphooey',\n",
       " '@time',\n",
       " '#notgoingoutinthat',\n",
       " '@hellonwheelsamc',\n",
       " '@how_fans',\n",
       " '@talkinghell',\n",
       " '#tampa',\n",
       " '@robertmeyer9',\n",
       " '@youtubeevacuatenew',\n",
       " '@ciaramckendry',\n",
       " '#robertcalifornia',\n",
       " '#thereisonlysexflattenedpomfret',\n",
       " '#stlouis',\n",
       " '#caraccidentlawyer',\n",
       " '@danhrothschild',\n",
       " '#takecaredestructionvalle',\n",
       " '@bluejays',\n",
       " '@braves',\n",
       " '@angels',\n",
       " '#historybuildings',\n",
       " '#love',\n",
       " '@lesleychappellecollide',\n",
       " '@sonoranrattler',\n",
       " '#writingtips',\n",
       " '#finsup',\n",
       " '#wattys2015',\n",
       " '#wattpad',\n",
       " '#teenfiction',\n",
       " '@sweetiebirks',\n",
       " '@mirrorlady2',\n",
       " '@slatukip',\n",
       " '#worldnews',\n",
       " '@atl_events',\n",
       " '@thehighfessions',\n",
       " '#japan',\n",
       " '#handbag',\n",
       " '#fashion',\n",
       " '#style',\n",
       " '#9973',\n",
       " '@lonewolffur',\n",
       " '#gabon',\n",
       " '#somalia',\n",
       " '@selmoooooo',\n",
       " '@_edvinnn',\n",
       " '@imtariik',\n",
       " '@dzafic_haris',\n",
       " '@perkpearl',\n",
       " '#nativehuman',\n",
       " '#myreligion',\n",
       " '@tareksocal',\n",
       " '#weddingsblazingdallas',\n",
       " '#otrakansascity',\n",
       " '@aria_ahrary',\n",
       " '@thetawniest',\n",
       " '@fevwarrior',\n",
       " '@dccc',\n",
       " '@vj44',\n",
       " '@lawrence',\n",
       " '@jbouie',\n",
       " '@mmfapolice',\n",
       " '@cheetosarabia',\n",
       " '@crudes',\n",
       " '@eac4au',\n",
       " '@fiendnikki',\n",
       " '#emmerdaledeathslondon',\n",
       " '@gargron',\n",
       " '#animalrescue',\n",
       " '@taykreidler',\n",
       " '#loveyouuuu',\n",
       " '#aintsheperty',\n",
       " '@furiosoxv',\n",
       " '#hot',\n",
       " '#prebreak',\n",
       " '#besthijackingchina',\n",
       " '@messeymetoo',\n",
       " '@cristianinspire',\n",
       " '@ptsd_chat',\n",
       " '#ptsdchattraumai',\n",
       " '@autoames',\n",
       " '#strategicpatience',\n",
       " '#genocide',\n",
       " '@mets',\n",
       " '@erinmariefishy',\n",
       " '@onu_france',\n",
       " '@rockefeller_chi',\n",
       " '@rockefelleruniv',\n",
       " '@harvardu',\n",
       " '@afpbioterrorism',\n",
       " '@noah_anyname',\n",
       " '@swellyjetevo',\n",
       " '#boxingbloodylas',\n",
       " '@camilla_33',\n",
       " '@craykain',\n",
       " '#gunsenseweaponct',\n",
       " '@wbcshirl2',\n",
       " '@hollywarnexx',\n",
       " '@rodarmer21',\n",
       " '@lizhphoto',\n",
       " '#shipping',\n",
       " '#logistics',\n",
       " '#doping',\n",
       " '#latestnews',\n",
       " '@marek1330',\n",
       " '@music212hijack',\n",
       " '#russia',\n",
       " '#windows10',\n",
       " '@stankyboy88',\n",
       " '#gamergate',\n",
       " '@aphyr',\n",
       " '#aoms',\n",
       " '#ibooklove',\n",
       " '#bookboostsnowstormsouth',\n",
       " '@greenlacey',\n",
       " '#thanku',\n",
       " '#writing',\n",
       " '@bettyfreedoms',\n",
       " '@abninfvet',\n",
       " '@drdrewhln',\n",
       " '@jenniferarri_',\n",
       " '#034',\n",
       " '#makewaterwork',\n",
       " '#westerncanadadroughtdroughtokanagan',\n",
       " '@joshsternberg',\n",
       " '@ictyosaur',\n",
       " '#cnbc',\n",
       " '#topnewswreckedcalifornia',\n",
       " '@daborsch',\n",
       " '@urufusanragu',\n",
       " '#pathogen',\n",
       " '#bioterrorism',\n",
       " '#infectious',\n",
       " '#ebola',\n",
       " '@wisdc',\n",
       " '@troylercraft',\n",
       " '@youtubeapocalypse',\n",
       " '@luke_winkie',\n",
       " '#amazon',\n",
       " '#foot',\n",
       " '#adjust',\n",
       " '#shape',\n",
       " '#shoe',\n",
       " '#raining',\n",
       " '#flooding',\n",
       " '#florida',\n",
       " '#tampabay',\n",
       " '#date',\n",
       " '@glosblue66',\n",
       " '@based_georgie',\n",
       " '#soundcloud',\n",
       " '@rubi_',\n",
       " '@weloverobdyrdek',\n",
       " '@adrian_peel',\n",
       " '@slone',\n",
       " '#auspol',\n",
       " '#wildfire',\n",
       " '@fnaf_talkmc',\n",
       " '@newsaramaterrorismearth',\n",
       " '@haji_hunter762',\n",
       " '@middleeasteye',\n",
       " '@wocowae',\n",
       " '@tomarse99',\n",
       " '#radiation',\n",
       " '#emergency',\n",
       " '#procedures',\n",
       " '#06',\n",
       " '#24',\n",
       " '#09',\n",
       " '@mattmosley',\n",
       " '@calum5sos',\n",
       " '@s_casualtycasualty',\n",
       " '@bridgeportspeed',\n",
       " '@ayhoka_',\n",
       " '@foxy__siren',\n",
       " '#insubcontinent',\n",
       " '@insubcontinent',\n",
       " '@adriasimon_',\n",
       " '#round2',\n",
       " '#yycstorm',\n",
       " '#hwy401',\n",
       " '#cambridge',\n",
       " '#opp',\n",
       " '@emmerdale',\n",
       " '#summerfate',\n",
       " '@mikeparractor',\n",
       " '@misscharleywebbwreckgwersyllt',\n",
       " '#nowplaying',\n",
       " '@usagov',\n",
       " '#drum',\n",
       " '#heavy',\n",
       " '#nasty',\n",
       " '@mort3mer',\n",
       " '#amssummersnowstormraleigh',\n",
       " '#besthijacking',\n",
       " '@asimtanvir',\n",
       " '@nemesisk_pes',\n",
       " '@kevr_7',\n",
       " '@kiranahmedd',\n",
       " '#humblecliff',\n",
       " '@expirehcrubblecolumbus',\n",
       " '#nb',\n",
       " '@greenbuildermag',\n",
       " '@nfpa',\n",
       " '@firewise',\n",
       " '@michele_nfpabuildings',\n",
       " '@thesewphist',\n",
       " '@teafrystlik',\n",
       " '@youtubedestroyhonduras',\n",
       " '#robotcoingame',\n",
       " '#bitcoin',\n",
       " '#freebitcoinattacked',\n",
       " '#india',\n",
       " '@chrisman528',\n",
       " '#farrakhan',\n",
       " '#quotefloods',\n",
       " '@gideonstrumpet',\n",
       " '#beyhive',\n",
       " '@youngheroesid',\n",
       " '@dieanpink95',\n",
       " '@yu_nita99',\n",
       " '#pantherattacklavajakarta',\n",
       " '@lt3dave',\n",
       " '@raniakhalek',\n",
       " '@drvox',\n",
       " '@daretotaha',\n",
       " '@swiftycommissh',\n",
       " '@taoistinsight',\n",
       " '@immortaltech',\n",
       " '#frontpage',\n",
       " '#bioterror',\n",
       " '#rickperry',\n",
       " '@pyrbliss',\n",
       " '#mlb',\n",
       " '@joeybats19',\n",
       " '#bluejays',\n",
       " '#thomassmonson',\n",
       " '#lds',\n",
       " '#mormonsurviveunited',\n",
       " '@memenaar',\n",
       " '#uswarcrimesweaponsengland',\n",
       " '#worldnewsambulanceusa',\n",
       " '@www',\n",
       " '#businesscollapsechicago',\n",
       " '#scichat',\n",
       " '#sciencelightningsodak',\n",
       " '#hostages',\n",
       " '#libya',\n",
       " '#africa',\n",
       " '#ap',\n",
       " '#ts',\n",
       " '#nri',\n",
       " '#trs',\n",
       " '#tdp',\n",
       " '#bjp',\n",
       " '#rossbarton',\n",
       " '@chrisdyson16',\n",
       " '#mta',\n",
       " '#sorrybutitstrueruinyulee',\n",
       " '#listen',\n",
       " '#live',\n",
       " '@iamrrsb',\n",
       " '@sport_en',\n",
       " '#coppeddestroytrackside',\n",
       " '@czallstarwes',\n",
       " '#kneelbotobliteratem',\n",
       " '#nowplayingwindstorm',\n",
       " '@sensanders',\n",
       " '@sapphirescallop',\n",
       " '#360wisenews',\n",
       " '#earthquake',\n",
       " '#iphone',\n",
       " '@willhillbet',\n",
       " '#tattoo',\n",
       " '#cubstalkburnedchicago',\n",
       " '@atlbizchronbioterroratlanta',\n",
       " '@southridgelifeablaze',\n",
       " '#manchester',\n",
       " '#cowboys',\n",
       " '@asterpuppet',\n",
       " '@stretcher',\n",
       " '@invalid',\n",
       " '@grazed',\n",
       " '@rexyy',\n",
       " '@towel',\n",
       " '@jaydennotjared',\n",
       " '@newyorkercatastrophicquito',\n",
       " '@christycroley',\n",
       " '@judson1360',\n",
       " '@xtra1360',\n",
       " '@fantosex',\n",
       " '@stacedemon',\n",
       " '@tinyjecht',\n",
       " '@welshninja87',\n",
       " '@ariabrisard',\n",
       " '@leiaorganasolo',\n",
       " '@ageekyfangirl14',\n",
       " '@emiiliexirwin',\n",
       " '@reddit',\n",
       " '#mlbwhirlwindinternet',\n",
       " '#shooting',\n",
       " '#police',\n",
       " '#newsrescuershere',\n",
       " '@lauren_miller_7',\n",
       " '#aerospace',\n",
       " '#exec',\n",
       " '@weathernetwork',\n",
       " '#b2b',\n",
       " '#b2bagency',\n",
       " '#contentmarketingdelugeworld',\n",
       " '#hitting',\n",
       " '#load',\n",
       " '@samanthaturne19',\n",
       " '#photoexplodebloomington',\n",
       " '#montgomery',\n",
       " '@jennasjems',\n",
       " '@patrickwslsbuildings',\n",
       " '#arwxtornadomidwest',\n",
       " '@vienna_butcher',\n",
       " '@dviyer',\n",
       " '@colorlines',\n",
       " '#debatequestionswewanttohear',\n",
       " \"#greece's\",\n",
       " '@guardian',\n",
       " '#bailout',\n",
       " '@furtrix',\n",
       " '#newssuicide',\n",
       " '#everydaynaija',\n",
       " '#course',\n",
       " '@__scrambledeggs',\n",
       " '@runner_joy',\n",
       " '#bombed',\n",
       " '#pbban',\n",
       " '@glenstannard',\n",
       " '@essexweather',\n",
       " '#personalinjury',\n",
       " '#solicitor',\n",
       " '#otleyhouraccidentuk',\n",
       " '#lwb',\n",
       " '@viralspellannihilated',\n",
       " '@2',\n",
       " '#eyewitness',\n",
       " '#uk',\n",
       " '@emhub',\n",
       " '#ugc',\n",
       " '@newyorkcity',\n",
       " '#international',\n",
       " '#drjustinmazuremergencybased',\n",
       " '@kamkasteiiano',\n",
       " '@bluntedjayt',\n",
       " '@ollymursaus',\n",
       " '@mmchale13',\n",
       " '@satanaofhell',\n",
       " '#squad',\n",
       " '#revitup',\n",
       " '#pizzarev',\n",
       " '@david_cameron',\n",
       " '#savebees',\n",
       " '@cncpts',\n",
       " '@solelinks',\n",
       " '@nasahurricane',\n",
       " '@dauntedpsyche',\n",
       " '#gravitychattraumawww',\n",
       " '@helene_yancey',\n",
       " '@aelinrhee',\n",
       " '@howardu',\n",
       " '#irandeal',\n",
       " '#sun',\n",
       " '#earth',\n",
       " '#southampton',\n",
       " '#science',\n",
       " '#np',\n",
       " '#snowden',\n",
       " '#orchardalley',\n",
       " '#les',\n",
       " '#nyc',\n",
       " '@abcnorio',\n",
       " '#gardens',\n",
       " '@cranboonitz',\n",
       " '@hereticofethicsbombcanada',\n",
       " '#tvjnewscollapsedkingston',\n",
       " '@lennonparham',\n",
       " '@jessica_stclair',\n",
       " '@gilmoreguysshow',\n",
       " '#ihave44episodesofgg',\n",
       " '#nojokecollided',\n",
       " '#tna',\n",
       " '#destinationimpactsinking',\n",
       " '@lordbrathwaite',\n",
       " '#growingupincolorado',\n",
       " '@chelsea_dogs',\n",
       " '#pets',\n",
       " '#dogs',\n",
       " '#animals',\n",
       " '#puppy',\n",
       " '@angusmacneilsnp',\n",
       " '@apollobrown',\n",
       " '#okwxtornadomidwest',\n",
       " '@savagenation',\n",
       " '#plague',\n",
       " '#health',\n",
       " '#publichealthdeathsphoenix',\n",
       " '#629',\n",
       " '@drrichardbesser',\n",
       " '@detroitnewstroublerochester',\n",
       " '@sexydragonmagic',\n",
       " '@heebsterrr_',\n",
       " '@louis_tomlinson',\n",
       " '@cia',\n",
       " '#bookmobile',\n",
       " '#libraries',\n",
       " '#reading',\n",
       " '#flood',\n",
       " '@tidalhifi',\n",
       " '#hiroshima',\n",
       " '@ap',\n",
       " '#refugees',\n",
       " '#forbes',\n",
       " '#europe',\n",
       " '@raynbowaffair',\n",
       " '@diamondkesawn',\n",
       " '#ramag',\n",
       " '#models',\n",
       " '#mayhemmayhemboston-london',\n",
       " '@suny_orange',\n",
       " '#roimentor',\n",
       " '#yycwalksrubblecalgary',\n",
       " '#osi2016oil',\n",
       " '#wisdomwed',\n",
       " '#lifehacks',\n",
       " '@jt_ruff23',\n",
       " '@cameronhacker',\n",
       " '#newsdeaths',\n",
       " '#vivaargentinathunderstorm',\n",
       " '#ocnj',\n",
       " '@petchary',\n",
       " '#reggaeboyzdestroythe',\n",
       " '@hail_zel',\n",
       " '#listenliveblazing',\n",
       " '@creationsbykole',\n",
       " '@coloiccarnality',\n",
       " '#artriotbelgrade',\n",
       " '#michelebachman',\n",
       " '#globalwarming',\n",
       " '@lwilliams_13',\n",
       " '@detroitpls',\n",
       " '#semasirtalksdestroyedìït',\n",
       " '#butgod',\n",
       " '#mudslidemudslide',\n",
       " '#pt',\n",
       " '@blazing_ben',\n",
       " '@pattyds50',\n",
       " '@gwfrazee',\n",
       " '@joshuaassaraf',\n",
       " '#truckingbioterrorworldwide',\n",
       " '@markwschaefercrushedtoronto',\n",
       " '@alexhammerstone',\n",
       " '@kttape',\n",
       " '#remymarcel',\n",
       " '#frofrofro',\n",
       " '#smartnewspolicemassachusetts',\n",
       " '#oklahoma',\n",
       " '#thunder',\n",
       " '#nba',\n",
       " '#durant',\n",
       " '@shantaeskyy',\n",
       " '@kshllcenterpri1',\n",
       " '@progress4ohio',\n",
       " '@allen_enbot',\n",
       " '@syringetoanger',\n",
       " '@catsandsyrup',\n",
       " '@princessduck',\n",
       " '@tremblayeh',\n",
       " '#sirmixalothailcalgary',\n",
       " '#bluebell',\n",
       " '#nashvilletraffic',\n",
       " '#vancouver',\n",
       " '#drought',\n",
       " '#deadgrassandflowers',\n",
       " '#wildfiresrainstormnorth',\n",
       " '@ian_bartlett',\n",
       " '#hs2',\n",
       " '@lovelylikelaura',\n",
       " '@halloikbenwillcollapsescotland',\n",
       " '#security',\n",
       " '#terrorismhostages',\n",
       " '@mickinyman',\n",
       " '@theatlantic',\n",
       " '@gurmeetramrahim',\n",
       " '#msgdoing111welfareworks',\n",
       " '@atchisonsean',\n",
       " '@princeoffencing',\n",
       " '@fullscreen',\n",
       " '@setzorah',\n",
       " '@att',\n",
       " '#goodbyesinkingsacramento',\n",
       " '#mtvsummerstar',\n",
       " '#videoveranomtv',\n",
       " '#mtvhottest',\n",
       " '#pandemonium',\n",
       " '@vzwsupport',\n",
       " '@matt_kroschel',\n",
       " '#vail',\n",
       " '@arizonadot',\n",
       " '@stevenontwatter',\n",
       " '@pussyxdestroyer',\n",
       " '#boy',\n",
       " '#mix',\n",
       " '#preparedness',\n",
       " '#weather',\n",
       " '#cawx',\n",
       " '@nwsbayareadangersan',\n",
       " '@ledofficial1',\n",
       " '#peritoengrafoscopiacrashedcuernavaca',\n",
       " '#stormchase',\n",
       " '@tsunami_esh',\n",
       " '#protectdenaliwolves',\n",
       " '@alaska',\n",
       " '@adndotcomemergency',\n",
       " '#tookitlikeaman',\n",
       " '#lovemydentist',\n",
       " '#soreemergency',\n",
       " '@nkulw',\n",
       " '@benjm1',\n",
       " '@tourofutah',\n",
       " '@b1grego',\n",
       " '#nwoattackglobal',\n",
       " '#syria',\n",
       " '#wmata',\n",
       " '#kisii',\n",
       " '#countynewsarsoneldoret',\n",
       " '@reuters',\n",
       " '#videodebris',\n",
       " '@hopefulbatgirl',\n",
       " '@_charleyisqueen',\n",
       " '@thebuffshow',\n",
       " '@thetwisterokc',\n",
       " '@shaniatwain',\n",
       " '#twisterlovesshania',\n",
       " '@viralspellannihilatedboston',\n",
       " '#legionstrackandfield',\n",
       " '@flickershowell',\n",
       " '@dailytimesngr',\n",
       " '@itsqueenbaby',\n",
       " '@adanne___',\n",
       " '@robbiewilliams',\n",
       " '#nfl',\n",
       " '#playoffsinjury',\n",
       " '#wolves',\n",
       " '#savedenaliwolves',\n",
       " '#anchorage',\n",
       " '#jobs',\n",
       " '#welovela',\n",
       " '#nhlducks',\n",
       " '#sportsroadhouseavalanchelos',\n",
       " '#wrecked',\n",
       " '#hunwx',\n",
       " '@countermoonbat',\n",
       " '@voodoo_ben',\n",
       " '#directioners',\n",
       " '@bbcwomanshour',\n",
       " '#filipinofire',\n",
       " '#eventspalmbeach',\n",
       " '@sonisoner',\n",
       " '#soundcloudsirenshamburg',\n",
       " '@king_naruto_',\n",
       " '@mockingpanems',\n",
       " '@cuddlesforjen',\n",
       " '@scalpium',\n",
       " '#military',\n",
       " '#veterans',\n",
       " '#environmentmilitaryusa',\n",
       " '#win',\n",
       " '@be_ram0s',\n",
       " '#bbloggers',\n",
       " '#mayhemmayhemglobal',\n",
       " '#wcw',\n",
       " '#cochrane',\n",
       " '@cityofcalgary',\n",
       " '#abstormemergency',\n",
       " '#tory',\n",
       " '#besthostageslas',\n",
       " '@ophiuchus2613',\n",
       " '#truelove',\n",
       " '#romance',\n",
       " '#voodoo',\n",
       " '#seduction',\n",
       " '#astrology',\n",
       " '#rtrrt',\n",
       " '#lotz',\n",
       " '#apocalypse',\n",
       " '#armageddon',\n",
       " '#1008pla',\n",
       " '@accionempresa',\n",
       " '@gerenciatodos',\n",
       " '#gbbotraumatiseduk',\n",
       " '@davidolszak',\n",
       " '@siren_song21',\n",
       " '@lauradeholanda',\n",
       " '@editaxohaze',\n",
       " '#lgbt',\n",
       " '@noahj456',\n",
       " '#nashsnewvideo',\n",
       " '#catfishmtvblew',\n",
       " '@bekah__w',\n",
       " '@rachelrofe',\n",
       " '@michael5sos',\n",
       " '#oil',\n",
       " '#investing',\n",
       " '#money',\n",
       " '#trading',\n",
       " '#forex',\n",
       " '#gold',\n",
       " '#silver',\n",
       " '#business',\n",
       " '#global',\n",
       " '#ayekoradio',\n",
       " '#radio',\n",
       " '#netlabel',\n",
       " '#electronicmusic',\n",
       " '#ccmusiccrushed',\n",
       " '@kylewappler',\n",
       " '@thisishavehope',\n",
       " '@stupid_niggr',\n",
       " '#wildhorses',\n",
       " '@cnn',\n",
       " '@cbcmass',\n",
       " '#sbnation',\n",
       " '#flames',\n",
       " '@georgefoster72',\n",
       " '@tomdean86',\n",
       " '#yugvaniambulance',\n",
       " '#nomorehandoutswoundedscottsdale',\n",
       " '#tms7inundatedaustralia',\n",
       " '#palestineheat',\n",
       " '@sonofbobbob',\n",
       " '@shimmyfab',\n",
       " '@trickxie',\n",
       " '#newsrescueindia',\n",
       " '@panic',\n",
       " '@nikistitz',\n",
       " '#check',\n",
       " '#followoutbreakfukuoka',\n",
       " '#reno',\n",
       " '@nicklee8',\n",
       " '#landslide',\n",
       " '@pollster',\n",
       " '@realdonaldtrumplandslidetexas',\n",
       " '#body',\n",
       " '#shop',\n",
       " '@batfanuk',\n",
       " '@pete_r_knox',\n",
       " '@gemmasterful',\n",
       " '#man',\n",
       " '#airport',\n",
       " '#airplane',\n",
       " '#aircraft',\n",
       " '#aeroplane',\n",
       " '#runway',\n",
       " '#accident',\n",
       " '#freaky',\n",
       " '#onthisday',\n",
       " '@laphamsquart',\n",
       " '@4tiles',\n",
       " '@zacb_',\n",
       " '#zionist',\n",
       " '#terrorist',\n",
       " '#palestinians',\n",
       " '@yahoo7delugeaustralia',\n",
       " '#ns',\n",
       " '@timkaine',\n",
       " '#weloveyoulouis',\n",
       " '@disneyirh',\n",
       " '@marksmaponyane',\n",
       " '@barackobama',\n",
       " '@acmilan',\n",
       " '#raheelsharif',\n",
       " '@thomashcrown',\n",
       " '@alanhahn',\n",
       " '@hdumpty39',\n",
       " '@_explicitprettycrusheastatlanta',\n",
       " \"#westgeorgia'18\",\n",
       " '#prophetmuhammad',\n",
       " '#islamengulfed',\n",
       " '#wod',\n",
       " '#columbus',\n",
       " '#fitness',\n",
       " '@worldnetdaily',\n",
       " '#homosexuality',\n",
       " '#benews',\n",
       " '#metsannihilatednew',\n",
       " '@wordpressdotcomcyclone',\n",
       " '@ohyayyyyay',\n",
       " '@20skyhawkmm20',\n",
       " '@traplord_29',\n",
       " '@fredosantana300',\n",
       " '@lilreese300',\n",
       " '#denver',\n",
       " '#billings',\n",
       " '#rapidcity',\n",
       " '#seattle',\n",
       " '#cheyenneweaponsrocky',\n",
       " '@toiindianews',\n",
       " '#losdelsonido',\n",
       " '#ivanberroa',\n",
       " '#golf',\n",
       " '#newsinjured',\n",
       " '@honeybunzgem',\n",
       " '@primalkitchen',\n",
       " '@tuicruises',\n",
       " '@aida_de',\n",
       " '#faroe',\n",
       " '@militarydotcommilitary',\n",
       " '@danielkemp6',\n",
       " '@i_electrocute',\n",
       " '#pantherattack',\n",
       " '@cunayyh',\n",
       " '@taufikcjlavabandar',\n",
       " '#nowplayingriotsan',\n",
       " '@cllrraymogford',\n",
       " '#hiroshimadevastationnewport',\n",
       " '@changeannihilationbig',\n",
       " '#dcubecrafts',\n",
       " '#greetingcards',\n",
       " '@bre_morrow',\n",
       " '#rn',\n",
       " '#henderson',\n",
       " '@fionagilbert_',\n",
       " '#truckcrash',\n",
       " '#fortworth',\n",
       " '@darkreading',\n",
       " '@15moferadio',\n",
       " '@heavybag201',\n",
       " '@battle_dom',\n",
       " '@qotring',\n",
       " '@battlerapchris',\n",
       " '@hughes1128',\n",
       " '#subs',\n",
       " '#washingtonpostderailwashington',\n",
       " '@coldmpress',\n",
       " '#besthijackingtokyo',\n",
       " '@bellalinn',\n",
       " '@scegnews',\n",
       " '#weatherfloodknoxville',\n",
       " '#megaquake',\n",
       " '@annajhm',\n",
       " '@jcomanse',\n",
       " '@paul_staubs',\n",
       " '@rslm72254',\n",
       " '@blanktgt',\n",
       " '#fartanxiety',\n",
       " '@115film',\n",
       " '@irishspy',\n",
       " '#nagasaki',\n",
       " '#otd',\n",
       " '@djicemoon',\n",
       " '#dubstep',\n",
       " '#trapmusic',\n",
       " '#dnb',\n",
       " '#edm',\n",
       " '#dance',\n",
       " '#ices',\n",
       " '@enews',\n",
       " '#eonlinechatarmageddoncanada',\n",
       " '#wxhazardousunited',\n",
       " '@drag0nking0201',\n",
       " '@breachgamingorg',\n",
       " '#sinkhole',\n",
       " '#avalanche',\n",
       " '#usa',\n",
       " '#france',\n",
       " '#usgs',\n",
       " '#emsclandslide',\n",
       " '@smhrefugees',\n",
       " '#otrametlife',\n",
       " '#indiatv',\n",
       " '@mythgriy',\n",
       " '@toxicsavior_',\n",
       " '@meetkakarotto',\n",
       " '#wxhailunited',\n",
       " '@tim_a_roberts',\n",
       " '#nlccollide',\n",
       " '#routecomplex',\n",
       " '#5sosfam',\n",
       " '@jakegint',\n",
       " '#roh3',\n",
       " '#jfb',\n",
       " '#tfb',\n",
       " '#alrasyid448iturasya',\n",
       " '#us',\n",
       " '#roh3smantibatamcollapsejkt48-muse-a7x',\n",
       " '@lenn_len',\n",
       " '@lindasocvat',\n",
       " '@tflbusalerts',\n",
       " '#king',\n",
       " '#deluge',\n",
       " '#dumuzid',\n",
       " '#kerricktrial',\n",
       " '#twcnewsclt',\n",
       " '@theghostparty',\n",
       " '@so',\n",
       " '@sorry',\n",
       " '#philippinesfire',\n",
       " '@csaresu',\n",
       " '@nbcnews',\n",
       " '@jaureguiswisdom',\n",
       " '@hollyorange8',\n",
       " '@bonn1egreer',\n",
       " '@_ashj',\n",
       " '@nikostar',\n",
       " '@bbcengland',\n",
       " '#northerncalifornia',\n",
       " '#zippednews',\n",
       " '@whedonesque',\n",
       " '#teamsurvivors',\n",
       " '#zombiefunrun2014surviveback',\n",
       " '@attackonstiles',\n",
       " '#chelsea',\n",
       " '#hazard',\n",
       " '#obliterationobliteration',\n",
       " '@camilacabello97',\n",
       " '@suryaray',\n",
       " '#suryaray',\n",
       " '#indiainjured',\n",
       " '@alcoholandmetal',\n",
       " '@xeni',\n",
       " '#skyrim',\n",
       " '@treyarch',\n",
       " '@davidvonderhaar',\n",
       " '#tnfirst',\n",
       " '#cricketbridge',\n",
       " '@cindynoonan',\n",
       " '#baltimore',\n",
       " '#rioting',\n",
       " '#yahistorical',\n",
       " '#undergroundrailraodriotingvista',\n",
       " '#wxkyfloodunited',\n",
       " '@aphl',\n",
       " '#arrestpastornganga',\n",
       " '@pageparkescorp',\n",
       " '@chloeunguyen',\n",
       " '@laurensicle',\n",
       " '@charstevens97',\n",
       " '@tiara_marei',\n",
       " '#gemma',\n",
       " '#bowe',\n",
       " '@chambered_blood',\n",
       " '#speakingfromexperiencebloodseattle',\n",
       " '@klavierstuk',\n",
       " '@awadgolf',\n",
       " '@gop',\n",
       " '@thejenmorillo',\n",
       " '#alllivesmatter',\n",
       " '#muhamadjabaloutbreak',\n",
       " '#bannukesbombednairobi',\n",
       " '@ian_hellfire',\n",
       " '#internationaltyphoonunites',\n",
       " '@businessmeltdowneverywhere',\n",
       " '@ego_resolution',\n",
       " '@bill_roose',\n",
       " '@kasiakosek',\n",
       " '#trees',\n",
       " '#deep',\n",
       " '#lake',\n",
       " '#forest',\n",
       " '#shoalstrafficwreck',\n",
       " '#gadget',\n",
       " '@ahhtheenikki',\n",
       " '@legna989',\n",
       " '#pbs',\n",
       " '#iraqcasualtiesuk',\n",
       " '@el_torro_loco',\n",
       " '@epic_insanity',\n",
       " '@yahoonewsfamineunited',\n",
       " '@christopherszen',\n",
       " '@hunterlove1995',\n",
       " '@tblack',\n",
       " ...]"
      ]
     },
     "execution_count": 42,
     "metadata": {},
     "output_type": "execute_result"
    }
   ],
   "source": [
    "print(\"Contain mentions or tags:\", (np.array(list(cnt_vec_tok.vocabulary_.keys()))[hashes]).shape)\n",
    "list(np.array(list(cnt_vec_tok.vocabulary_.keys()))[hashes])"
   ]
  },
  {
   "cell_type": "markdown",
   "metadata": {},
   "source": [
    "> Как и было сказано ранее, default'ный tokenizer удаляет практически всю пунктуацию, оставляя лишь $\\approx 4 \\% $ от изначального количества символов пунктуации. В то же время TweetTokenizer оставляет возможность взаимодействовать с различными конструкциями и получать больше информации от пунктуационных символов."
   ]
  },
  {
   "cell_type": "code",
   "execution_count": 43,
   "metadata": {},
   "outputs": [
    {
     "data": {
      "text/plain": [
       "array(['Ashes 2015: Australia\\x89Ûªs collapse at Trent Bridge among worst in history: England bundled out Australia for 60 ... http://t.co/t5TrhjUAU0bridge%20collapse',\n",
       "       'GREAT MICHIGAN TECHNIQUE CAMP\\nB1G THANKS TO @bmurph1019 \\n@hail_Youtsey . @termn8r13 \\n#GoBlue #WrestleOn http://t.co/OasKgki6QjhailCarol Stream, Illinois',\n",
       "       'CNN: Tennessee movie theater shooting suspect killed by police http://t.co/dI8ElZsWNRpoliceHouston ',\n",
       "       ...,\n",
       "       'Omron HEM-712C Automatic Blood Pressure Monitor STANDARD AND LARGE BP CUFFS http://t.co/gJBAInQWN9 http://t.co/jPhgpL1c5xblood',\n",
       "       'Officials say a quarantine is in place at an Alabama home over a possible Ebola case after developing symptoms... http://t.co/rqKK15uhEY',\n",
       "       'I moved to England five years ago today. What a whirlwind of time it has been! http://t.co/eaSlGeA1B7whirlwindStamford & Cork (& Shropshire)'],\n",
       "      dtype=object)"
      ]
     },
     "execution_count": 43,
     "metadata": {},
     "output_type": "execute_result"
    }
   ],
   "source": [
    "text"
   ]
  },
  {
   "cell_type": "code",
   "execution_count": 44,
   "metadata": {},
   "outputs": [
    {
     "data": {
      "text/plain": [
       "['Ashes',\n",
       " '2015',\n",
       " ':',\n",
       " 'Australia',\n",
       " '\\x89',\n",
       " 'Ûªs',\n",
       " 'collapse',\n",
       " 'at',\n",
       " 'Trent',\n",
       " 'Bridge',\n",
       " 'among',\n",
       " 'worst',\n",
       " 'in',\n",
       " 'history',\n",
       " ':',\n",
       " 'England',\n",
       " 'bundled',\n",
       " 'out',\n",
       " 'Australia',\n",
       " 'for',\n",
       " '60',\n",
       " '...',\n",
       " 'http://t.co/t5TrhjUAU0bridge%20collapse']"
      ]
     },
     "execution_count": 44,
     "metadata": {},
     "output_type": "execute_result"
    }
   ],
   "source": [
    "TweetTokenizer().tokenize(text[0])"
   ]
  },
  {
   "cell_type": "markdown",
   "metadata": {},
   "source": [
    "## Задание 7 (2 балла)\n",
    "\n",
    "В scikit-learn мы можем оценивать процесс подсчета матрицы через CountVectorizer. У CountVectorizer, как и у других наследников \\_VectorizerMixin, есть аргумент tokenizer и preprocessor. preprocessor применится в самом начале к каждой строке вашего датасета, tokenizer же должен принять строку и вернуть токены.\n",
    "Давайте напишем кастомный токенайзер, которые сделает все, что нам нужно: \n",
    "\n",
    "0. Приведет все буквы к нижнему регистру\n",
    "1. Разобьет текст на токены с помощью `TweetTokenizer` из пакета `nltk`\n",
    "2. Удалит все токены содержащие не латинские буквы, кроме смайликов (будем считать ими токены, содержащие только пунктуацию и, как минимум, одну скобочку) и хэштегов, которые после начальной # содержат только латинские буквы.\n",
    "3. Удалит все токены, которые перечислены в `nltk.corpus.stopwords.words('english')`\n",
    "4. Проведет стемминг с помощью `SnowballStemmer`\n",
    "\n",
    "Продемонстрируйте работу вашей функции на первых десяти текстах в обучающей выборке."
   ]
  },
  {
   "cell_type": "code",
   "execution_count": 45,
   "metadata": {},
   "outputs": [],
   "source": [
    "line = text[26]"
   ]
  },
  {
   "cell_type": "code",
   "execution_count": 46,
   "metadata": {},
   "outputs": [
    {
     "data": {
      "text/plain": [
       "'Maryland mansion fire that killed 6 caused by damaged plug under Christmas tree report says - Into the flames... http://t.co/lKJFabQzb3flamesSomewhere Around You'"
      ]
     },
     "execution_count": 46,
     "metadata": {},
     "output_type": "execute_result"
    }
   ],
   "source": [
    "line"
   ]
  },
  {
   "cell_type": "code",
   "execution_count": 47,
   "metadata": {},
   "outputs": [],
   "source": [
    "from nltk.tokenize import TweetTokenizer\n",
    "from nltk.corpus import stopwords\n",
    "from nltk.stem.snowball import SnowballStemmer\n",
    "import re"
   ]
  },
  {
   "cell_type": "code",
   "execution_count": 48,
   "metadata": {},
   "outputs": [
    {
     "name": "stdout",
     "output_type": "stream",
     "text": [
      "['i', 'me', 'my', 'myself', 'we', 'our', 'ours', 'ourselves', 'you', \"you're\", \"you've\", \"you'll\", \"you'd\", 'your', 'yours', 'yourself', 'yourselves', 'he', 'him', 'his', 'himself', 'she', \"she's\", 'her', 'hers', 'herself', 'it', \"it's\", 'its', 'itself', 'they', 'them', 'their', 'theirs', 'themselves', 'what', 'which', 'who', 'whom', 'this', 'that', \"that'll\", 'these', 'those', 'am', 'is', 'are', 'was', 'were', 'be', 'been', 'being', 'have', 'has', 'had', 'having', 'do', 'does', 'did', 'doing', 'a', 'an', 'the', 'and', 'but', 'if', 'or', 'because', 'as', 'until', 'while', 'of', 'at', 'by', 'for', 'with', 'about', 'against', 'between', 'into', 'through', 'during', 'before', 'after', 'above', 'below', 'to', 'from', 'up', 'down', 'in', 'out', 'on', 'off', 'over', 'under', 'again', 'further', 'then', 'once', 'here', 'there', 'when', 'where', 'why', 'how', 'all', 'any', 'both', 'each', 'few', 'more', 'most', 'other', 'some', 'such', 'no', 'nor', 'not', 'only', 'own', 'same', 'so', 'than', 'too', 'very', 's', 't', 'can', 'will', 'just', 'don', \"don't\", 'should', \"should've\", 'now', 'd', 'll', 'm', 'o', 're', 've', 'y', 'ain', 'aren', \"aren't\", 'couldn', \"couldn't\", 'didn', \"didn't\", 'doesn', \"doesn't\", 'hadn', \"hadn't\", 'hasn', \"hasn't\", 'haven', \"haven't\", 'isn', \"isn't\", 'ma', 'mightn', \"mightn't\", 'mustn', \"mustn't\", 'needn', \"needn't\", 'shan', \"shan't\", 'shouldn', \"shouldn't\", 'wasn', \"wasn't\", 'weren', \"weren't\", 'won', \"won't\", 'wouldn', \"wouldn't\"]\n"
     ]
    }
   ],
   "source": [
    "print(stopwords.words('english'))"
   ]
  },
  {
   "cell_type": "code",
   "execution_count": 49,
   "metadata": {},
   "outputs": [],
   "source": [
    "def tokenizer(line: str) -> list:\n",
    "    line = line.lower()\n",
    "    \n",
    "    \n",
    "    tokenized_line = np.array(TweetTokenizer().tokenize(line))\n",
    "    \n",
    "    \n",
    "    latin_letters_only = re.compile('[A-Za-z0-9]*')\n",
    "    tags = re.compile('#{1}[A-Za-z0-9]*')\n",
    "    smile = re.compile(f'[{string.punctuation}]*[()]+')\n",
    "\n",
    "    filtered_mask = list(map(lambda token: True if\n",
    "                                           (latin_letters_only.fullmatch(token) is not None )| \n",
    "                                           (tags.fullmatch(token) is not None) | \n",
    "                                           (smile.fullmatch(token) is not None) \n",
    "                                           else False, \n",
    "                        tokenized_line))\n",
    "    tokenized_line = tokenized_line[filtered_mask]\n",
    "    \n",
    "    \n",
    "    tokenized_line = [token for token in tokenized_line if token not in stopwords.words('english')]\n",
    "    \n",
    "    \n",
    "    stemmer = SnowballStemmer('english')\n",
    "    tokenized_line = [stemmer.stem(token) for token in tokenized_line]\n",
    "    \n",
    "    return tokenized_line"
   ]
  },
  {
   "cell_type": "code",
   "execution_count": 50,
   "metadata": {},
   "outputs": [
    {
     "name": "stdout",
     "output_type": "stream",
     "text": [
      "13 ['ash', '2015', 'australia', 'collaps', 'trent', 'bridg', 'among', 'worst', 'histori', 'england', 'bundl', 'australia', '60']\n",
      "10 ['great', 'michigan', 'techniqu', 'camp', 'b1g', 'thank', '#goblu', '#wrestleon', 'stream', 'illinoi']\n",
      "8 ['cnn', 'tennesse', 'movi', 'theater', 'shoot', 'suspect', 'kill', 'polic']\n",
      "5 ['still', 'riot', 'coupl', 'hour', 'left']\n",
      "13 ['crack', 'path', 'wipe', 'morn', 'beach', 'run', 'surfac', 'wound', 'left', 'elbow', 'right', 'knee', 'highland']\n",
      "15 ['expert', 'franc', 'begin', 'examin', 'airplan', 'debri', 'found', 'reunion', 'island', 'french', 'air', 'accid', 'expert', '#mlbairplan', '20accidentsomewher']\n",
      "14 ['came', 'kill', 'indian', 'fun', 'video', 'smirk', 'remorseless', 'pakistani', 'killer', 'show', 'boast', 'citi', 'world', 'perth']\n",
      "5 ['except', 'idk', 'realli', 'burn', 'burn']\n",
      "5 ['destroy', 'housedestroyh', '(', 'ask', ')']\n",
      "9 ['polic', 'offic', 'wound', 'suspect', 'dead', 'exchang', 'shot', 'nirgua', 'venezuela']\n"
     ]
    }
   ],
   "source": [
    "for i in range(0, 10):\n",
    "    tokenized = tokenizer(text[i])\n",
    "    print(len(tokenized), tokenized)"
   ]
  },
  {
   "cell_type": "code",
   "execution_count": 51,
   "metadata": {},
   "outputs": [
    {
     "name": "stdout",
     "output_type": "stream",
     "text": [
      "23 ['Ashes', '2015', ':', 'Australia', '\\x89', 'Ûªs', 'collapse', 'at', 'Trent', 'Bridge', 'among', 'worst', 'in', 'history', ':', 'England', 'bundled', 'out', 'Australia', 'for', '60', '...', 'http://t.co/t5TrhjUAU0bridge%20collapse']\n",
      "17 ['GREAT', 'MICHIGAN', 'TECHNIQUE', 'CAMP', 'B1G', 'THANKS', 'TO', '@bmurph1019', '@hail_Youtsey', '.', '@termn8r13', '#GoBlue', '#WrestleOn', 'http://t.co/OasKgki6QjhailCarol', 'Stream', ',', 'Illinois']\n",
      "11 ['CNN', ':', 'Tennessee', 'movie', 'theater', 'shooting', 'suspect', 'killed', 'by', 'police', 'http://t.co/dI8ElZsWNRpoliceHouston']\n",
      "16 ['Still', 'rioting', 'in', 'a', 'couple', 'of', 'hours', 'left', 'until', 'I', 'have', 'to', 'be', 'up', 'for', 'class.rioting']\n",
      "25 ['Crack', 'in', 'the', 'path', 'where', 'I', 'wiped', 'out', 'this', 'morning', 'during', 'beach', 'run', '.', 'Surface', 'wounds', 'on', 'left', 'elbow', 'and', 'right', 'knee', '.', 'http://t.co/yaqRSximphwoundsLake', 'Highlands']\n",
      "24 ['Experts', 'in', 'France', 'begin', 'examining', 'airplane', 'debris', 'found', 'on', 'Reunion', 'Island', ':', 'French', 'air', 'accident', 'experts', 'on', '...', 'http://t.co/TagZbcXFj0', '#MLBairplane', '%', '20accidentSomewhere', 'Out', 'There']\n",
      "27 [\"'\", 'I', 'came', 'to', 'kill', 'Indians', '...', 'for', 'FUN', \"'\", ':', 'Video', 'of', 'smirking', 'and', 'remorseless', 'Pakistani', 'killer', 'shows', 'him', 'boasting', '.', 'http://t.co/FPjLwOXKlgbloodyIsolated', 'City', 'In', 'World', 'Perth']\n",
      "13 ['@JohnsonTionne', 'except', 'idk', 'them', '?', '?', \"it's\", 'really', 'burning', '?', '?', '?', 'burning']\n",
      "12 ['destroy', 'the', 'housedestroyhe', '/', 'him', 'or', 'she', '/', 'her', '(', 'ask', ')']\n",
      "13 ['Police', 'Officer', 'Wounded', 'Suspect', 'Dead', 'After', 'Exchanging', 'Shots', 'http://t.co/XxFk4KHbIwwoundedMaracay', 'y', 'Nirgua', ',', 'Venezuela']\n"
     ]
    }
   ],
   "source": [
    "for i in range(0, 10):\n",
    "    tw = TweetTokenizer().tokenize(text[i])\n",
    "    print(len(tw), tw)"
   ]
  },
  {
   "cell_type": "markdown",
   "metadata": {},
   "source": [
    "## Задание 8 (1 балл)\n",
    "\n",
    "1. Примените CountVectorizer с реализованным выше токенизатором к обучающим и тестовым выборкам.\n",
    "2. Обучите LogisticRegression на полученных признаках.\n",
    "3. Посчитайте метрику f1-score на тестовых данных."
   ]
  },
  {
   "cell_type": "code",
   "execution_count": 52,
   "metadata": {},
   "outputs": [],
   "source": [
    "from sklearn.metrics import classification_report, f1_score\n",
    "from sklearn.linear_model import LogisticRegression \n",
    "from pymystem3 import Mystem"
   ]
  },
  {
   "cell_type": "code",
   "execution_count": 53,
   "metadata": {},
   "outputs": [],
   "source": [
    "text_train = np.array(train.text.copy(True))\n",
    "text_test  = np.array(test.text.copy(True))"
   ]
  },
  {
   "cell_type": "code",
   "execution_count": 55,
   "metadata": {},
   "outputs": [
    {
     "data": {
      "text/plain": [
       "0.742667404537908"
      ]
     },
     "execution_count": 55,
     "metadata": {},
     "output_type": "execute_result"
    }
   ],
   "source": [
    "cnt_vec = CountVectorizer(tokenizer=tokenizer)\n",
    "X_train = cnt_vec.fit_transform(text_train)\n",
    "X_test  = cnt_vec.transform(text_test)\n",
    "\n",
    "clf = LogisticRegression(max_iter=200)\n",
    "clf.fit(X_train, train.target)\n",
    "f1_score(test.target, clf.predict(X_test))"
   ]
  },
  {
   "cell_type": "code",
   "execution_count": 56,
   "metadata": {},
   "outputs": [
    {
     "data": {
      "text/plain": [
       "0.734315330060011"
      ]
     },
     "execution_count": 56,
     "metadata": {},
     "output_type": "execute_result"
    }
   ],
   "source": [
    "cnt_vec = CountVectorizer(tokenizer=TweetTokenizer().tokenize)\n",
    "X_train = cnt_vec.fit_transform(text_train)\n",
    "X_test  = cnt_vec.transform(text_test)\n",
    "\n",
    "clf = LogisticRegression(max_iter=200)\n",
    "clf.fit(X_train, train.target)\n",
    "f1_score(test.target, clf.predict(X_test))"
   ]
  },
  {
   "cell_type": "code",
   "execution_count": 57,
   "metadata": {},
   "outputs": [
    {
     "data": {
      "text/plain": [
       "0.7475516866158868"
      ]
     },
     "execution_count": 57,
     "metadata": {},
     "output_type": "execute_result"
    }
   ],
   "source": [
    "from nltk.tokenize import word_tokenize\n",
    "\n",
    "cnt_vec = CountVectorizer(tokenizer=word_tokenize)\n",
    "X_train = cnt_vec.fit_transform(text_train)\n",
    "X_test  = cnt_vec.transform(text_test)\n",
    "\n",
    "clf = LogisticRegression(max_iter=200)\n",
    "clf.fit(X_train, train.target)\n",
    "f1_score(test.target, clf.predict(X_test))"
   ]
  },
  {
   "cell_type": "code",
   "execution_count": 58,
   "metadata": {},
   "outputs": [
    {
     "data": {
      "text/plain": [
       "0.7446692181519956"
      ]
     },
     "execution_count": 58,
     "metadata": {},
     "output_type": "execute_result"
    }
   ],
   "source": [
    "from nltk.tokenize import TreebankWordTokenizer\n",
    "\n",
    "cnt_vec = CountVectorizer(tokenizer=TreebankWordTokenizer().tokenize)\n",
    "X_train = cnt_vec.fit_transform(text_train)\n",
    "X_test  = cnt_vec.transform(text_test)\n",
    "\n",
    "clf = LogisticRegression(max_iter=200)\n",
    "clf.fit(X_train, train.target)\n",
    "f1_score(test.target, clf.predict(X_test))"
   ]
  },
  {
   "cell_type": "markdown",
   "metadata": {},
   "source": [
    "##### Стемминг без удаления стоп-слов:"
   ]
  },
  {
   "cell_type": "code",
   "execution_count": 205,
   "metadata": {},
   "outputs": [],
   "source": [
    "def optimized_tokenizer(line: str) -> list:\n",
    "    line = line.lower()\n",
    "    \n",
    "    \n",
    "    tokenized_line = np.array(TweetTokenizer().tokenize(line))\n",
    "    \n",
    "    \n",
    "    latin_letters_only = re.compile('[A-Za-z0-9]*')\n",
    "    tags = re.compile('#{1}[A-Za-z0-9]*')\n",
    "    smile = re.compile(f'[{string.punctuation}]*[()]+')\n",
    "\n",
    "    filtered_mask = list(map(lambda token: True if\n",
    "                                           (latin_letters_only.fullmatch(token) is not None )| \n",
    "                                           (tags.fullmatch(token) is not None) | \n",
    "                                           (smile.fullmatch(token) is not None) \n",
    "                                           else False, \n",
    "                        tokenized_line))\n",
    "    tokenized_line = tokenized_line[filtered_mask]\n",
    "\n",
    "    \n",
    "    stemmer = SnowballStemmer('english')\n",
    "    tokenized_line = [stemmer.stem(token) for token in tokenized_line]\n",
    "\n",
    "#     my_lemmatizer = Mystem()\n",
    "#     tokenized_line = my_lemmatizer.lemmatize(' '.join(tokenized_line))\n",
    "\n",
    "    \n",
    "#     tokenized_line = [token for token in tokenized_line if token not in stopwords.words('english')]\n",
    "\n",
    "    \n",
    "    \n",
    "    return tokenized_line"
   ]
  },
  {
   "cell_type": "code",
   "execution_count": 65,
   "metadata": {},
   "outputs": [
    {
     "data": {
      "text/plain": [
       "0.760797342192691"
      ]
     },
     "execution_count": 65,
     "metadata": {},
     "output_type": "execute_result"
    }
   ],
   "source": [
    "# Лучший результат (f1_score = 0.76) - без удаления stopwords\n",
    "cnt_vec = CountVectorizer(tokenizer=optimized_tokenizer)\n",
    "X_train = cnt_vec.fit_transform(text_train)\n",
    "X_test  = cnt_vec.transform(text_test)\n",
    "\n",
    "clf = LogisticRegression(max_iter=200)\n",
    "clf.fit(X_train, train.target)\n",
    "f1_score(test.target, clf.predict(X_test))"
   ]
  },
  {
   "cell_type": "markdown",
   "metadata": {},
   "source": [
    "##### Лемматизация без удаления стоп-слов:"
   ]
  },
  {
   "cell_type": "code",
   "execution_count": 212,
   "metadata": {},
   "outputs": [],
   "source": [
    "def optimized_tokenizer_with_lemmatization(line: str) -> list:\n",
    "    line = line.lower()\n",
    "    \n",
    "    \n",
    "    tokenized_line = np.array(TweetTokenizer().tokenize(line))\n",
    "    \n",
    "    \n",
    "    latin_letters_only = re.compile('[A-Za-z0-9]*')\n",
    "    tags = re.compile('#{1}[A-Za-z0-9]*')\n",
    "    smile = re.compile(f'[{string.punctuation}]*[()]+')\n",
    "\n",
    "    filtered_mask = list(map(lambda token: True if\n",
    "                                           (latin_letters_only.fullmatch(token) is not None )| \n",
    "                                           (tags.fullmatch(token) is not None) | \n",
    "                                           (smile.fullmatch(token) is not None) \n",
    "                                           else False, \n",
    "                        tokenized_line))\n",
    "    tokenized_line = tokenized_line[filtered_mask]\n",
    "\n",
    "    \n",
    "#     stemmer = SnowballStemmer('english')\n",
    "#     tokenized_line = [stemmer.stem(token) for token in tokenized_line]\n",
    "\n",
    "    my_lemmatizer = Mystem()\n",
    "    tokenized_line = my_lemmatizer.lemmatize(' '.join(tokenized_line))\n",
    "\n",
    "    \n",
    "#     tokenized_line = [token for token in tokenized_line if token not in stopwords.words('english')]\n",
    "\n",
    "    \n",
    "    \n",
    "    return tokenized_line"
   ]
  },
  {
   "cell_type": "code",
   "execution_count": 213,
   "metadata": {},
   "outputs": [
    {
     "name": "stderr",
     "output_type": "stream",
     "text": [
      "C:\\ProgramData\\Anaconda3\\lib\\site-packages\\sklearn\\linear_model\\_logistic.py:763: ConvergenceWarning: lbfgs failed to converge (status=1):\n",
      "STOP: TOTAL NO. of ITERATIONS REACHED LIMIT.\n",
      "\n",
      "Increase the number of iterations (max_iter) or scale the data as shown in:\n",
      "    https://scikit-learn.org/stable/modules/preprocessing.html\n",
      "Please also refer to the documentation for alternative solver options:\n",
      "    https://scikit-learn.org/stable/modules/linear_model.html#logistic-regression\n",
      "  n_iter_i = _check_optimize_result(\n"
     ]
    },
    {
     "data": {
      "text/plain": [
       "0.7516411378555798"
      ]
     },
     "execution_count": 213,
     "metadata": {},
     "output_type": "execute_result"
    }
   ],
   "source": [
    "cnt_vec = CountVectorizer(tokenizer=optimized_tokenizer_with_lemmatization)\n",
    "X_train = cnt_vec.fit_transform(text_train)\n",
    "X_test  = cnt_vec.transform(text_test)\n",
    "\n",
    "clf = LogisticRegression(max_iter=200)\n",
    "clf.fit(X_train, train.target)\n",
    "f1_score(test.target, clf.predict(X_test))"
   ]
  },
  {
   "cell_type": "markdown",
   "metadata": {},
   "source": [
    "> Получили хороший результат, но без удаления стоп-слов лемматизация оказалась не лучше стемминга. (0.760797342192691)"
   ]
  },
  {
   "cell_type": "markdown",
   "metadata": {},
   "source": [
    "##### Лемматизация + удаление стоп-слов:"
   ]
  },
  {
   "cell_type": "code",
   "execution_count": 214,
   "metadata": {},
   "outputs": [],
   "source": [
    "def optimized_tokenizer_with_lemmatization_and_without_stopwords(line: str) -> list:\n",
    "    line = line.lower()\n",
    "    \n",
    "    \n",
    "    tokenized_line = np.array(TweetTokenizer().tokenize(line))\n",
    "    \n",
    "    \n",
    "    latin_letters_only = re.compile('[A-Za-z0-9]*')\n",
    "    tags = re.compile('#{1}[A-Za-z0-9]*')\n",
    "    smile = re.compile(f'[{string.punctuation}]*[()]+')\n",
    "\n",
    "    filtered_mask = list(map(lambda token: True if\n",
    "                                           (latin_letters_only.fullmatch(token) is not None )| \n",
    "                                           (tags.fullmatch(token) is not None) | \n",
    "                                           (smile.fullmatch(token) is not None) \n",
    "                                           else False, \n",
    "                        tokenized_line))\n",
    "    tokenized_line = tokenized_line[filtered_mask]\n",
    "\n",
    "    \n",
    "#     stemmer = SnowballStemmer('english')\n",
    "#     tokenized_line = [stemmer.stem(token) for token in tokenized_line]\n",
    "\n",
    "    my_lemmatizer = Mystem()\n",
    "    tokenized_line = my_lemmatizer.lemmatize(' '.join(tokenized_line))\n",
    "\n",
    "    \n",
    "    tokenized_line = [token for token in tokenized_line if token not in stopwords.words('english')]\n",
    "\n",
    "    \n",
    "    \n",
    "    return tokenized_line"
   ]
  },
  {
   "cell_type": "code",
   "execution_count": 215,
   "metadata": {},
   "outputs": [
    {
     "name": "stderr",
     "output_type": "stream",
     "text": [
      "C:\\ProgramData\\Anaconda3\\lib\\site-packages\\sklearn\\linear_model\\_logistic.py:763: ConvergenceWarning: lbfgs failed to converge (status=1):\n",
      "STOP: TOTAL NO. of ITERATIONS REACHED LIMIT.\n",
      "\n",
      "Increase the number of iterations (max_iter) or scale the data as shown in:\n",
      "    https://scikit-learn.org/stable/modules/preprocessing.html\n",
      "Please also refer to the documentation for alternative solver options:\n",
      "    https://scikit-learn.org/stable/modules/linear_model.html#logistic-regression\n",
      "  n_iter_i = _check_optimize_result(\n"
     ]
    },
    {
     "data": {
      "text/plain": [
       "0.7468423942888521"
      ]
     },
     "execution_count": 215,
     "metadata": {},
     "output_type": "execute_result"
    }
   ],
   "source": [
    "cnt_vec = CountVectorizer(tokenizer=optimized_tokenizer_with_lemmatization_and_without_stopwords)\n",
    "X_train = cnt_vec.fit_transform(text_train)\n",
    "X_test  = cnt_vec.transform(text_test)\n",
    "\n",
    "clf = LogisticRegression(max_iter=200)\n",
    "clf.fit(X_train, train.target)\n",
    "f1_score(test.target, clf.predict(X_test))"
   ]
  },
  {
   "cell_type": "markdown",
   "metadata": {},
   "source": [
    "##### Удаление стоп-слов + лемматизация:"
   ]
  },
  {
   "cell_type": "code",
   "execution_count": 216,
   "metadata": {},
   "outputs": [],
   "source": [
    "def optimized_tokenizer_without_stopwords_and_with_lemmatization(line: str) -> list:\n",
    "    line = line.lower()\n",
    "    \n",
    "    \n",
    "    tokenized_line = np.array(TweetTokenizer().tokenize(line))\n",
    "    \n",
    "    \n",
    "    latin_letters_only = re.compile('[A-Za-z]+[A-Za-z0-9]*[A-Za-z]+')\n",
    "    tags = re.compile('#{1}[A-Za-z0-9]*')\n",
    "    smile = re.compile(f'[{string.punctuation}]*[()]+')\n",
    "\n",
    "    filtered_mask = list(map(lambda token: True if\n",
    "                                           (latin_letters_only.fullmatch(token) is not None )| \n",
    "                                           (tags.fullmatch(token) is not None) | \n",
    "                                           (smile.fullmatch(token) is not None) \n",
    "                                           else False, \n",
    "                        tokenized_line))\n",
    "    tokenized_line = tokenized_line[filtered_mask]\n",
    "       \n",
    "        \n",
    "    tokenized_line = [token for token in tokenized_line if token not in stopwords.words('english')]\n",
    "\n",
    "    \n",
    "#     stemmer = SnowballStemmer('english')\n",
    "#     tokenized_line = [stemmer.stem(token) for token in tokenized_line]\n",
    "\n",
    "\n",
    "    my_lemmatizer = Mystem()\n",
    "    tokenized_line = my_lemmatizer.lemmatize(' '.join(tokenized_line))\n",
    "\n",
    "    \n",
    "    \n",
    "    return tokenized_line"
   ]
  },
  {
   "cell_type": "code",
   "execution_count": 217,
   "metadata": {},
   "outputs": [
    {
     "name": "stdout",
     "output_type": "stream",
     "text": [
      "Wall time: 1h 46min 22s\n"
     ]
    },
    {
     "name": "stderr",
     "output_type": "stream",
     "text": [
      "C:\\ProgramData\\Anaconda3\\lib\\site-packages\\sklearn\\linear_model\\_logistic.py:763: ConvergenceWarning: lbfgs failed to converge (status=1):\n",
      "STOP: TOTAL NO. of ITERATIONS REACHED LIMIT.\n",
      "\n",
      "Increase the number of iterations (max_iter) or scale the data as shown in:\n",
      "    https://scikit-learn.org/stable/modules/preprocessing.html\n",
      "Please also refer to the documentation for alternative solver options:\n",
      "    https://scikit-learn.org/stable/modules/linear_model.html#logistic-regression\n",
      "  n_iter_i = _check_optimize_result(\n"
     ]
    },
    {
     "data": {
      "text/plain": [
       "0.743109151047409"
      ]
     },
     "execution_count": 217,
     "metadata": {},
     "output_type": "execute_result"
    }
   ],
   "source": [
    "%%time\n",
    "cnt_vec = CountVectorizer(tokenizer=optimized_tokenizer_without_stopwords_and_with_lemmatization)\n",
    "X_train = cnt_vec.fit_transform(text_train)\n",
    "X_test  = cnt_vec.transform(text_test)\n",
    "\n",
    "clf = LogisticRegression(max_iter=200)\n",
    "clf.fit(X_train, train.target)\n",
    "f1_score(test.target, clf.predict(X_test))"
   ]
  },
  {
   "cell_type": "markdown",
   "metadata": {},
   "source": [
    "## Задание 9 (1 балл)\n",
    "\n",
    "1. Повторите 8 задание, но с tf-idf векторизатором. Как изменилось качество?\n",
    "2. Мы можем еще сильнее уменьшить размер нашей матрицы, если отбросим значения df близкие к единице. Скорее всего такие слова не несут много информации о категории, так как встречаются достаточно часто. Ограничьте максимальный df в параметрах TfIdfVectorizer, поставьте верхнюю границу равную 0.9. Как изменился размер матрицы, как изменилось качество?\n",
    "3. Также мы можем уменьшить размер матрицы, удаляя слова со слишком маленьким df. Удалось ли добиться улучшения качества? "
   ]
  },
  {
   "cell_type": "code",
   "execution_count": 67,
   "metadata": {},
   "outputs": [],
   "source": [
    "from sklearn.feature_extraction.text import TfidfVectorizer"
   ]
  },
  {
   "cell_type": "code",
   "execution_count": 75,
   "metadata": {},
   "outputs": [
    {
     "data": {
      "text/plain": [
       "0.7378752886836027"
      ]
     },
     "execution_count": 75,
     "metadata": {},
     "output_type": "execute_result"
    }
   ],
   "source": [
    "tfidf_vec = TfidfVectorizer(tokenizer=tokenizer)\n",
    "X_train_tfidf = tfidf_vec.fit_transform(text_train)\n",
    "X_test_tfidf  = tfidf_vec.transform(text_test)\n",
    "\n",
    "clf = LogisticRegression(max_iter=200)\n",
    "clf.fit(X_train_tfidf, train.target)\n",
    "f1_score(test.target, clf.predict(X_test_tfidf))"
   ]
  },
  {
   "cell_type": "code",
   "execution_count": 72,
   "metadata": {},
   "outputs": [
    {
     "data": {
      "text/plain": [
       "0.7439504783342712"
      ]
     },
     "execution_count": 72,
     "metadata": {},
     "output_type": "execute_result"
    }
   ],
   "source": [
    "# tfidf_vec = TfidfVectorizer(tokenizer=TweetTokenizer().tokenize)\n",
    "# X_train_tfidf = tfidf_vec.fit_transform(text_train)\n",
    "# X_test_tfidf  = tfidf_vec.transform(text_test)\n",
    "\n",
    "# clf = LogisticRegression(max_iter=200)\n",
    "# clf.fit(X_train_tfidf, train.target)\n",
    "# f1_score(test.target, clf.predict(X_test_tfidf))"
   ]
  },
  {
   "cell_type": "code",
   "execution_count": 74,
   "metadata": {},
   "outputs": [
    {
     "data": {
      "text/plain": [
       "0.7545045045045046"
      ]
     },
     "execution_count": 74,
     "metadata": {},
     "output_type": "execute_result"
    }
   ],
   "source": [
    "# Без удаления стоп-слов\n",
    "\n",
    "# tfidf_vec = TfidfVectorizer(tokenizer=optimized_tokenizer)\n",
    "# X_train_tfidf = tfidf_vec.fit_transform(text_train)\n",
    "# X_test_tfidf  = tfidf_vec.transform(text_test)\n",
    "\n",
    "# clf = LogisticRegression(max_iter=200)\n",
    "# clf.fit(X_train_tfidf, train.target)\n",
    "# f1_score(test.target, clf.predict(X_test_tfidf))"
   ]
  },
  {
   "cell_type": "code",
   "execution_count": 78,
   "metadata": {},
   "outputs": [
    {
     "data": {
      "text/plain": [
       "(5329, 12106)"
      ]
     },
     "execution_count": 78,
     "metadata": {},
     "output_type": "execute_result"
    }
   ],
   "source": [
    "X_train_tfidf.toarray().shape"
   ]
  },
  {
   "cell_type": "code",
   "execution_count": 164,
   "metadata": {
    "scrolled": true
   },
   "outputs": [
    {
     "name": "stdout",
     "output_type": "stream",
     "text": [
      "0.015\n",
      "0.7165400350672122 \n",
      "\n",
      "0.016\n",
      "0.7212543554006969 \n",
      "\n",
      "0.017\n",
      "0.7238979118329466 \n",
      "\n",
      "0.018000000000000002\n",
      "0.7227378190255219 \n",
      "\n",
      "0.019000000000000003\n",
      "0.7269565217391304 \n",
      "\n",
      "0.020000000000000004\n",
      "0.7272727272727274 \n",
      "\n",
      "0.021000000000000005\n",
      "0.7351916376306621 \n",
      "\n",
      "0.022000000000000006\n",
      "0.7365373480023162 \n",
      "\n",
      "0.023000000000000007\n",
      "0.7365373480023162 \n",
      "\n",
      "0.024000000000000007\n",
      "0.7365373480023162 \n",
      "\n",
      "0.02500000000000001\n",
      "0.7365373480023162 \n",
      "\n",
      "0.02600000000000001\n",
      "0.7346465816917729 \n",
      "\n",
      "0.02700000000000001\n",
      "0.7346465816917729 \n",
      "\n",
      "0.02800000000000001\n",
      "0.7339130434782609 \n",
      "\n",
      "0.029000000000000012\n",
      "0.7342939481268013 \n",
      "\n",
      "0.030000000000000013\n",
      "0.7342939481268013 \n",
      "\n",
      "0.031000000000000014\n",
      "0.7342939481268013 \n",
      "\n",
      "0.032000000000000015\n",
      "0.7342939481268013 \n",
      "\n",
      "0.033000000000000015\n",
      "0.7342939481268013 \n",
      "\n",
      "0.034000000000000016\n",
      "0.7341772151898734 \n",
      "\n",
      "0.03500000000000002\n",
      "0.7341772151898734 \n",
      "\n"
     ]
    }
   ],
   "source": [
    "# Пытаемся понять, какой max_df лучше при токенайзере из задачи 7\n",
    "\n",
    "res =[]\n",
    "for df in np.arange(0.015, 0.0351, 0.001):\n",
    "    print(df)\n",
    "    tfidf_vec = TfidfVectorizer(tokenizer=tokenizer, max_df=df)\n",
    "    X_train_tfidf = tfidf_vec.fit_transform(text_train)\n",
    "    X_test_tfidf  = tfidf_vec.transform(text_test)\n",
    "\n",
    "    clf = LogisticRegression(max_iter=100)\n",
    "    clf.fit(X_train_tfidf, train.target)\n",
    "    res.append(f1_score(test.target, clf.predict(X_test_tfidf)))\n",
    "    print(res[-1], '\\n')"
   ]
  },
  {
   "cell_type": "code",
   "execution_count": 178,
   "metadata": {},
   "outputs": [
    {
     "data": {
      "text/plain": [
       "Text(0.5, 1.0, 'Dependence between df_max and f1_score')"
      ]
     },
     "execution_count": 178,
     "metadata": {},
     "output_type": "execute_result"
    },
    {
     "data": {
      "image/png": "[encoded data removed]",
      "text/plain": [
       "<Figure size 432x288 with 1 Axes>"
      ]
     },
     "metadata": {},
     "output_type": "display_data"
    }
   ],
   "source": [
    "import matplotlib.pyplot as plt\n",
    "\n",
    "plt.plot(np.arange(0.015, 0.0351, 0.001), res)\n",
    "plt.xlabel(\"df_max\")\n",
    "plt.ylabel(\"f1_score\")\n",
    "plt.title(\"Dependence between df_max and f1_score\")"
   ]
  },
  {
   "cell_type": "code",
   "execution_count": 181,
   "metadata": {},
   "outputs": [
    {
     "data": {
      "text/plain": [
       "0.7464549064095292"
      ]
     },
     "execution_count": 181,
     "metadata": {},
     "output_type": "execute_result"
    }
   ],
   "source": [
    "tfidf_vec = TfidfVectorizer(tokenizer=tokenizer, min_df=0.00047)\n",
    "X_train_tfidf = tfidf_vec.fit_transform(text_train)\n",
    "X_test_tfidf  = tfidf_vec.transform(text_test)\n",
    "\n",
    "clf = LogisticRegression(max_iter=100)\n",
    "clf.fit(X_train_tfidf, train.target)\n",
    "f1_score(test.target, clf.predict(X_test_tfidf))"
   ]
  },
  {
   "cell_type": "code",
   "execution_count": 218,
   "metadata": {},
   "outputs": [
    {
     "name": "stdout",
     "output_type": "stream",
     "text": [
      "Wall time: 1h 47min 5s\n"
     ]
    },
    {
     "data": {
      "text/plain": [
       "0.7257780387551379"
      ]
     },
     "execution_count": 218,
     "metadata": {},
     "output_type": "execute_result"
    }
   ],
   "source": [
    "%%time\n",
    "\n",
    "tfidf_vec = TfidfVectorizer(tokenizer=optimized_tokenizer_with_lemmatization_and_without_stopwords, min_df=0.00047)\n",
    "X_train_tfidf = tfidf_vec.fit_transform(text_train)\n",
    "X_test_tfidf  = tfidf_vec.transform(text_test)\n",
    "\n",
    "clf = LogisticRegression(max_iter=300)\n",
    "clf.fit(X_train_tfidf, train.target)\n",
    "f1_score(test.target, clf.predict(X_test_tfidf))"
   ]
  },
  {
   "cell_type": "code",
   "execution_count": 235,
   "metadata": {},
   "outputs": [
    {
     "name": "stdout",
     "output_type": "stream",
     "text": [
      "Wall time: 2.17 s\n"
     ]
    },
    {
     "data": {
      "text/plain": [
       "0.7577290612703766"
      ]
     },
     "execution_count": 235,
     "metadata": {},
     "output_type": "execute_result"
    }
   ],
   "source": [
    "%%time\n",
    "\n",
    "tfidf_vec = TfidfVectorizer(tokenizer=optimized_tokenizer, min_df=0.00047)\n",
    "X_train_tfidf = tfidf_vec.fit_transform(text_train)\n",
    "X_test_tfidf  = tfidf_vec.transform(text_test)\n",
    "\n",
    "clf = LogisticRegression(max_iter=300)\n",
    "clf.fit(X_train_tfidf, train.target)\n",
    "f1_score(test.target, clf.predict(X_test_tfidf))"
   ]
  },
  {
   "cell_type": "markdown",
   "metadata": {},
   "source": [
    "Используя **лучший** (на предыдущих примерах) токенайзер, не выбрасывающий стоп-слова и использующий стемминг, получилось добиться **хорошего** результата!!! ($0.7577290612703766$)"
   ]
  },
  {
   "cell_type": "markdown",
   "metadata": {},
   "source": [
    "> Итак, потратив кучу времени на обучение модели с использованием кастомного токенайзера (**tokenizer** и др. версии) и перебор значений `min_df` и `max_df`, мы нашли оптимальные для данного случая. При этом с лучшим `max_df` модель показывает результаты чуть хуже, чем с лучшим `min_df`, поэтому именно на нём мы и остановились.\n",
    "Также при установке `max_df = 0.9` ничего не меняется, т.к. веса сдвинуты ближе к $0$.\n",
    "\n",
    "> В то же время, используя другие (стандартные) токенизаторы, удалось получить хорошие результаты на test'е.\n",
    "\n",
    "> С использованием другого кастомного токенайзера (**optimized_tokenizer**, который не выбрасывает стоп-слова.) мы получили результат $0.76$ и $0.755$ для `CountVectorizer`'a и `TF-IDF Vectorizer`'a cоответственно. "
   ]
  },
  {
   "cell_type": "markdown",
   "metadata": {},
   "source": [
    "## Задание 10 (1 балл)\n",
    "\n",
    "Еще один популярный трюк, который позволит уменьшить количество признаков называется hashing trick. Его суть в том, то мы случайно группируем признаки ииии  ..... складываем их! А потом удаляем исходные признаки. В итоге все наши признаки это просто суммы исходных. Звучит странно, но это отлично работает. Давайте проверим этот трюк в нашем сеттинге.\n",
    "Также при таком подходе вам не нужно хранить словарь token->index, что тоже иногда полезно.\n",
    "\n",
    "1. Повторите задание 8 с HashingVectorizer, укажите количество фичей равное 5000.\n",
    "2. Какой из подходов показал самый высокий результат?"
   ]
  },
  {
   "cell_type": "markdown",
   "metadata": {},
   "source": [
    "> *This strategy has several advantages*:\n",
    "\n",
    "> - it is very low memory scalable to large datasets as there is no need to store a vocabulary dictionary in memory.\n",
    "\n",
    "> - it is fast to pickle and un-pickle as it holds no state besides the constructor parameters.\n",
    "\n",
    "> - it can be used in a streaming (partial fit) or parallel pipeline as there is no state computed during fit."
   ]
  },
  {
   "cell_type": "code",
   "execution_count": 182,
   "metadata": {},
   "outputs": [],
   "source": [
    "from sklearn.feature_extraction.text import HashingVectorizer"
   ]
  },
  {
   "cell_type": "markdown",
   "metadata": {},
   "source": [
    "##### Для нашего первого токенизатора:"
   ]
  },
  {
   "cell_type": "code",
   "execution_count": 200,
   "metadata": {},
   "outputs": [
    {
     "name": "stdout",
     "output_type": "stream",
     "text": [
      "n_features = 1000\n"
     ]
    },
    {
     "name": "stderr",
     "output_type": "stream",
     "text": [
      "C:\\ProgramData\\Anaconda3\\lib\\site-packages\\sklearn\\feature_extraction\\text.py:489: UserWarning: The parameter 'token_pattern' will not be used since 'tokenizer' is not None'\n",
      "  warnings.warn(\"The parameter 'token_pattern' will not be used\"\n"
     ]
    },
    {
     "name": "stdout",
     "output_type": "stream",
     "text": [
      "0.6511627906976744\n",
      "n_features = 2000\n"
     ]
    },
    {
     "name": "stderr",
     "output_type": "stream",
     "text": [
      "C:\\ProgramData\\Anaconda3\\lib\\site-packages\\sklearn\\feature_extraction\\text.py:489: UserWarning: The parameter 'token_pattern' will not be used since 'tokenizer' is not None'\n",
      "  warnings.warn(\"The parameter 'token_pattern' will not be used\"\n"
     ]
    },
    {
     "name": "stdout",
     "output_type": "stream",
     "text": [
      "0.6797915460335843\n",
      "n_features = 3000\n"
     ]
    },
    {
     "name": "stderr",
     "output_type": "stream",
     "text": [
      "C:\\ProgramData\\Anaconda3\\lib\\site-packages\\sklearn\\feature_extraction\\text.py:489: UserWarning: The parameter 'token_pattern' will not be used since 'tokenizer' is not None'\n",
      "  warnings.warn(\"The parameter 'token_pattern' will not be used\"\n"
     ]
    },
    {
     "name": "stdout",
     "output_type": "stream",
     "text": [
      "0.6976744186046512\n",
      "n_features = 4000\n"
     ]
    },
    {
     "name": "stderr",
     "output_type": "stream",
     "text": [
      "C:\\ProgramData\\Anaconda3\\lib\\site-packages\\sklearn\\feature_extraction\\text.py:489: UserWarning: The parameter 'token_pattern' will not be used since 'tokenizer' is not None'\n",
      "  warnings.warn(\"The parameter 'token_pattern' will not be used\"\n"
     ]
    },
    {
     "name": "stdout",
     "output_type": "stream",
     "text": [
      "0.7074592074592074\n",
      "n_features = 5000\n"
     ]
    },
    {
     "name": "stderr",
     "output_type": "stream",
     "text": [
      "C:\\ProgramData\\Anaconda3\\lib\\site-packages\\sklearn\\feature_extraction\\text.py:489: UserWarning: The parameter 'token_pattern' will not be used since 'tokenizer' is not None'\n",
      "  warnings.warn(\"The parameter 'token_pattern' will not be used\"\n"
     ]
    },
    {
     "name": "stdout",
     "output_type": "stream",
     "text": [
      "0.7047289504036909\n",
      "n_features = 6000\n"
     ]
    },
    {
     "name": "stderr",
     "output_type": "stream",
     "text": [
      "C:\\ProgramData\\Anaconda3\\lib\\site-packages\\sklearn\\feature_extraction\\text.py:489: UserWarning: The parameter 'token_pattern' will not be used since 'tokenizer' is not None'\n",
      "  warnings.warn(\"The parameter 'token_pattern' will not be used\"\n"
     ]
    },
    {
     "name": "stdout",
     "output_type": "stream",
     "text": [
      "0.7128939828080229\n",
      "n_features = 7000\n"
     ]
    },
    {
     "name": "stderr",
     "output_type": "stream",
     "text": [
      "C:\\ProgramData\\Anaconda3\\lib\\site-packages\\sklearn\\feature_extraction\\text.py:489: UserWarning: The parameter 'token_pattern' will not be used since 'tokenizer' is not None'\n",
      "  warnings.warn(\"The parameter 'token_pattern' will not be used\"\n"
     ]
    },
    {
     "name": "stdout",
     "output_type": "stream",
     "text": [
      "0.7106184364060678\n",
      "n_features = 8000\n"
     ]
    },
    {
     "name": "stderr",
     "output_type": "stream",
     "text": [
      "C:\\ProgramData\\Anaconda3\\lib\\site-packages\\sklearn\\feature_extraction\\text.py:489: UserWarning: The parameter 'token_pattern' will not be used since 'tokenizer' is not None'\n",
      "  warnings.warn(\"The parameter 'token_pattern' will not be used\"\n"
     ]
    },
    {
     "name": "stdout",
     "output_type": "stream",
     "text": [
      "0.7161926871735343\n",
      "n_features = 9000\n"
     ]
    },
    {
     "name": "stderr",
     "output_type": "stream",
     "text": [
      "C:\\ProgramData\\Anaconda3\\lib\\site-packages\\sklearn\\feature_extraction\\text.py:489: UserWarning: The parameter 'token_pattern' will not be used since 'tokenizer' is not None'\n",
      "  warnings.warn(\"The parameter 'token_pattern' will not be used\"\n"
     ]
    },
    {
     "name": "stdout",
     "output_type": "stream",
     "text": [
      "0.7200929152148665\n",
      "n_features = 10000\n"
     ]
    },
    {
     "name": "stderr",
     "output_type": "stream",
     "text": [
      "C:\\ProgramData\\Anaconda3\\lib\\site-packages\\sklearn\\feature_extraction\\text.py:489: UserWarning: The parameter 'token_pattern' will not be used since 'tokenizer' is not None'\n",
      "  warnings.warn(\"The parameter 'token_pattern' will not be used\"\n"
     ]
    },
    {
     "name": "stdout",
     "output_type": "stream",
     "text": [
      "0.7218390804597701\n",
      "n_features = 11000\n"
     ]
    },
    {
     "name": "stderr",
     "output_type": "stream",
     "text": [
      "C:\\ProgramData\\Anaconda3\\lib\\site-packages\\sklearn\\feature_extraction\\text.py:489: UserWarning: The parameter 'token_pattern' will not be used since 'tokenizer' is not None'\n",
      "  warnings.warn(\"The parameter 'token_pattern' will not be used\"\n"
     ]
    },
    {
     "name": "stdout",
     "output_type": "stream",
     "text": [
      "0.7151162790697675\n",
      "n_features = 12000\n"
     ]
    },
    {
     "name": "stderr",
     "output_type": "stream",
     "text": [
      "C:\\ProgramData\\Anaconda3\\lib\\site-packages\\sklearn\\feature_extraction\\text.py:489: UserWarning: The parameter 'token_pattern' will not be used since 'tokenizer' is not None'\n",
      "  warnings.warn(\"The parameter 'token_pattern' will not be used\"\n"
     ]
    },
    {
     "name": "stdout",
     "output_type": "stream",
     "text": [
      "0.717201166180758\n",
      "n_features = 13000\n"
     ]
    },
    {
     "name": "stderr",
     "output_type": "stream",
     "text": [
      "C:\\ProgramData\\Anaconda3\\lib\\site-packages\\sklearn\\feature_extraction\\text.py:489: UserWarning: The parameter 'token_pattern' will not be used since 'tokenizer' is not None'\n",
      "  warnings.warn(\"The parameter 'token_pattern' will not be used\"\n"
     ]
    },
    {
     "name": "stdout",
     "output_type": "stream",
     "text": [
      "0.7209847596717467\n",
      "n_features = 14000\n"
     ]
    },
    {
     "name": "stderr",
     "output_type": "stream",
     "text": [
      "C:\\ProgramData\\Anaconda3\\lib\\site-packages\\sklearn\\feature_extraction\\text.py:489: UserWarning: The parameter 'token_pattern' will not be used since 'tokenizer' is not None'\n",
      "  warnings.warn(\"The parameter 'token_pattern' will not be used\"\n"
     ]
    },
    {
     "name": "stdout",
     "output_type": "stream",
     "text": [
      "0.7208894090111176\n",
      "n_features = 15000\n"
     ]
    },
    {
     "name": "stderr",
     "output_type": "stream",
     "text": [
      "C:\\ProgramData\\Anaconda3\\lib\\site-packages\\sklearn\\feature_extraction\\text.py:489: UserWarning: The parameter 'token_pattern' will not be used since 'tokenizer' is not None'\n",
      "  warnings.warn(\"The parameter 'token_pattern' will not be used\"\n"
     ]
    },
    {
     "name": "stdout",
     "output_type": "stream",
     "text": [
      "0.715606936416185\n",
      "n_features = 16000\n"
     ]
    },
    {
     "name": "stderr",
     "output_type": "stream",
     "text": [
      "C:\\ProgramData\\Anaconda3\\lib\\site-packages\\sklearn\\feature_extraction\\text.py:489: UserWarning: The parameter 'token_pattern' will not be used since 'tokenizer' is not None'\n",
      "  warnings.warn(\"The parameter 'token_pattern' will not be used\"\n"
     ]
    },
    {
     "name": "stdout",
     "output_type": "stream",
     "text": [
      "0.7269565217391304\n",
      "n_features = 17000\n"
     ]
    },
    {
     "name": "stderr",
     "output_type": "stream",
     "text": [
      "C:\\ProgramData\\Anaconda3\\lib\\site-packages\\sklearn\\feature_extraction\\text.py:489: UserWarning: The parameter 'token_pattern' will not be used since 'tokenizer' is not None'\n",
      "  warnings.warn(\"The parameter 'token_pattern' will not be used\"\n"
     ]
    },
    {
     "name": "stdout",
     "output_type": "stream",
     "text": [
      "0.724941724941725\n",
      "n_features = 18000\n"
     ]
    },
    {
     "name": "stderr",
     "output_type": "stream",
     "text": [
      "C:\\ProgramData\\Anaconda3\\lib\\site-packages\\sklearn\\feature_extraction\\text.py:489: UserWarning: The parameter 'token_pattern' will not be used since 'tokenizer' is not None'\n",
      "  warnings.warn(\"The parameter 'token_pattern' will not be used\"\n"
     ]
    },
    {
     "name": "stdout",
     "output_type": "stream",
     "text": [
      "0.7252489748096074\n",
      "n_features = 19000\n"
     ]
    },
    {
     "name": "stderr",
     "output_type": "stream",
     "text": [
      "C:\\ProgramData\\Anaconda3\\lib\\site-packages\\sklearn\\feature_extraction\\text.py:489: UserWarning: The parameter 'token_pattern' will not be used since 'tokenizer' is not None'\n",
      "  warnings.warn(\"The parameter 'token_pattern' will not be used\"\n"
     ]
    },
    {
     "name": "stdout",
     "output_type": "stream",
     "text": [
      "0.7192575406032482\n",
      "n_features = 20000\n"
     ]
    },
    {
     "name": "stderr",
     "output_type": "stream",
     "text": [
      "C:\\ProgramData\\Anaconda3\\lib\\site-packages\\sklearn\\feature_extraction\\text.py:489: UserWarning: The parameter 'token_pattern' will not be used since 'tokenizer' is not None'\n",
      "  warnings.warn(\"The parameter 'token_pattern' will not be used\"\n"
     ]
    },
    {
     "name": "stdout",
     "output_type": "stream",
     "text": [
      "0.7227378190255219\n"
     ]
    }
   ],
   "source": [
    "res_hash = []\n",
    "\n",
    "for n_features in np.arange(1000, 20001, 1000):\n",
    "    print(f\"{n_features = }\")\n",
    "    hashing_vec = HashingVectorizer(tokenizer=tokenizer, n_features=n_features)\n",
    "    X_train_hashing = hashing_vec.fit_transform(text_train)\n",
    "    X_test_hashing  = hashing_vec.transform(text_test)\n",
    "\n",
    "    clf = LogisticRegression(max_iter=200)\n",
    "    clf.fit(X_train_hashing, train.target)\n",
    "    res_hash.append(f1_score(test.target, clf.predict(X_test_hashing)))\n",
    "    print(res_hash[-1])"
   ]
  },
  {
   "cell_type": "markdown",
   "metadata": {},
   "source": [
    "> Зависимость `f1_score` от `n_features` представлена на графиках ниже.\n",
    "Также попробуем для встроенного токенизатора и токенизатора, который хорошо показал себя с `CountVectorizer` и `TF-IDF Vectorizer` (которые не отбрасывает stop-words)."
   ]
  },
  {
   "cell_type": "code",
   "execution_count": 203,
   "metadata": {},
   "outputs": [
    {
     "name": "stdout",
     "output_type": "stream",
     "text": [
      "best_n_features = 16000 для нашего классификатора.\n"
     ]
    },
    {
     "data": {
      "image/png": "[encoded data removed]",
      "text/plain": [
       "<Figure size 432x288 with 1 Axes>"
      ]
     },
     "metadata": {},
     "output_type": "display_data"
    }
   ],
   "source": [
    "plt.plot(np.arange(1000, 20001, 1000), res_hash)\n",
    "max_ind = np.argmax(res_hash)\n",
    "best_n_features = np.arange(1000, 20001, 1000)[max_ind]\n",
    "print(f'{best_n_features = } для нашего первого классификатора.')"
   ]
  },
  {
   "cell_type": "markdown",
   "metadata": {},
   "source": [
    "##### Для улучшенного токенизатора:"
   ]
  },
  {
   "cell_type": "code",
   "execution_count": 227,
   "metadata": {
    "scrolled": true
   },
   "outputs": [
    {
     "name": "stdout",
     "output_type": "stream",
     "text": [
      "n_features = 1000\n"
     ]
    },
    {
     "name": "stderr",
     "output_type": "stream",
     "text": [
      "C:\\ProgramData\\Anaconda3\\lib\\site-packages\\sklearn\\feature_extraction\\text.py:489: UserWarning: The parameter 'token_pattern' will not be used since 'tokenizer' is not None'\n",
      "  warnings.warn(\"The parameter 'token_pattern' will not be used\"\n"
     ]
    },
    {
     "name": "stdout",
     "output_type": "stream",
     "text": [
      "0.6720183486238532\n",
      "n_features = 2000\n"
     ]
    },
    {
     "name": "stderr",
     "output_type": "stream",
     "text": [
      "C:\\ProgramData\\Anaconda3\\lib\\site-packages\\sklearn\\feature_extraction\\text.py:489: UserWarning: The parameter 'token_pattern' will not be used since 'tokenizer' is not None'\n",
      "  warnings.warn(\"The parameter 'token_pattern' will not be used\"\n"
     ]
    },
    {
     "name": "stdout",
     "output_type": "stream",
     "text": [
      "0.7014755959137344\n",
      "n_features = 3000\n"
     ]
    },
    {
     "name": "stderr",
     "output_type": "stream",
     "text": [
      "C:\\ProgramData\\Anaconda3\\lib\\site-packages\\sklearn\\feature_extraction\\text.py:489: UserWarning: The parameter 'token_pattern' will not be used since 'tokenizer' is not None'\n",
      "  warnings.warn(\"The parameter 'token_pattern' will not be used\"\n"
     ]
    },
    {
     "name": "stdout",
     "output_type": "stream",
     "text": [
      "0.713961407491487\n",
      "n_features = 4000\n"
     ]
    },
    {
     "name": "stderr",
     "output_type": "stream",
     "text": [
      "C:\\ProgramData\\Anaconda3\\lib\\site-packages\\sklearn\\feature_extraction\\text.py:489: UserWarning: The parameter 'token_pattern' will not be used since 'tokenizer' is not None'\n",
      "  warnings.warn(\"The parameter 'token_pattern' will not be used\"\n"
     ]
    },
    {
     "name": "stdout",
     "output_type": "stream",
     "text": [
      "0.7151029748283751\n",
      "n_features = 5000\n"
     ]
    },
    {
     "name": "stderr",
     "output_type": "stream",
     "text": [
      "C:\\ProgramData\\Anaconda3\\lib\\site-packages\\sklearn\\feature_extraction\\text.py:489: UserWarning: The parameter 'token_pattern' will not be used since 'tokenizer' is not None'\n",
      "  warnings.warn(\"The parameter 'token_pattern' will not be used\"\n"
     ]
    },
    {
     "name": "stdout",
     "output_type": "stream",
     "text": [
      "0.7228229937393283\n",
      "n_features = 6000\n"
     ]
    },
    {
     "name": "stderr",
     "output_type": "stream",
     "text": [
      "C:\\ProgramData\\Anaconda3\\lib\\site-packages\\sklearn\\feature_extraction\\text.py:489: UserWarning: The parameter 'token_pattern' will not be used since 'tokenizer' is not None'\n",
      "  warnings.warn(\"The parameter 'token_pattern' will not be used\"\n"
     ]
    },
    {
     "name": "stdout",
     "output_type": "stream",
     "text": [
      "0.7300683371298405\n",
      "n_features = 7000\n"
     ]
    },
    {
     "name": "stderr",
     "output_type": "stream",
     "text": [
      "C:\\ProgramData\\Anaconda3\\lib\\site-packages\\sklearn\\feature_extraction\\text.py:489: UserWarning: The parameter 'token_pattern' will not be used since 'tokenizer' is not None'\n",
      "  warnings.warn(\"The parameter 'token_pattern' will not be used\"\n"
     ]
    },
    {
     "name": "stdout",
     "output_type": "stream",
     "text": [
      "0.7217441193344808\n",
      "n_features = 8000\n"
     ]
    },
    {
     "name": "stderr",
     "output_type": "stream",
     "text": [
      "C:\\ProgramData\\Anaconda3\\lib\\site-packages\\sklearn\\feature_extraction\\text.py:489: UserWarning: The parameter 'token_pattern' will not be used since 'tokenizer' is not None'\n",
      "  warnings.warn(\"The parameter 'token_pattern' will not be used\"\n"
     ]
    },
    {
     "name": "stdout",
     "output_type": "stream",
     "text": [
      "0.7241576242147344\n",
      "n_features = 9000\n"
     ]
    },
    {
     "name": "stderr",
     "output_type": "stream",
     "text": [
      "C:\\ProgramData\\Anaconda3\\lib\\site-packages\\sklearn\\feature_extraction\\text.py:489: UserWarning: The parameter 'token_pattern' will not be used since 'tokenizer' is not None'\n",
      "  warnings.warn(\"The parameter 'token_pattern' will not be used\"\n"
     ]
    },
    {
     "name": "stdout",
     "output_type": "stream",
     "text": [
      "0.732876712328767\n",
      "n_features = 10000\n"
     ]
    },
    {
     "name": "stderr",
     "output_type": "stream",
     "text": [
      "C:\\ProgramData\\Anaconda3\\lib\\site-packages\\sklearn\\feature_extraction\\text.py:489: UserWarning: The parameter 'token_pattern' will not be used since 'tokenizer' is not None'\n",
      "  warnings.warn(\"The parameter 'token_pattern' will not be used\"\n"
     ]
    },
    {
     "name": "stdout",
     "output_type": "stream",
     "text": [
      "0.7299771167048056\n",
      "n_features = 11000\n"
     ]
    },
    {
     "name": "stderr",
     "output_type": "stream",
     "text": [
      "C:\\ProgramData\\Anaconda3\\lib\\site-packages\\sklearn\\feature_extraction\\text.py:489: UserWarning: The parameter 'token_pattern' will not be used since 'tokenizer' is not None'\n",
      "  warnings.warn(\"The parameter 'token_pattern' will not be used\"\n"
     ]
    },
    {
     "name": "stdout",
     "output_type": "stream",
     "text": [
      "0.7386877828054299\n",
      "n_features = 12000\n"
     ]
    },
    {
     "name": "stderr",
     "output_type": "stream",
     "text": [
      "C:\\ProgramData\\Anaconda3\\lib\\site-packages\\sklearn\\feature_extraction\\text.py:489: UserWarning: The parameter 'token_pattern' will not be used since 'tokenizer' is not None'\n",
      "  warnings.warn(\"The parameter 'token_pattern' will not be used\"\n"
     ]
    },
    {
     "name": "stdout",
     "output_type": "stream",
     "text": [
      "0.7393040501996576\n",
      "n_features = 13000\n"
     ]
    },
    {
     "name": "stderr",
     "output_type": "stream",
     "text": [
      "C:\\ProgramData\\Anaconda3\\lib\\site-packages\\sklearn\\feature_extraction\\text.py:489: UserWarning: The parameter 'token_pattern' will not be used since 'tokenizer' is not None'\n",
      "  warnings.warn(\"The parameter 'token_pattern' will not be used\"\n"
     ]
    },
    {
     "name": "stdout",
     "output_type": "stream",
     "text": [
      "0.7295742232451093\n",
      "n_features = 14000\n"
     ]
    },
    {
     "name": "stderr",
     "output_type": "stream",
     "text": [
      "C:\\ProgramData\\Anaconda3\\lib\\site-packages\\sklearn\\feature_extraction\\text.py:489: UserWarning: The parameter 'token_pattern' will not be used since 'tokenizer' is not None'\n",
      "  warnings.warn(\"The parameter 'token_pattern' will not be used\"\n"
     ]
    },
    {
     "name": "stdout",
     "output_type": "stream",
     "text": [
      "0.7263339070567986\n",
      "n_features = 15000\n"
     ]
    },
    {
     "name": "stderr",
     "output_type": "stream",
     "text": [
      "C:\\ProgramData\\Anaconda3\\lib\\site-packages\\sklearn\\feature_extraction\\text.py:489: UserWarning: The parameter 'token_pattern' will not be used since 'tokenizer' is not None'\n",
      "  warnings.warn(\"The parameter 'token_pattern' will not be used\"\n"
     ]
    },
    {
     "name": "stdout",
     "output_type": "stream",
     "text": [
      "0.7275862068965518\n",
      "n_features = 16000\n"
     ]
    },
    {
     "name": "stderr",
     "output_type": "stream",
     "text": [
      "C:\\ProgramData\\Anaconda3\\lib\\site-packages\\sklearn\\feature_extraction\\text.py:489: UserWarning: The parameter 'token_pattern' will not be used since 'tokenizer' is not None'\n",
      "  warnings.warn(\"The parameter 'token_pattern' will not be used\"\n"
     ]
    },
    {
     "name": "stdout",
     "output_type": "stream",
     "text": [
      "0.7305251009809579\n",
      "n_features = 17000\n"
     ]
    },
    {
     "name": "stderr",
     "output_type": "stream",
     "text": [
      "C:\\ProgramData\\Anaconda3\\lib\\site-packages\\sklearn\\feature_extraction\\text.py:489: UserWarning: The parameter 'token_pattern' will not be used since 'tokenizer' is not None'\n",
      "  warnings.warn(\"The parameter 'token_pattern' will not be used\"\n"
     ]
    },
    {
     "name": "stdout",
     "output_type": "stream",
     "text": [
      "0.7310344827586207\n",
      "n_features = 18000\n"
     ]
    },
    {
     "name": "stderr",
     "output_type": "stream",
     "text": [
      "C:\\ProgramData\\Anaconda3\\lib\\site-packages\\sklearn\\feature_extraction\\text.py:489: UserWarning: The parameter 'token_pattern' will not be used since 'tokenizer' is not None'\n",
      "  warnings.warn(\"The parameter 'token_pattern' will not be used\"\n"
     ]
    },
    {
     "name": "stdout",
     "output_type": "stream",
     "text": [
      "0.7265446224256292\n",
      "n_features = 19000\n"
     ]
    },
    {
     "name": "stderr",
     "output_type": "stream",
     "text": [
      "C:\\ProgramData\\Anaconda3\\lib\\site-packages\\sklearn\\feature_extraction\\text.py:489: UserWarning: The parameter 'token_pattern' will not be used since 'tokenizer' is not None'\n",
      "  warnings.warn(\"The parameter 'token_pattern' will not be used\"\n"
     ]
    },
    {
     "name": "stdout",
     "output_type": "stream",
     "text": [
      "0.7340909090909091\n",
      "n_features = 20000\n"
     ]
    },
    {
     "name": "stderr",
     "output_type": "stream",
     "text": [
      "C:\\ProgramData\\Anaconda3\\lib\\site-packages\\sklearn\\feature_extraction\\text.py:489: UserWarning: The parameter 'token_pattern' will not be used since 'tokenizer' is not None'\n",
      "  warnings.warn(\"The parameter 'token_pattern' will not be used\"\n"
     ]
    },
    {
     "name": "stdout",
     "output_type": "stream",
     "text": [
      "0.7380541162924583\n"
     ]
    }
   ],
   "source": [
    "res_hash = []\n",
    "\n",
    "for n_features in np.arange(1000, 20001, 1000):\n",
    "    print(f\"{n_features = }\")\n",
    "    hashing_vec = HashingVectorizer(tokenizer=optimized_tokenizer, n_features=n_features)\n",
    "    X_train_hashing = hashing_vec.fit_transform(text_train)\n",
    "    X_test_hashing  = hashing_vec.transform(text_test)\n",
    "\n",
    "    clf = LogisticRegression(max_iter=200)\n",
    "    clf.fit(X_train_hashing, train.target)\n",
    "    res_hash.append(f1_score(test.target, clf.predict(X_test_hashing)))\n",
    "    print(res_hash[-1])"
   ]
  },
  {
   "cell_type": "code",
   "execution_count": 228,
   "metadata": {},
   "outputs": [
    {
     "name": "stdout",
     "output_type": "stream",
     "text": [
      "best_n_features = 12000 для нашего улучшенного токенизатора (0.7393040501996576).\n"
     ]
    },
    {
     "data": {
      "text/plain": [
       "Text(0.5, 1.0, 'With stop-words')"
      ]
     },
     "execution_count": 228,
     "metadata": {},
     "output_type": "execute_result"
    },
    {
     "data": {
      "image/png": "[encoded data removed]",
      "text/plain": [
       "<Figure size 432x288 with 1 Axes>"
      ]
     },
     "metadata": {},
     "output_type": "display_data"
    }
   ],
   "source": [
    "plt.plot(np.arange(1000, 20001, 1000), res_hash)\n",
    "max_ind = np.argmax(res_hash)\n",
    "best_n_features = np.arange(1000, 20001, 1000)[max_ind]\n",
    "print(f'{best_n_features = } для нашего улучшенного токенизатора ({res_hash[max_ind]}).')\n",
    "plt.xlabel(\"n_features\")\n",
    "plt.ylabel(\"f1_score\")\n",
    "plt.title(\"With stop-words\")"
   ]
  },
  {
   "cell_type": "code",
   "execution_count": 208,
   "metadata": {},
   "outputs": [
    {
     "name": "stderr",
     "output_type": "stream",
     "text": [
      "C:\\ProgramData\\Anaconda3\\lib\\site-packages\\sklearn\\feature_extraction\\text.py:489: UserWarning: The parameter 'token_pattern' will not be used since 'tokenizer' is not None'\n",
      "  warnings.warn(\"The parameter 'token_pattern' will not be used\"\n"
     ]
    },
    {
     "data": {
      "text/plain": [
       "0.736540664375716"
      ]
     },
     "execution_count": 208,
     "metadata": {},
     "output_type": "execute_result"
    }
   ],
   "source": [
    "# Взятие большого количества признаков также не делает результаты лучше :(((\n",
    "hashing_vec = HashingVectorizer(tokenizer=optimized_tokenizer, n_features=50000)\n",
    "X_train_hashing = hashing_vec.fit_transform(text_train)\n",
    "X_test_hashing  = hashing_vec.transform(text_test)\n",
    "\n",
    "clf = LogisticRegression(max_iter=200)\n",
    "clf.fit(X_train_hashing, train.target)\n",
    "f1_score(test.target, clf.predict(X_test_hashing))"
   ]
  },
  {
   "cell_type": "code",
   "execution_count": 219,
   "metadata": {},
   "outputs": [
    {
     "name": "stderr",
     "output_type": "stream",
     "text": [
      "C:\\ProgramData\\Anaconda3\\lib\\site-packages\\sklearn\\feature_extraction\\text.py:489: UserWarning: The parameter 'token_pattern' will not be used since 'tokenizer' is not None'\n",
      "  warnings.warn(\"The parameter 'token_pattern' will not be used\"\n"
     ]
    },
    {
     "data": {
      "text/plain": [
       "0.45638629283489096"
      ]
     },
     "execution_count": 219,
     "metadata": {},
     "output_type": "execute_result"
    }
   ],
   "source": [
    "hashing_vec = HashingVectorizer(tokenizer=optimized_tokenizer_with_lemmatization_and_without_stopwords, n_features=20000)\n",
    "X_train_hashing = hashing_vec.fit_transform(text_train)\n",
    "X_test_hashing  = hashing_vec.transform(text_test)\n",
    "\n",
    "clf = LogisticRegression(max_iter=200)\n",
    "clf.fit(X_train_hashing, train.target)\n",
    "f1_score(test.target, clf.predict(X_test_hashing))"
   ]
  },
  {
   "cell_type": "markdown",
   "metadata": {},
   "source": [
    "**Лемматизация без стоп-слов** слов дала относительно **плохой** результат."
   ]
  },
  {
   "cell_type": "code",
   "execution_count": 221,
   "metadata": {},
   "outputs": [
    {
     "name": "stderr",
     "output_type": "stream",
     "text": [
      "C:\\ProgramData\\Anaconda3\\lib\\site-packages\\sklearn\\feature_extraction\\text.py:489: UserWarning: The parameter 'token_pattern' will not be used since 'tokenizer' is not None'\n",
      "  warnings.warn(\"The parameter 'token_pattern' will not be used\"\n"
     ]
    },
    {
     "data": {
      "text/plain": [
       "0.433201581027668"
      ]
     },
     "execution_count": 221,
     "metadata": {},
     "output_type": "execute_result"
    }
   ],
   "source": [
    "hashing_vec = HashingVectorizer(tokenizer=optimized_tokenizer_with_lemmatization_and_without_stopwords, n_features=16000)\n",
    "X_train_hashing = hashing_vec.fit_transform(text_train)\n",
    "X_test_hashing  = hashing_vec.transform(text_test)\n",
    "\n",
    "clf = LogisticRegression(max_iter=300)\n",
    "clf.fit(X_train_hashing, train.target)\n",
    "f1_score(test.target, clf.predict(X_test_hashing))"
   ]
  },
  {
   "cell_type": "markdown",
   "metadata": {},
   "source": [
    "Уменьшили `n_features` --- стало ещё **хуже**"
   ]
  },
  {
   "cell_type": "code",
   "execution_count": 225,
   "metadata": {},
   "outputs": [
    {
     "name": "stderr",
     "output_type": "stream",
     "text": [
      "C:\\ProgramData\\Anaconda3\\lib\\site-packages\\sklearn\\feature_extraction\\text.py:489: UserWarning: The parameter 'token_pattern' will not be used since 'tokenizer' is not None'\n",
      "  warnings.warn(\"The parameter 'token_pattern' will not be used\"\n"
     ]
    },
    {
     "name": "stdout",
     "output_type": "stream",
     "text": [
      "Wall time: 1h 46min 3s\n"
     ]
    },
    {
     "data": {
      "text/plain": [
       "0.6349598517603459"
      ]
     },
     "execution_count": 225,
     "metadata": {},
     "output_type": "execute_result"
    }
   ],
   "source": [
    "%%time\n",
    "\n",
    "hashing_vec = HashingVectorizer(tokenizer=optimized_tokenizer_with_lemmatization, n_features=20000)\n",
    "X_train_hashing = hashing_vec.fit_transform(text_train)\n",
    "X_test_hashing  = hashing_vec.transform(text_test)\n",
    "\n",
    "clf = LogisticRegression(max_iter=300)\n",
    "clf.fit(X_train_hashing, train.target)\n",
    "f1_score(test.target, clf.predict(X_test_hashing))"
   ]
  },
  {
   "cell_type": "markdown",
   "metadata": {},
   "source": [
    " > То есть лемматизация в нашем случае никак не лучше стемминга.\n",
    " \n",
    " > Применение `HashingVectorizer`'a никак не улучшает наши результаты **:(** "
   ]
  },
  {
   "cell_type": "markdown",
   "metadata": {},
   "source": [
    "##### Для default'ного токенизатора:"
   ]
  },
  {
   "cell_type": "code",
   "execution_count": 209,
   "metadata": {
    "scrolled": true
   },
   "outputs": [
    {
     "name": "stdout",
     "output_type": "stream",
     "text": [
      "n_features = 1000\n",
      "0.6788280818131565\n",
      "n_features = 2000\n",
      "0.6767001114827201\n",
      "n_features = 3000\n",
      "0.7034327518289253\n",
      "n_features = 4000\n",
      "0.7162315550510784\n",
      "n_features = 5000\n",
      "0.7159796725014117\n",
      "n_features = 6000\n",
      "0.7130825379000562\n",
      "n_features = 7000\n",
      "0.7191392978482445\n",
      "n_features = 8000\n",
      "0.7152619589977222\n",
      "n_features = 9000\n",
      "0.7204058624577226\n",
      "n_features = 10000\n",
      "0.7228506787330317\n",
      "n_features = 11000\n",
      "0.7184684684684683\n",
      "n_features = 12000\n",
      "0.7275822928490352\n",
      "n_features = 13000\n",
      "0.7250141163184641\n",
      "n_features = 14000\n",
      "0.7200454287336739\n",
      "n_features = 15000\n",
      "0.7240793201133143\n",
      "n_features = 16000\n",
      "0.7278911564625851\n",
      "n_features = 17000\n",
      "0.7170454545454547\n",
      "n_features = 18000\n",
      "0.7232597623089981\n",
      "n_features = 19000\n",
      "0.7244897959183673\n",
      "n_features = 20000\n",
      "0.7234525837592278\n"
     ]
    }
   ],
   "source": [
    "res_hash = []\n",
    "\n",
    "for n_features in np.arange(1000, 20001, 1000):\n",
    "    print(f\"{n_features = }\")\n",
    "    hashing_vec = HashingVectorizer(n_features=n_features)\n",
    "    X_train_hashing = hashing_vec.fit_transform(text_train)\n",
    "    X_test_hashing  = hashing_vec.transform(text_test)\n",
    "\n",
    "    clf = LogisticRegression(max_iter=200)\n",
    "    clf.fit(X_train_hashing, train.target)\n",
    "    res_hash.append(f1_score(test.target, clf.predict(X_test_hashing)))\n",
    "    print(res_hash[-1])"
   ]
  },
  {
   "cell_type": "code",
   "execution_count": 210,
   "metadata": {},
   "outputs": [
    {
     "name": "stdout",
     "output_type": "stream",
     "text": [
      "best_n_features = 16000 для дефолтного токенизатора.\n"
     ]
    },
    {
     "data": {
      "text/plain": [
       "Text(0, 0.5, 'f1_score')"
      ]
     },
     "execution_count": 210,
     "metadata": {},
     "output_type": "execute_result"
    },
    {
     "data": {
      "image/png": "[encoded data removed]",
      "text/plain": [
       "<Figure size 432x288 with 1 Axes>"
      ]
     },
     "metadata": {},
     "output_type": "display_data"
    }
   ],
   "source": [
    "plt.plot(np.arange(1000, 20001, 1000), res_hash)\n",
    "max_ind = np.argmax(res_hash)\n",
    "best_n_features = np.arange(1000, 20001, 1000)[max_ind]\n",
    "print(f'{best_n_features = } для дефолтного токенизатора.')\n",
    "plt.xlabel(\"n_features\")\n",
    "plt.ylabel(\"f1_score\")"
   ]
  },
  {
   "cell_type": "markdown",
   "metadata": {},
   "source": [
    "> Всё равно не можем преодолеть порог в 0.74 :((("
   ]
  },
  {
   "cell_type": "markdown",
   "metadata": {},
   "source": [
    "## Задание 11 (1 балл)\n",
    "\n",
    "В этом задании нужно добиться f1 меры хотя в 0.75 на тестовых данных."
   ]
  },
  {
   "cell_type": "markdown",
   "metadata": {},
   "source": [
    "### Итог:\n",
    "- **Лучшие результаты**:\n",
    "    - $0.760797342192691$ -- `CountVectorizer` + стемминг без удаления стоп-слов\n",
    "    - $0.757729061270377$ -- `TfidfVectorizer` + стемминг без удаления стоп-слов + Сокращения размера матрицы (`min_df`=$0.00047$)\n",
    "    - $0.754504504504505$ -- `TfidfVectorizer` + стемминг без удаления стоп-слов"
   ]
  },
  {
   "cell_type": "markdown",
   "metadata": {},
   "source": [
    "### Using `ngram_range`"
   ]
  },
  {
   "cell_type": "code",
   "execution_count": 245,
   "metadata": {},
   "outputs": [
    {
     "data": {
      "text/plain": [
       "0.4477611940298507"
      ]
     },
     "execution_count": 245,
     "metadata": {},
     "output_type": "execute_result"
    }
   ],
   "source": [
    "cnt_vec = CountVectorizer(tokenizer=optimized_tokenizer, ngram_range=(3, 3))\n",
    "X_train = cnt_vec.fit_transform(text_train)\n",
    "X_test  = cnt_vec.transform(text_test)\n",
    "\n",
    "clf = LogisticRegression(max_iter=200)\n",
    "clf.fit(X_train, train.target)\n",
    "f1_score(test.target, clf.predict(X_test))"
   ]
  },
  {
   "cell_type": "markdown",
   "metadata": {},
   "source": [
    "Становится сильно хуже!!! Это, наверное, логично, потому что гораздо бОльшую роль играют символы, а не слова, как в литературе."
   ]
  },
  {
   "cell_type": "markdown",
   "metadata": {},
   "source": [
    "### Using  characters `ngram_range`"
   ]
  },
  {
   "cell_type": "code",
   "execution_count": 336,
   "metadata": {},
   "outputs": [
    {
     "name": "stderr",
     "output_type": "stream",
     "text": [
      "C:\\ProgramData\\Anaconda3\\lib\\site-packages\\sklearn\\linear_model\\_logistic.py:763: ConvergenceWarning: lbfgs failed to converge (status=1):\n",
      "STOP: TOTAL NO. of ITERATIONS REACHED LIMIT.\n",
      "\n",
      "Increase the number of iterations (max_iter) or scale the data as shown in:\n",
      "    https://scikit-learn.org/stable/modules/preprocessing.html\n",
      "Please also refer to the documentation for alternative solver options:\n",
      "    https://scikit-learn.org/stable/modules/linear_model.html#logistic-regression\n",
      "  n_iter_i = _check_optimize_result(\n",
      "C:\\ProgramData\\Anaconda3\\lib\\site-packages\\sklearn\\linear_model\\_logistic.py:763: ConvergenceWarning: lbfgs failed to converge (status=1):\n",
      "STOP: TOTAL NO. of ITERATIONS REACHED LIMIT.\n",
      "\n",
      "Increase the number of iterations (max_iter) or scale the data as shown in:\n",
      "    https://scikit-learn.org/stable/modules/preprocessing.html\n",
      "Please also refer to the documentation for alternative solver options:\n",
      "    https://scikit-learn.org/stable/modules/linear_model.html#logistic-regression\n",
      "  n_iter_i = _check_optimize_result(\n",
      "C:\\ProgramData\\Anaconda3\\lib\\site-packages\\sklearn\\linear_model\\_logistic.py:763: ConvergenceWarning: lbfgs failed to converge (status=1):\n",
      "STOP: TOTAL NO. of ITERATIONS REACHED LIMIT.\n",
      "\n",
      "Increase the number of iterations (max_iter) or scale the data as shown in:\n",
      "    https://scikit-learn.org/stable/modules/preprocessing.html\n",
      "Please also refer to the documentation for alternative solver options:\n",
      "    https://scikit-learn.org/stable/modules/linear_model.html#logistic-regression\n",
      "  n_iter_i = _check_optimize_result(\n",
      "C:\\ProgramData\\Anaconda3\\lib\\site-packages\\sklearn\\linear_model\\_logistic.py:763: ConvergenceWarning: lbfgs failed to converge (status=1):\n",
      "STOP: TOTAL NO. of ITERATIONS REACHED LIMIT.\n",
      "\n",
      "Increase the number of iterations (max_iter) or scale the data as shown in:\n",
      "    https://scikit-learn.org/stable/modules/preprocessing.html\n",
      "Please also refer to the documentation for alternative solver options:\n",
      "    https://scikit-learn.org/stable/modules/linear_model.html#logistic-regression\n",
      "  n_iter_i = _check_optimize_result(\n",
      "C:\\ProgramData\\Anaconda3\\lib\\site-packages\\sklearn\\linear_model\\_logistic.py:763: ConvergenceWarning: lbfgs failed to converge (status=1):\n",
      "STOP: TOTAL NO. of ITERATIONS REACHED LIMIT.\n",
      "\n",
      "Increase the number of iterations (max_iter) or scale the data as shown in:\n",
      "    https://scikit-learn.org/stable/modules/preprocessing.html\n",
      "Please also refer to the documentation for alternative solver options:\n",
      "    https://scikit-learn.org/stable/modules/linear_model.html#logistic-regression\n",
      "  n_iter_i = _check_optimize_result(\n"
     ]
    }
   ],
   "source": [
    "res = []\n",
    "for i in range(1, 11):\n",
    "    for j in range(i, 11):\n",
    "        cnt_vec = CountVectorizer(tokenizer=optimized_tokenizer, ngram_range=(i, j), analyzer='char')\n",
    "        X_train = cnt_vec.fit_transform(text_train)\n",
    "        X_test  = cnt_vec.transform(text_test)\n",
    "\n",
    "        clf = LogisticRegression(max_iter=500)\n",
    "        clf.fit(X_train, train.target)\n",
    "        res.append(f1_score(test.target, clf.predict(X_test)))"
   ]
  },
  {
   "cell_type": "code",
   "execution_count": 343,
   "metadata": {},
   "outputs": [
    {
     "data": {
      "text/plain": [
       "(3, 10)"
      ]
     },
     "execution_count": 343,
     "metadata": {},
     "output_type": "execute_result"
    }
   ],
   "source": [
    "indexes = []\n",
    "for i in range(1, 11):\n",
    "    for j in range(i, 11):\n",
    "        indexes.append((i, j))\n",
    "\n",
    "indexes[np.argmax(res)]"
   ]
  },
  {
   "cell_type": "code",
   "execution_count": 345,
   "metadata": {},
   "outputs": [
    {
     "name": "stdout",
     "output_type": "stream",
     "text": [
      "0.7520798668885191\n"
     ]
    }
   ],
   "source": [
    "cnt_vec = CountVectorizer(tokenizer=optimized_tokenizer, ngram_range=(3, 10), analyzer='char')\n",
    "X_train = cnt_vec.fit_transform(text_train)\n",
    "X_test  = cnt_vec.transform(text_test)\n",
    "\n",
    "clf = LogisticRegression(max_iter=300)\n",
    "clf.fit(X_train, train.target)\n",
    "print(f1_score(test.target, clf.predict(X_test)))"
   ]
  },
  {
   "cell_type": "markdown",
   "metadata": {},
   "source": [
    "> Получили также хороший результат!!!"
   ]
  },
  {
   "cell_type": "markdown",
   "metadata": {},
   "source": [
    "### Using  SVM"
   ]
  },
  {
   "cell_type": "code",
   "execution_count": 282,
   "metadata": {
    "scrolled": false
   },
   "outputs": [],
   "source": [
    "from sklearn.svm import SVC\n",
    "\n",
    "cnt_vec = CountVectorizer(tokenizer=optimized_tokenizer)\n",
    "X_train = cnt_vec.fit_transform(text_train)\n",
    "X_test  = cnt_vec.transform(text_test)\n",
    "\n",
    "Cs = np.arange(0.01, 2.1, 0.1)\n",
    "svm_res = []\n",
    "for C in Cs:\n",
    "    svm = SVC(kernel = 'linear', C=C)\n",
    "    svm.fit(X_train, train.target)\n",
    "    svm_res.append(f1_score(test.target, svm.predict(X_test)))"
   ]
  },
  {
   "cell_type": "code",
   "execution_count": 283,
   "metadata": {},
   "outputs": [
    {
     "data": {
      "text/plain": [
       "Text(0, 0.5, '$f1\\\\_score$')"
      ]
     },
     "execution_count": 283,
     "metadata": {},
     "output_type": "execute_result"
    },
    {
     "data": {
      "image/png": "[encoded data removed]",
      "text/plain": [
       "<Figure size 432x288 with 1 Axes>"
      ]
     },
     "metadata": {},
     "output_type": "display_data"
    }
   ],
   "source": [
    "plt.plot(Cs, svm_res)\n",
    "plt.xlabel(\"$C$\")\n",
    "plt.ylabel(\"$f1\\_score$\")"
   ]
  },
  {
   "cell_type": "code",
   "execution_count": 292,
   "metadata": {},
   "outputs": [
    {
     "data": {
      "text/plain": [
       "[0.6502908855850033,\n",
       " 0.7508571428571429,\n",
       " 0.7465181058495822,\n",
       " 0.7515085024684586,\n",
       " 0.7486398258977148,\n",
       " 0.7452677122769065,\n",
       " 0.7380311995696611,\n",
       " 0.738544474393531,\n",
       " 0.734803657880581,\n",
       " 0.729021913415286,\n",
       " 0.7253333333333334,\n",
       " 0.7266915290356952,\n",
       " 0.7230196703880915,\n",
       " 0.7201274561869357,\n",
       " 0.7214854111405837,\n",
       " 0.7202538339502909,\n",
       " 0.7198731501057084,\n",
       " 0.7198731501057084,\n",
       " 0.7177589852008458,\n",
       " 0.7164021164021164,\n",
       " 0.7177589852008458]"
      ]
     },
     "execution_count": 292,
     "metadata": {},
     "output_type": "execute_result"
    }
   ],
   "source": [
    "svm_res"
   ]
  },
  {
   "cell_type": "code",
   "execution_count": 288,
   "metadata": {},
   "outputs": [],
   "source": [
    "Cs = np.arange(0.001, 0.65, 0.05)\n",
    "\n",
    "svm_res_scaled = []\n",
    "for C in Cs:\n",
    "    svm = SVC(kernel = 'linear', C=C)\n",
    "    svm.fit(X_train, train.target)\n",
    "    svm_res_scaled.append(f1_score(test.target, svm.predict(X_test)))"
   ]
  },
  {
   "cell_type": "code",
   "execution_count": 289,
   "metadata": {},
   "outputs": [
    {
     "data": {
      "text/plain": [
       "Text(0, 0.5, '$f1\\\\_score$')"
      ]
     },
     "execution_count": 289,
     "metadata": {},
     "output_type": "execute_result"
    },
    {
     "data": {
      "image/png": "[encoded data removed]",
      "text/plain": [
       "<Figure size 432x288 with 1 Axes>"
      ]
     },
     "metadata": {},
     "output_type": "display_data"
    }
   ],
   "source": [
    "plt.plot(Cs, svm_res_scaled)\n",
    "plt.xlabel(\"$C$\")\n",
    "plt.ylabel(\"$f1\\_score$\")"
   ]
  },
  {
   "cell_type": "code",
   "execution_count": 290,
   "metadata": {},
   "outputs": [
    {
     "data": {
      "text/plain": [
       "[0.020470829068577275,\n",
       " 0.743124634289058,\n",
       " 0.7484240687679083,\n",
       " 0.7507034327518288,\n",
       " 0.7455357142857143,\n",
       " 0.7454242928452579,\n",
       " 0.7501372872048324,\n",
       " 0.7491785323110624,\n",
       " 0.7479586281981493,\n",
       " 0.7466087900162779,\n",
       " 0.7452677122769065,\n",
       " 0.7411003236245954,\n",
       " 0.73735199138859]"
      ]
     },
     "execution_count": 290,
     "metadata": {},
     "output_type": "execute_result"
    }
   ],
   "source": [
    "svm_res_scaled"
   ]
  },
  {
   "cell_type": "code",
   "execution_count": 297,
   "metadata": {},
   "outputs": [
    {
     "name": "stdout",
     "output_type": "stream",
     "text": [
      "0.7515085024684586\n"
     ]
    }
   ],
   "source": [
    "cnt_vec = CountVectorizer(tokenizer=optimized_tokenizer)\n",
    "X_train = cnt_vec.fit_transform(text_train)\n",
    "X_test  = cnt_vec.transform(text_test)\n",
    "\n",
    "svm = SVC(kernel = 'linear', C=0.31)\n",
    "svm.fit(X_train, train.target)\n",
    "print(f1_score(test.target, svm.predict(X_test)))"
   ]
  },
  {
   "cell_type": "markdown",
   "metadata": {},
   "source": [
    "^^^^^^^^^^^^^^^^^^^^^Лучший результат SVM, достигнутый опытным путём (установкой $С$)"
   ]
  },
  {
   "cell_type": "code",
   "execution_count": 308,
   "metadata": {},
   "outputs": [],
   "source": [
    "Cs = np.arange(10, 101, 5)\n",
    "\n",
    "svm_res_scaled_gr = []\n",
    "for C in Cs:\n",
    "    svm = SVC(kernel = 'linear', C=C)\n",
    "    svm.fit(X_train, train.target)\n",
    "    svm_res_scaled_gr.append(f1_score(test.target, svm.predict(X_test)))"
   ]
  },
  {
   "cell_type": "code",
   "execution_count": 309,
   "metadata": {},
   "outputs": [
    {
     "data": {
      "text/plain": [
       "Text(0, 0.5, '$f1\\\\_score$')"
      ]
     },
     "execution_count": 309,
     "metadata": {},
     "output_type": "execute_result"
    },
    {
     "data": {
      "image/png": "[encoded data removed]",
      "text/plain": [
       "<Figure size 432x288 with 1 Axes>"
      ]
     },
     "metadata": {},
     "output_type": "display_data"
    }
   ],
   "source": [
    "plt.plot(Cs, svm_res_scaled_gr)\n",
    "plt.xlabel(\"$C$\")\n",
    "plt.ylabel(\"$f1\\_score$\")"
   ]
  },
  {
   "cell_type": "code",
   "execution_count": 314,
   "metadata": {},
   "outputs": [
    {
     "name": "stdout",
     "output_type": "stream",
     "text": [
      "0.6444444444444445\n"
     ]
    }
   ],
   "source": [
    "cnt_vec = CountVectorizer(tokenizer=optimized_tokenizer)\n",
    "X_train = cnt_vec.fit_transform(text_train)\n",
    "X_test  = cnt_vec.transform(text_test)\n",
    "\n",
    "svm = SVC(kernel = 'rbf', C=0.31)\n",
    "svm.fit(X_train, train.target)\n",
    "print(f1_score(test.target, svm.predict(X_test)))"
   ]
  },
  {
   "cell_type": "markdown",
   "metadata": {},
   "source": [
    "Как можно заметить, тип ядра очень влияет на результат."
   ]
  },
  {
   "cell_type": "markdown",
   "metadata": {},
   "source": [
    "---"
   ]
  },
  {
   "cell_type": "code",
   "execution_count": 333,
   "metadata": {},
   "outputs": [
    {
     "name": "stdout",
     "output_type": "stream",
     "text": [
      "0.7515085024684586\n"
     ]
    }
   ],
   "source": [
    "cnt_vec = CountVectorizer(tokenizer=optimized_tokenizer, ngram_range=(1, 1))\n",
    "X_train = cnt_vec.fit_transform(text_train)\n",
    "X_test  = cnt_vec.transform(text_test)\n",
    "\n",
    "svm = SVC(kernel = 'linear', C=0.31)\n",
    "svm.fit(X_train, train.target)\n",
    "print(f1_score(test.target, svm.predict(X_test)))"
   ]
  },
  {
   "cell_type": "markdown",
   "metadata": {},
   "source": [
    "Лучше результата добиться не получилось :( ни изменениями `ngram_range`, ни сменой ядра и поиска соответствующих параметров."
   ]
  },
  {
   "cell_type": "code",
   "execution_count": 352,
   "metadata": {
    "scrolled": true
   },
   "outputs": [
    {
     "name": "stdout",
     "output_type": "stream",
     "text": [
      "1 1 0.01                0.602571268865288\n",
      "1 1 0.31                0.6061281337047353\n",
      "1 1 0.61                0.6059250978200112\n",
      "1 1 0.9099999999999999                0.6037946428571429\n",
      "1 1 1.21                0.6049107142857142\n",
      "1 1 1.51                0.6040268456375839\n",
      "1 1 1.8099999999999998                0.6024636058230683\n",
      "1 3 0.01                0.7330415754923413\n",
      "1 3 0.31                0.7001023541453429\n",
      "1 3 0.61                0.6966292134831461\n",
      "1 3 0.9099999999999999                0.6955634880163182\n",
      "1 3 1.21                0.6962736089841756\n",
      "1 3 1.51                0.6932515337423312\n",
      "1 3 1.8099999999999998                0.6952089704383282\n",
      "1 5 0.01                0.7394328517924025\n",
      "1 5 0.31                0.7352941176470589\n",
      "1 5 0.61                0.7349081364829396\n",
      "1 5 0.9099999999999999                0.7349081364829396\n",
      "1 5 1.21                0.7349081364829396\n",
      "1 5 1.51                0.7349081364829396\n",
      "1 5 1.8099999999999998                0.7349081364829396\n",
      "1 7 0.01                0.7417789757412399\n",
      "1 7 0.31                0.7414163090128756\n",
      "1 7 0.61                0.7414163090128756\n",
      "1 7 0.9099999999999999                0.7414163090128756\n",
      "1 7 1.21                0.7414163090128756\n",
      "1 7 1.51                0.7414163090128756\n",
      "1 7 1.8099999999999998                0.7414163090128756\n",
      "1 9 0.01                0.74400871459695\n",
      "1 9 0.31                0.7463335143943508\n",
      "1 9 0.61                0.7463335143943508\n",
      "1 9 0.9099999999999999                0.7463335143943508\n",
      "1 9 1.21                0.7463335143943508\n",
      "1 9 1.51                0.7463335143943508\n",
      "1 9 1.8099999999999998                0.7463335143943508\n",
      "1 11 0.01                0.7442371020856201\n",
      "1 11 0.31                0.7459105779716466\n",
      "1 11 0.61                0.7459105779716466\n",
      "1 11 0.9099999999999999                0.7459105779716466\n",
      "1 11 1.21                0.7459105779716466\n",
      "1 11 1.51                0.7459105779716466\n",
      "1 11 1.8099999999999998                0.7459105779716466\n",
      "3 3 0.01                0.7450331125827815\n",
      "3 3 0.31                0.7081832218219247\n",
      "3 3 0.61                0.7053388090349075\n",
      "3 3 0.9099999999999999                0.7033419023136247\n",
      "3 3 1.21                0.7040082219938336\n",
      "3 3 1.51                0.703455389375967\n",
      "3 3 1.8099999999999998                0.7020618556701032\n",
      "3 5 0.01                0.7370129870129869\n",
      "3 5 0.31                0.7337901950448076\n",
      "3 5 0.61                0.7336842105263158\n",
      "3 5 0.9099999999999999                0.7336842105263158\n",
      "3 5 1.21                0.7336842105263158\n",
      "3 5 1.51                0.7336842105263158\n",
      "3 5 1.8099999999999998                0.7336842105263158\n",
      "3 7 0.01                0.7374727668845317\n",
      "3 7 0.31                0.7380434782608696\n",
      "3 7 0.61                0.7380434782608696\n",
      "3 7 0.9099999999999999                0.7380434782608696\n",
      "3 7 1.21                0.7380434782608696\n",
      "3 7 1.51                0.7380434782608696\n",
      "3 7 1.8099999999999998                0.7380434782608696\n",
      "3 9 0.01                0.7442116868798236\n",
      "3 9 0.31                0.7475192943770672\n",
      "3 9 0.61                0.7475192943770672\n",
      "3 9 0.9099999999999999                0.747107438016529\n",
      "3 9 1.21                0.747107438016529\n",
      "3 9 1.51                0.747107438016529\n",
      "3 9 1.8099999999999998                0.747107438016529\n",
      "3 11 0.01                0.750694058856191\n",
      "3 11 0.31                0.750694058856191\n",
      "3 11 0.61                0.750694058856191\n",
      "3 11 0.9099999999999999                0.750694058856191\n",
      "3 11 1.21                0.750694058856191\n",
      "3 11 1.51                0.750694058856191\n",
      "3 11 1.8099999999999998                0.750694058856191\n",
      "5 5 0.01                0.7478656801365964\n",
      "5 5 0.31                0.7392487751769189\n",
      "5 5 0.61                0.7410228509249185\n",
      "5 5 0.9099999999999999                0.7414262384322264\n",
      "5 5 1.21                0.7407407407407408\n",
      "5 5 1.51                0.7407407407407408\n",
      "5 5 1.8099999999999998                0.7407407407407408\n",
      "5 7 0.01                0.741826381059752\n",
      "5 7 0.31                0.7415230683713174\n",
      "5 7 0.61                0.7415230683713174\n",
      "5 7 0.9099999999999999                0.7415230683713174\n",
      "5 7 1.21                0.7415230683713174\n",
      "5 7 1.51                0.7415230683713174\n",
      "5 7 1.8099999999999998                0.7415230683713174\n",
      "5 9 0.01                0.7430516165626773\n",
      "5 9 0.31                0.7409502262443438\n",
      "5 9 0.61                0.7409502262443438\n",
      "5 9 0.9099999999999999                0.7409502262443438\n",
      "5 9 1.21                0.7409502262443438\n",
      "5 9 1.51                0.7409502262443438\n",
      "5 9 1.8099999999999998                0.7409502262443438\n",
      "5 11 0.01                0.7385844748858447\n",
      "5 11 0.31                0.7371428571428572\n",
      "5 11 0.61                0.7371428571428572\n",
      "5 11 0.9099999999999999                0.7371428571428572\n",
      "5 11 1.21                0.7371428571428572\n",
      "5 11 1.51                0.7371428571428572\n",
      "5 11 1.8099999999999998                0.7371428571428572\n",
      "7 7 0.01                0.7153800824985268\n",
      "7 7 0.31                0.7312925170068028\n",
      "7 7 0.61                0.7312925170068028\n",
      "7 7 0.9099999999999999                0.7312925170068028\n",
      "7 7 1.21                0.7317073170731708\n",
      "7 7 1.51                0.7317073170731708\n",
      "7 7 1.8099999999999998                0.7317073170731708\n",
      "7 9 0.01                0.713867758923347\n",
      "7 9 0.31                0.712280701754386\n",
      "7 9 0.61                0.7134502923976609\n",
      "7 9 0.9099999999999999                0.7126974839087186\n",
      "7 9 1.21                0.7126974839087186\n",
      "7 9 1.51                0.7126974839087186\n",
      "7 9 1.8099999999999998                0.7126974839087186\n",
      "7 11 0.01                0.6967895362663497\n",
      "7 11 0.31                0.6957040572792363\n",
      "7 11 0.61                0.6957040572792363\n",
      "7 11 0.9099999999999999                0.6957040572792363\n",
      "7 11 1.21                0.6957040572792363\n",
      "7 11 1.51                0.6957040572792363\n",
      "7 11 1.8099999999999998                0.6957040572792363\n",
      "9 9 0.01                0.6637663144810442\n",
      "9 9 0.31                0.6787658802177859\n",
      "9 9 0.61                0.6791995148574894\n",
      "9 9 0.9099999999999999                0.6783767413688674\n",
      "9 9 1.21                0.6739526411657559\n",
      "9 9 1.51                0.6707242848447961\n",
      "9 9 1.8099999999999998                0.6691042047531993\n",
      "9 11 0.01                0.660505237215034\n",
      "9 11 0.31                0.6538936959208901\n",
      "9 11 0.61                0.6501240694789081\n",
      "9 11 0.9099999999999999                0.64625\n",
      "9 11 1.21                0.6397476340694006\n",
      "9 11 1.51                0.6375711574952561\n",
      "9 11 1.8099999999999998                0.6337135614702154\n",
      "11 11 0.01                0.6077419354838709\n",
      "11 11 0.31                0.6338116032439176\n",
      "11 11 0.61                0.6290726817042606\n",
      "11 11 0.9099999999999999                0.624685138539043\n",
      "11 11 1.21                0.6242118537200505\n",
      "11 11 1.51                0.6207332490518332\n",
      "11 11 1.8099999999999998                0.6187141947803946\n",
      "Wall time: 2h 52min 29s\n"
     ]
    }
   ],
   "source": [
    "%%time\n",
    "\n",
    "res = []\n",
    "indexes = []\n",
    "for i in range(1, 13, 2):\n",
    "    for j in range(i, 13, 2):\n",
    "        for C in np.arange(0.01, 2.1, 0.3):\n",
    "            print(i, j, C, end='                ')  # Для отслеживания прогресса\n",
    "            cnt_vec = CountVectorizer(tokenizer=optimized_tokenizer, ngram_range=(i, j), analyzer='char')\n",
    "            X_train = cnt_vec.fit_transform(text_train)\n",
    "            X_test  = cnt_vec.transform(text_test)\n",
    "\n",
    "            svm = SVC(kernel = 'linear', C=C)\n",
    "            svm.fit(X_train, train.target)\n",
    "            res.append(f1_score(test.target, svm.predict(X_test)))\n",
    "            indexes.append((i, j, C))\n",
    "            print(res[-1])"
   ]
  },
  {
   "cell_type": "code",
   "execution_count": 353,
   "metadata": {
    "scrolled": true
   },
   "outputs": [
    {
     "name": "stdout",
     "output_type": "stream",
     "text": [
      "1 1 0.01                0.602571268865288\n",
      "1 1 0.11                0.6080178173719376\n",
      "1 1 0.21000000000000002                0.6077777777777779\n",
      "1 1 0.31000000000000005                0.6064659977703456\n",
      "1 1 0.41000000000000003                0.6044692737430167\n",
      "1 1 0.51                0.6067039106145251\n",
      "1 1 0.6100000000000001                0.6062639821029082\n",
      "1 1 0.7100000000000001                0.605248464544947\n",
      "1 1 0.81                0.6045733407696597\n",
      "1 1 0.91                0.6045733407696597\n",
      "1 1 1.01                0.6041317699609156\n",
      "1 1 1.11                0.6049107142857142\n",
      "1 1 1.2100000000000002                0.6041317699609156\n",
      "1 1 1.31                0.6045733407696597\n",
      "1 1 1.4100000000000001                0.6048071548351034\n",
      "1 6 0.01                0.7416576964477933\n",
      "1 6 0.11                0.7390841320553779\n",
      "1 6 0.21000000000000002                0.7372340425531915\n",
      "1 6 0.31000000000000005                0.736954206602769\n",
      "1 6 0.41000000000000003                0.736954206602769\n",
      "1 6 0.51                0.736954206602769\n",
      "1 6 0.6100000000000001                0.736954206602769\n",
      "1 6 0.7100000000000001                0.736954206602769\n",
      "1 6 0.81                0.736954206602769\n",
      "1 6 0.91                0.736954206602769\n",
      "1 6 1.01                0.736954206602769\n",
      "1 6 1.11                0.736954206602769\n",
      "1 6 1.2100000000000002                0.736954206602769\n",
      "1 6 1.31                0.736954206602769\n",
      "1 6 1.4100000000000001                0.736954206602769\n",
      "1 11 0.01                0.7442371020856201\n",
      "1 11 0.11                0.7459105779716466\n",
      "1 11 0.21000000000000002                0.7459105779716466\n",
      "1 11 0.31000000000000005                0.7459105779716466\n",
      "1 11 0.41000000000000003                0.7459105779716466\n",
      "1 11 0.51                0.7459105779716466\n",
      "1 11 0.6100000000000001                0.7459105779716466\n",
      "1 11 0.7100000000000001                0.7459105779716466\n",
      "1 11 0.81                0.7459105779716466\n",
      "1 11 0.91                0.7459105779716466\n",
      "1 11 1.01                0.7459105779716466\n",
      "1 11 1.11                0.7459105779716466\n",
      "1 11 1.2100000000000002                0.7459105779716466\n",
      "1 11 1.31                0.7459105779716466\n",
      "1 11 1.4100000000000001                0.7459105779716466\n",
      "1 16 0.01                0.7450110864745011\n",
      "1 16 0.11                0.7445983379501385\n",
      "1 16 0.21000000000000002                0.7445983379501385\n",
      "1 16 0.31000000000000005                0.7445983379501385\n",
      "1 16 0.41000000000000003                0.7445983379501385\n",
      "1 16 0.51                0.7445983379501385\n",
      "1 16 0.6100000000000001                0.7445983379501385\n",
      "1 16 0.7100000000000001                0.7445983379501385\n",
      "1 16 0.81                0.7445983379501385\n",
      "1 16 0.91                0.7445983379501385\n",
      "1 16 1.01                0.7445983379501385\n",
      "1 16 1.11                0.7445983379501385\n",
      "1 16 1.2100000000000002                0.7445983379501385\n",
      "1 16 1.31                0.7445983379501385\n",
      "1 16 1.4100000000000001                0.7445983379501385\n",
      "1 21 0.01                0.7413600891861761\n",
      "1 21 0.11                0.7412353923205343\n",
      "1 21 0.21000000000000002                0.7412353923205343\n",
      "1 21 0.31000000000000005                0.7412353923205343\n",
      "1 21 0.41000000000000003                0.7412353923205343\n",
      "1 21 0.51                0.7412353923205343\n",
      "1 21 0.6100000000000001                0.7412353923205343\n",
      "1 21 0.7100000000000001                0.7412353923205343\n",
      "1 21 0.81                0.7412353923205343\n",
      "1 21 0.91                0.7412353923205343\n",
      "1 21 1.01                0.7412353923205343\n",
      "1 21 1.11                0.7412353923205343\n",
      "1 21 1.2100000000000002                0.7412353923205343\n",
      "1 21 1.31                0.7412353923205343\n",
      "1 21 1.4100000000000001                0.7412353923205343\n",
      "1 26 0.01                0.7368421052631579\n",
      "1 26 0.11                0.7386681589255736\n",
      "1 26 0.21000000000000002                0.7386681589255736\n",
      "1 26 0.31000000000000005                0.7386681589255736\n",
      "1 26 0.41000000000000003                0.7386681589255736\n",
      "1 26 0.51                0.7386681589255736\n",
      "1 26 0.6100000000000001                0.7386681589255736\n",
      "1 26 0.7100000000000001                0.7386681589255736\n",
      "1 26 0.81                0.7386681589255736\n",
      "1 26 0.91                0.7386681589255736\n",
      "1 26 1.01                0.7386681589255736\n",
      "1 26 1.11                0.7386681589255736\n",
      "1 26 1.2100000000000002                0.7386681589255736\n",
      "1 26 1.31                0.7386681589255736\n",
      "1 26 1.4100000000000001                0.7386681589255736\n",
      "3 3 0.01                0.7450331125827815\n",
      "3 3 0.11                0.7102803738317757\n",
      "3 3 0.21000000000000002                0.7122153209109731\n",
      "3 3 0.31000000000000005                0.7081832218219247\n",
      "3 3 0.41000000000000003                0.7075180226570545\n",
      "3 3 0.51                0.7078189300411523\n",
      "3 3 0.6100000000000001                0.7053388090349075\n",
      "3 3 0.7100000000000001                0.7040082219938336\n",
      "3 3 0.81                0.7026748971193415\n",
      "3 3 0.91                0.7033419023136247\n",
      "3 3 1.01                0.7033419023136247\n",
      "3 3 1.11                0.7037037037037036\n",
      "3 3 1.2100000000000002                0.7040082219938336\n",
      "3 3 1.31                0.7027863777089783\n",
      "3 3 1.4100000000000001                0.7038183694530444\n",
      "3 8 0.01                0.741511500547645\n",
      "3 8 0.11                0.7449481157837247\n",
      "3 8 0.21000000000000002                0.7450765864332605\n",
      "3 8 0.31000000000000005                0.7450765864332605\n",
      "3 8 0.41000000000000003                0.7450765864332605\n",
      "3 8 0.51                0.7450765864332605\n",
      "3 8 0.6100000000000001                0.7450765864332605\n",
      "3 8 0.7100000000000001                0.7450765864332605\n",
      "3 8 0.81                0.7450765864332605\n",
      "3 8 0.91                0.7450765864332605\n",
      "3 8 1.01                0.7450765864332605\n",
      "3 8 1.11                0.7450765864332605\n",
      "3 8 1.2100000000000002                0.7450765864332605\n",
      "3 8 1.31                0.7450765864332605\n",
      "3 8 1.4100000000000001                0.7450765864332605\n",
      "3 13 0.01                0.748040313549832\n",
      "3 13 0.11                0.7448352875488554\n",
      "3 13 0.21000000000000002                0.7448352875488554\n",
      "3 13 0.31000000000000005                0.7448352875488554\n",
      "3 13 0.41000000000000003                0.7448352875488554\n",
      "3 13 0.51                0.7448352875488554\n",
      "3 13 0.6100000000000001                0.7448352875488554\n",
      "3 13 0.7100000000000001                0.7448352875488554\n",
      "3 13 0.81                0.7448352875488554\n",
      "3 13 0.91                0.7448352875488554\n",
      "3 13 1.01                0.7448352875488554\n",
      "3 13 1.11                0.7448352875488554\n",
      "3 13 1.2100000000000002                0.7448352875488554\n",
      "3 13 1.31                0.7448352875488554\n",
      "3 13 1.4100000000000001                0.7448352875488554\n",
      "3 18 0.01                0.740193291642979\n",
      "3 18 0.11                0.7385138967668747\n",
      "3 18 0.21000000000000002                0.7385138967668747\n",
      "3 18 0.31000000000000005                0.7385138967668747\n",
      "3 18 0.41000000000000003                0.7385138967668747\n",
      "3 18 0.51                0.7385138967668747\n",
      "3 18 0.6100000000000001                0.7385138967668747\n",
      "3 18 0.7100000000000001                0.7385138967668747\n",
      "3 18 0.81                0.7385138967668747\n",
      "3 18 0.91                0.7385138967668747\n",
      "3 18 1.01                0.7385138967668747\n",
      "3 18 1.11                0.7385138967668747\n",
      "3 18 1.2100000000000002                0.7385138967668747\n",
      "3 18 1.31                0.7385138967668747\n",
      "3 18 1.4100000000000001                0.7385138967668747\n",
      "3 23 0.01                0.7381631488876211\n",
      "3 23 0.11                0.736482640865111\n",
      "3 23 0.21000000000000002                0.736482640865111\n",
      "3 23 0.31000000000000005                0.736482640865111\n",
      "3 23 0.41000000000000003                0.736482640865111\n",
      "3 23 0.51                0.736482640865111\n",
      "3 23 0.6100000000000001                0.736482640865111\n",
      "3 23 0.7100000000000001                0.736482640865111\n",
      "3 23 0.81                0.736482640865111\n",
      "3 23 0.91                0.736482640865111\n",
      "3 23 1.01                0.736482640865111\n",
      "3 23 1.11                0.736482640865111\n",
      "3 23 1.2100000000000002                0.736482640865111\n",
      "3 23 1.31                0.736482640865111\n",
      "3 23 1.4100000000000001                0.736482640865111\n",
      "3 28 0.01                0.7338709677419354\n",
      "3 28 0.11                0.7318757192174915\n",
      "3 28 0.21000000000000002                0.7318757192174915\n",
      "3 28 0.31000000000000005                0.7318757192174915\n",
      "3 28 0.41000000000000003                0.7318757192174915\n",
      "3 28 0.51                0.7318757192174915\n",
      "3 28 0.6100000000000001                0.7318757192174915\n",
      "3 28 0.7100000000000001                0.7318757192174915\n",
      "3 28 0.81                0.7318757192174915\n",
      "3 28 0.91                0.7318757192174915\n",
      "3 28 1.01                0.7318757192174915\n",
      "3 28 1.11                0.7318757192174915\n",
      "3 28 1.2100000000000002                0.7318757192174915\n",
      "3 28 1.31                0.7318757192174915\n",
      "3 28 1.4100000000000001                0.7318757192174915\n",
      "5 5 0.01                0.7478656801365964\n",
      "5 5 0.11                0.7412663755458514\n",
      "5 5 0.21000000000000002                0.7393675027262814\n",
      "5 5 0.31000000000000005                0.7392487751769189\n",
      "5 5 0.41000000000000003                0.7396514161220044\n",
      "5 5 0.51                0.7411444141689374\n",
      "5 5 0.6100000000000001                0.7410228509249185\n",
      "5 5 0.7100000000000001                0.7410228509249185\n",
      "5 5 0.81                0.7414262384322264\n",
      "5 5 0.91                0.7414262384322264\n",
      "5 5 1.01                0.7407407407407408\n",
      "5 5 1.11                0.7407407407407408\n",
      "5 5 1.2100000000000002                0.7407407407407408\n",
      "5 5 1.31                0.7411444141689374\n",
      "5 5 1.4100000000000001                0.7411444141689374\n",
      "5 10 0.01                0.7424673109721432\n",
      "5 10 0.11                0.7397727272727274\n",
      "5 10 0.21000000000000002                0.7397727272727274\n",
      "5 10 0.31000000000000005                0.7397727272727274\n",
      "5 10 0.41000000000000003                0.7397727272727274\n",
      "5 10 0.51                0.7397727272727274\n",
      "5 10 0.6100000000000001                0.7397727272727274\n",
      "5 10 0.7100000000000001                0.7397727272727274\n",
      "5 10 0.81                0.7397727272727274\n",
      "5 10 0.91                0.7397727272727274\n",
      "5 10 1.01                0.7397727272727274\n",
      "5 10 1.11                0.7397727272727274\n",
      "5 10 1.2100000000000002                0.7397727272727274\n",
      "5 10 1.31                0.7397727272727274\n",
      "5 10 1.4100000000000001                0.7397727272727274\n",
      "5 15 0.01                0.7254672897196262\n",
      "5 15 0.11                0.7229056824838898\n",
      "5 15 0.21000000000000002                0.7229056824838898\n",
      "5 15 0.31000000000000005                0.7229056824838898\n",
      "5 15 0.41000000000000003                0.7229056824838898\n",
      "5 15 0.51                0.7229056824838898\n",
      "5 15 0.6100000000000001                0.7229056824838898\n",
      "5 15 0.7100000000000001                0.7229056824838898\n",
      "5 15 0.81                0.7229056824838898\n",
      "5 15 0.91                0.7229056824838898\n",
      "5 15 1.01                0.7229056824838898\n",
      "5 15 1.11                0.7229056824838898\n",
      "5 15 1.2100000000000002                0.7229056824838898\n",
      "5 15 1.31                0.7229056824838898\n",
      "5 15 1.4100000000000001                0.7229056824838898\n",
      "5 20 0.01                0.716913946587537\n",
      "5 20 0.11                0.7088305489260143\n",
      "5 20 0.21000000000000002                0.7088305489260143\n",
      "5 20 0.31000000000000005                0.7088305489260143\n",
      "5 20 0.41000000000000003                0.7088305489260143\n",
      "5 20 0.51                0.7088305489260143\n",
      "5 20 0.6100000000000001                0.7088305489260143\n",
      "5 20 0.7100000000000001                0.7088305489260143\n",
      "5 20 0.81                0.7088305489260143\n",
      "5 20 0.91                0.7088305489260143\n",
      "5 20 1.01                0.7088305489260143\n",
      "5 20 1.11                0.7088305489260143\n",
      "5 20 1.2100000000000002                0.7088305489260143\n",
      "5 20 1.31                0.7088305489260143\n",
      "5 20 1.4100000000000001                0.7088305489260143\n",
      "5 25 0.01                0.6909532483302975\n",
      "5 25 0.11                0.6885644768856448\n",
      "5 25 0.21000000000000002                0.6885644768856448\n",
      "5 25 0.31000000000000005                0.6885644768856448\n",
      "5 25 0.41000000000000003                0.6885644768856448\n",
      "5 25 0.51                0.6885644768856448\n",
      "5 25 0.6100000000000001                0.6885644768856448\n",
      "5 25 0.7100000000000001                0.6885644768856448\n",
      "5 25 0.81                0.6885644768856448\n",
      "5 25 0.91                0.6885644768856448\n",
      "5 25 1.01                0.6885644768856448\n",
      "5 25 1.11                0.6885644768856448\n",
      "5 25 1.2100000000000002                0.6885644768856448\n",
      "5 25 1.31                0.6885644768856448\n",
      "5 25 1.4100000000000001                0.6885644768856448\n",
      "Wall time: 11h 8min 32s\n"
     ]
    }
   ],
   "source": [
    "%%time\n",
    "\n",
    "res1 = []\n",
    "indexes1 = []\n",
    "for i in range(1, 6, 2):\n",
    "    for j in range(i, 30, 5):\n",
    "        for C in np.arange(0.01, 1.5, 0.1):\n",
    "            print(i, j, C, end='                ') # Для отслеживания прогресса\n",
    "            cnt_vec = CountVectorizer(tokenizer=optimized_tokenizer, ngram_range=(i, j), analyzer='char')\n",
    "            X_train = cnt_vec.fit_transform(text_train)\n",
    "            X_test  = cnt_vec.transform(text_test)\n",
    "\n",
    "            svm = SVC(kernel = 'linear', C=C)\n",
    "            svm.fit(X_train, train.target)\n",
    "            res1.append(f1_score(test.target, svm.predict(X_test)))\n",
    "            indexes1.append((i, j, C))\n",
    "            print(res1[-1])"
   ]
  },
  {
   "cell_type": "code",
   "execution_count": 354,
   "metadata": {},
   "outputs": [
    {
     "data": {
      "text/plain": [
       "(3, 11, 0.01)"
      ]
     },
     "execution_count": 354,
     "metadata": {},
     "output_type": "execute_result"
    }
   ],
   "source": [
    "indexes[np.argmax(res)]"
   ]
  },
  {
   "cell_type": "code",
   "execution_count": 365,
   "metadata": {},
   "outputs": [
    {
     "name": "stdout",
     "output_type": "stream",
     "text": [
      "0.750694058856191\n"
     ]
    }
   ],
   "source": [
    "cnt_vec = CountVectorizer(tokenizer=optimized_tokenizer, ngram_range=(3, 11), analyzer='char')\n",
    "X_train = cnt_vec.fit_transform(text_train)\n",
    "X_test  = cnt_vec.transform(text_test)\n",
    "\n",
    "svm = SVC(kernel = 'linear', C=0.01)\n",
    "svm.fit(X_train, train.target)\n",
    "print(f1_score(test.target, svm.predict(X_test)))"
   ]
  },
  {
   "cell_type": "code",
   "execution_count": 366,
   "metadata": {},
   "outputs": [
    {
     "data": {
      "text/plain": [
       "(3, 13, 0.01)"
      ]
     },
     "execution_count": 366,
     "metadata": {},
     "output_type": "execute_result"
    }
   ],
   "source": [
    "indexes1[np.argmax(res1)]"
   ]
  },
  {
   "cell_type": "code",
   "execution_count": 367,
   "metadata": {},
   "outputs": [
    {
     "name": "stdout",
     "output_type": "stream",
     "text": [
      "0.748040313549832\n"
     ]
    }
   ],
   "source": [
    "cnt_vec = CountVectorizer(tokenizer=optimized_tokenizer, ngram_range=(3, 13), analyzer='char')\n",
    "X_train = cnt_vec.fit_transform(text_train)\n",
    "X_test  = cnt_vec.transform(text_test)\n",
    "\n",
    "svm = SVC(kernel = 'linear', C=0.01)\n",
    "svm.fit(X_train, train.target)\n",
    "print(f1_score(test.target, svm.predict(X_test)))"
   ]
  },
  {
   "cell_type": "markdown",
   "metadata": {},
   "source": [
    "Получаем, что логистическая регрессия чуть более хороша в символьных $n$-граммах"
   ]
  },
  {
   "cell_type": "markdown",
   "metadata": {},
   "source": [
    "> Таким образом, нам вновь не удаётся добиться лучшего результата. "
   ]
  }
 ],
 "metadata": {
  "kernelspec": {
   "display_name": "Python 3",
   "language": "python",
   "name": "python3"
  },
  "language_info": {
   "codemirror_mode": {
    "name": "ipython",
    "version": 3
   },
   "file_extension": ".py",
   "mimetype": "text/x-python",
   "name": "python",
   "nbconvert_exporter": "python",
   "pygments_lexer": "ipython3",
   "version": "3.8.8"
  }
 },
 "nbformat": 4,
 "nbformat_minor": 2
}
